{
 "cells": [
  {
   "cell_type": "markdown",
   "metadata": {},
   "source": [
    "# IMPORTING LIBRARIES"
   ]
  },
  {
   "cell_type": "code",
   "execution_count": 4,
   "metadata": {},
   "outputs": [
    {
     "name": "stdout",
     "output_type": "stream",
     "text": [
      "Requirement already satisfied: pytrends in /Users/carlamoestafa/opt/anaconda3/lib/python3.8/site-packages (4.7.3)\n",
      "Requirement already satisfied: lxml in /Users/carlamoestafa/opt/anaconda3/lib/python3.8/site-packages (from pytrends) (4.5.2)\n",
      "Requirement already satisfied: requests in /Users/carlamoestafa/opt/anaconda3/lib/python3.8/site-packages (from pytrends) (2.24.0)\n",
      "Requirement already satisfied: pandas>=0.25 in /Users/carlamoestafa/opt/anaconda3/lib/python3.8/site-packages (from pytrends) (1.0.5)\n",
      "Requirement already satisfied: certifi>=2017.4.17 in /Users/carlamoestafa/opt/anaconda3/lib/python3.8/site-packages (from requests->pytrends) (2020.6.20)\n",
      "Requirement already satisfied: chardet<4,>=3.0.2 in /Users/carlamoestafa/opt/anaconda3/lib/python3.8/site-packages (from requests->pytrends) (3.0.4)\n",
      "Requirement already satisfied: idna<3,>=2.5 in /Users/carlamoestafa/opt/anaconda3/lib/python3.8/site-packages (from requests->pytrends) (2.10)\n",
      "Requirement already satisfied: urllib3!=1.25.0,!=1.25.1,<1.26,>=1.21.1 in /Users/carlamoestafa/opt/anaconda3/lib/python3.8/site-packages (from requests->pytrends) (1.25.9)\n",
      "Requirement already satisfied: pytz>=2017.2 in /Users/carlamoestafa/opt/anaconda3/lib/python3.8/site-packages (from pandas>=0.25->pytrends) (2020.1)\n",
      "Requirement already satisfied: numpy>=1.13.3 in /Users/carlamoestafa/opt/anaconda3/lib/python3.8/site-packages (from pandas>=0.25->pytrends) (1.18.5)\n",
      "Requirement already satisfied: python-dateutil>=2.6.1 in /Users/carlamoestafa/opt/anaconda3/lib/python3.8/site-packages (from pandas>=0.25->pytrends) (2.8.1)\n",
      "Requirement already satisfied: six>=1.5 in /Users/carlamoestafa/opt/anaconda3/lib/python3.8/site-packages (from python-dateutil>=2.6.1->pandas>=0.25->pytrends) (1.15.0)\n"
     ]
    }
   ],
   "source": [
    "# import libraries\n",
    "\n",
    "import pandas as pd\n",
    "import requests\n",
    "import json\n",
    "import numpy as np\n",
    "from datetime import datetime\n",
    "import matplotlib.pyplot as plt\n",
    "import seaborn as sns\n",
    "%matplotlib inline\n",
    "!pip install pytrends\n",
    "from pytrends.request import TrendReq"
   ]
  },
  {
   "cell_type": "markdown",
   "metadata": {},
   "source": [
    "# ACQUIRING DATA"
   ]
  },
  {
   "cell_type": "markdown",
   "metadata": {},
   "source": [
    "## GoogleTrends Data"
   ]
  },
  {
   "cell_type": "code",
   "execution_count": 11,
   "metadata": {},
   "outputs": [
    {
     "data": {
      "text/html": [
       "<div>\n",
       "<style scoped>\n",
       "    .dataframe tbody tr th:only-of-type {\n",
       "        vertical-align: middle;\n",
       "    }\n",
       "\n",
       "    .dataframe tbody tr th {\n",
       "        vertical-align: top;\n",
       "    }\n",
       "\n",
       "    .dataframe thead th {\n",
       "        text-align: right;\n",
       "    }\n",
       "</style>\n",
       "<table border=\"1\" class=\"dataframe\">\n",
       "  <thead>\n",
       "    <tr style=\"text-align: right;\">\n",
       "      <th></th>\n",
       "      <th>vegan</th>\n",
       "      <th>isPartial</th>\n",
       "    </tr>\n",
       "    <tr>\n",
       "      <th>date</th>\n",
       "      <th></th>\n",
       "      <th></th>\n",
       "    </tr>\n",
       "  </thead>\n",
       "  <tbody>\n",
       "    <tr>\n",
       "      <th>2020-10-13</th>\n",
       "      <td>39</td>\n",
       "      <td>False</td>\n",
       "    </tr>\n",
       "    <tr>\n",
       "      <th>2020-10-14</th>\n",
       "      <td>58</td>\n",
       "      <td>False</td>\n",
       "    </tr>\n",
       "    <tr>\n",
       "      <th>2020-10-15</th>\n",
       "      <td>60</td>\n",
       "      <td>False</td>\n",
       "    </tr>\n",
       "    <tr>\n",
       "      <th>2020-10-16</th>\n",
       "      <td>60</td>\n",
       "      <td>False</td>\n",
       "    </tr>\n",
       "    <tr>\n",
       "      <th>2020-10-17</th>\n",
       "      <td>62</td>\n",
       "      <td>False</td>\n",
       "    </tr>\n",
       "    <tr>\n",
       "      <th>...</th>\n",
       "      <td>...</td>\n",
       "      <td>...</td>\n",
       "    </tr>\n",
       "    <tr>\n",
       "      <th>2021-01-06</th>\n",
       "      <td>41</td>\n",
       "      <td>False</td>\n",
       "    </tr>\n",
       "    <tr>\n",
       "      <th>2021-01-07</th>\n",
       "      <td>20</td>\n",
       "      <td>False</td>\n",
       "    </tr>\n",
       "    <tr>\n",
       "      <th>2021-01-08</th>\n",
       "      <td>63</td>\n",
       "      <td>False</td>\n",
       "    </tr>\n",
       "    <tr>\n",
       "      <th>2021-01-09</th>\n",
       "      <td>91</td>\n",
       "      <td>False</td>\n",
       "    </tr>\n",
       "    <tr>\n",
       "      <th>2021-01-10</th>\n",
       "      <td>0</td>\n",
       "      <td>False</td>\n",
       "    </tr>\n",
       "  </tbody>\n",
       "</table>\n",
       "<p>90 rows × 2 columns</p>\n",
       "</div>"
      ],
      "text/plain": [
       "            vegan  isPartial\n",
       "date                        \n",
       "2020-10-13     39      False\n",
       "2020-10-14     58      False\n",
       "2020-10-15     60      False\n",
       "2020-10-16     60      False\n",
       "2020-10-17     62      False\n",
       "...           ...        ...\n",
       "2021-01-06     41      False\n",
       "2021-01-07     20      False\n",
       "2021-01-08     63      False\n",
       "2021-01-09     91      False\n",
       "2021-01-10      0      False\n",
       "\n",
       "[90 rows x 2 columns]"
      ]
     },
     "execution_count": 11,
     "metadata": {},
     "output_type": "execute_result"
    }
   ],
   "source": [
    "pytrend = TrendReq(hl='en-US', tz=360)\n",
    "keywords = ['vegan']\n",
    "pytrend.build_payload(\n",
    "     kw_list=keywords,\n",
    "     cat=0,\n",
    "     timeframe='today 3-m',\n",
    "     geo='TW',\n",
    "     gprop='')\n",
    "data = pytrend.interest_over_time()\n",
    "data.to_csv('vegan.csv', encoding='utf_8_sig')\n",
    "data"
   ]
  },
  {
   "cell_type": "markdown",
   "metadata": {},
   "source": [
    "## OECD Data"
   ]
  },
  {
   "cell_type": "code",
   "execution_count": null,
   "metadata": {},
   "outputs": [],
   "source": []
  },
  {
   "cell_type": "markdown",
   "metadata": {},
   "source": [
    "# EDA"
   ]
  },
  {
   "cell_type": "code",
   "execution_count": null,
   "metadata": {},
   "outputs": [],
   "source": []
  },
  {
   "cell_type": "code",
   "execution_count": null,
   "metadata": {},
   "outputs": [],
   "source": []
  }
 ],
 "metadata": {
  "kernelspec": {
   "display_name": "Python 3",
   "language": "python",
   "name": "python3"
  },
  "language_info": {
   "codemirror_mode": {
    "name": "ipython",
    "version": 3
   },
   "file_extension": ".py",
   "mimetype": "text/x-python",
   "name": "python",
   "nbconvert_exporter": "python",
   "pygments_lexer": "ipython3",
   "version": "3.8.3"
  }
 },
 "nbformat": 4,
 "nbformat_minor": 4
}
