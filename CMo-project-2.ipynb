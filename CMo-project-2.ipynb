{
 "cells": [
  {
   "cell_type": "markdown",
   "metadata": {},
   "source": [
    "# IMPORTING LIBRARIES"
   ]
  },
  {
   "cell_type": "code",
   "execution_count": 1,
   "metadata": {},
   "outputs": [
    {
     "name": "stdout",
     "output_type": "stream",
     "text": [
      "Requirement already satisfied: pytrends in /Users/carlamoestafa/opt/anaconda3/lib/python3.8/site-packages (4.7.3)\n",
      "Requirement already satisfied: requests in /Users/carlamoestafa/opt/anaconda3/lib/python3.8/site-packages (from pytrends) (2.24.0)\n",
      "Requirement already satisfied: lxml in /Users/carlamoestafa/opt/anaconda3/lib/python3.8/site-packages (from pytrends) (4.5.2)\n",
      "Requirement already satisfied: pandas>=0.25 in /Users/carlamoestafa/opt/anaconda3/lib/python3.8/site-packages (from pytrends) (1.0.5)\n",
      "Requirement already satisfied: chardet<4,>=3.0.2 in /Users/carlamoestafa/opt/anaconda3/lib/python3.8/site-packages (from requests->pytrends) (3.0.4)\n",
      "Requirement already satisfied: certifi>=2017.4.17 in /Users/carlamoestafa/opt/anaconda3/lib/python3.8/site-packages (from requests->pytrends) (2020.6.20)\n",
      "Requirement already satisfied: urllib3!=1.25.0,!=1.25.1,<1.26,>=1.21.1 in /Users/carlamoestafa/opt/anaconda3/lib/python3.8/site-packages (from requests->pytrends) (1.25.9)\n",
      "Requirement already satisfied: idna<3,>=2.5 in /Users/carlamoestafa/opt/anaconda3/lib/python3.8/site-packages (from requests->pytrends) (2.10)\n",
      "Requirement already satisfied: python-dateutil>=2.6.1 in /Users/carlamoestafa/opt/anaconda3/lib/python3.8/site-packages (from pandas>=0.25->pytrends) (2.8.1)\n",
      "Requirement already satisfied: numpy>=1.13.3 in /Users/carlamoestafa/opt/anaconda3/lib/python3.8/site-packages (from pandas>=0.25->pytrends) (1.18.5)\n",
      "Requirement already satisfied: pytz>=2017.2 in /Users/carlamoestafa/opt/anaconda3/lib/python3.8/site-packages (from pandas>=0.25->pytrends) (2020.1)\n",
      "Requirement already satisfied: six>=1.5 in /Users/carlamoestafa/opt/anaconda3/lib/python3.8/site-packages (from python-dateutil>=2.6.1->pandas>=0.25->pytrends) (1.15.0)\n"
     ]
    }
   ],
   "source": [
    "# import libraries\n",
    "\n",
    "import pandas as pd\n",
    "import requests\n",
    "import json\n",
    "import numpy as np\n",
    "from datetime import datetime\n",
    "import matplotlib.pyplot as plt\n",
    "import seaborn as sns\n",
    "%matplotlib inline\n",
    "!pip install pytrends\n",
    "from pytrends.request import TrendReq\n",
    "from bs4 import BeautifulSoup\n",
    "import requests"
   ]
  },
  {
   "cell_type": "markdown",
   "metadata": {},
   "source": [
    "# ACQUIRING DATA"
   ]
  },
  {
   "cell_type": "markdown",
   "metadata": {},
   "source": [
    "## GoogleTrends Data"
   ]
  },
  {
   "cell_type": "markdown",
   "metadata": {},
   "source": [
    "## OECD Data"
   ]
  },
  {
   "cell_type": "code",
   "execution_count": 4,
   "metadata": {},
   "outputs": [
    {
     "data": {
      "text/plain": [
       "200"
      ]
     },
     "execution_count": 4,
     "metadata": {},
     "output_type": "execute_result"
    }
   ],
   "source": [
    "url = 'https://www.fiaformula2.com' \n",
    "\n",
    "response = requests.get(url)\n",
    "response.status_code"
   ]
  },
  {
   "cell_type": "code",
   "execution_count": null,
   "metadata": {},
   "outputs": [],
   "source": [
    "response.text[:1000]"
   ]
  },
  {
   "cell_type": "code",
   "execution_count": null,
   "metadata": {},
   "outputs": [],
   "source": [
    "page = response.text"
   ]
  },
  {
   "cell_type": "code",
   "execution_count": null,
   "metadata": {},
   "outputs": [],
   "source": [
    "soup = BeautifulSoup(page, \"lxml\")"
   ]
  },
  {
   "cell_type": "code",
   "execution_count": null,
   "metadata": {},
   "outputs": [],
   "source": [
    "print(soup)"
   ]
  },
  {
   "cell_type": "code",
   "execution_count": null,
   "metadata": {},
   "outputs": [],
   "source": [
    "print(soup.prettify())"
   ]
  },
  {
   "cell_type": "code",
   "execution_count": null,
   "metadata": {},
   "outputs": [],
   "source": [
    "for link in soup.find_all('a')[:5]:\n",
    "    print(link, '\\n')"
   ]
  },
  {
   "cell_type": "code",
   "execution_count": null,
   "metadata": {},
   "outputs": [],
   "source": [
    "for element in soup.find_all(class_='description'):\n",
    "    print(element.prettify())"
   ]
  },
  {
   "cell_type": "code",
   "execution_count": null,
   "metadata": {},
   "outputs": [],
   "source": [
    "for element in soup.find_all(class_='country profile'):\n",
    "    print(element.prettify())"
   ]
  },
  {
   "cell_type": "code",
   "execution_count": null,
   "metadata": {},
   "outputs": [],
   "source": []
  }
 ],
 "metadata": {
  "kernelspec": {
   "display_name": "Python 3",
   "language": "python",
   "name": "python3"
  },
  "language_info": {
   "codemirror_mode": {
    "name": "ipython",
    "version": 3
   },
   "file_extension": ".py",
   "mimetype": "text/x-python",
   "name": "python",
   "nbconvert_exporter": "python",
   "pygments_lexer": "ipython3",
   "version": "3.8.3"
  }
 },
 "nbformat": 4,
 "nbformat_minor": 4
}
