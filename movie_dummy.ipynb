{
 "cells": [
  {
   "cell_type": "code",
   "execution_count": 1,
   "metadata": {},
   "outputs": [],
   "source": [
    "import pandas as pd\n",
    "import numpy as np\n",
    "import statsmodels.api as sm\n",
    "import statsmodels.formula.api as smf\n",
    "import patsy\n",
    "\n",
    "import seaborn as sns\n",
    "\n",
    "from sklearn.linear_model import LinearRegression\n",
    "from sklearn.linear_model import RidgeCV\n",
    "from sklearn.model_selection import train_test_split\n",
    "from sklearn.preprocessing import PolynomialFeatures\n",
    "from sklearn.pipeline import make_pipeline\n",
    "from sklearn.metrics import mean_squared_error\n",
    "#from sklearn.externals import joblib\n",
    "\n",
    "import matplotlib.pyplot as plt\n",
    "%matplotlib inline\n"
   ]
  },
  {
   "cell_type": "markdown",
   "metadata": {},
   "source": [
    "# EDA"
   ]
  },
  {
   "cell_type": "code",
   "execution_count": 2,
   "metadata": {},
   "outputs": [],
   "source": [
    "datafile = 'mojo_data.csv'\n",
    "df = pd.read_csv(datafile, index_col=0)"
   ]
  },
  {
   "cell_type": "code",
   "execution_count": 3,
   "metadata": {},
   "outputs": [
    {
     "name": "stdout",
     "output_type": "stream",
     "text": [
      "<class 'pandas.core.frame.DataFrame'>\n",
      "Int64Index: 996 entries, 0 to 199\n",
      "Data columns (total 16 columns):\n",
      " #   Column                  Non-Null Count  Dtype  \n",
      "---  ------                  --------------  -----  \n",
      " 0   Unnamed: 0.1            996 non-null    object \n",
      " 1   link_stub               996 non-null    object \n",
      " 2   rank                    996 non-null    object \n",
      " 3   title                   996 non-null    object \n",
      " 4   domestic_gross_x        996 non-null    object \n",
      " 5   release_year            996 non-null    int64  \n",
      " 6   domestic_opening_gross  996 non-null    int64  \n",
      " 7   budget                  996 non-null    int64  \n",
      " 8   domestic_gross_y        996 non-null    int64  \n",
      " 9   international_gross     996 non-null    int64  \n",
      " 10  worldwide_gross         996 non-null    int64  \n",
      " 11  runtime_minutes         975 non-null    float64\n",
      " 12  rating                  867 non-null    object \n",
      " 13  release_month           996 non-null    int64  \n",
      " 14  release_date            996 non-null    object \n",
      " 15  genres                  996 non-null    object \n",
      "dtypes: float64(1), int64(7), object(8)\n",
      "memory usage: 132.3+ KB\n"
     ]
    }
   ],
   "source": [
    "df.info()"
   ]
  },
  {
   "cell_type": "code",
   "execution_count": 4,
   "metadata": {
    "scrolled": true
   },
   "outputs": [
    {
     "data": {
      "text/html": [
       "<div>\n",
       "<style scoped>\n",
       "    .dataframe tbody tr th:only-of-type {\n",
       "        vertical-align: middle;\n",
       "    }\n",
       "\n",
       "    .dataframe tbody tr th {\n",
       "        vertical-align: top;\n",
       "    }\n",
       "\n",
       "    .dataframe thead th {\n",
       "        text-align: right;\n",
       "    }\n",
       "</style>\n",
       "<table border=\"1\" class=\"dataframe\">\n",
       "  <thead>\n",
       "    <tr style=\"text-align: right;\">\n",
       "      <th></th>\n",
       "      <th>movie_title</th>\n",
       "      <th>link_stub</th>\n",
       "      <th>rank</th>\n",
       "      <th>title</th>\n",
       "      <th>domestic_gross_x</th>\n",
       "      <th>release_year</th>\n",
       "      <th>domestic_opening_gross</th>\n",
       "      <th>budget</th>\n",
       "      <th>domestic_gross_y</th>\n",
       "      <th>international_gross</th>\n",
       "      <th>worldwide_gross</th>\n",
       "      <th>runtime_minutes</th>\n",
       "      <th>rating</th>\n",
       "      <th>release_month</th>\n",
       "      <th>release_date</th>\n",
       "      <th>genres</th>\n",
       "    </tr>\n",
       "  </thead>\n",
       "  <tbody>\n",
       "    <tr>\n",
       "      <th>0</th>\n",
       "      <td>Star Wars: Episode VII - The Force Awakens</td>\n",
       "      <td>/title/tt2488496/?ref_=bo_cso_table_1</td>\n",
       "      <td>1</td>\n",
       "      <td>Star Wars: Episode VII - The Force Awakens</td>\n",
       "      <td>$936,662,225</td>\n",
       "      <td>2015</td>\n",
       "      <td>247966675</td>\n",
       "      <td>245000000</td>\n",
       "      <td>936662225</td>\n",
       "      <td>1131791908</td>\n",
       "      <td>2068454133</td>\n",
       "      <td>138.0</td>\n",
       "      <td>PG-13</td>\n",
       "      <td>12</td>\n",
       "      <td>2015-12-16</td>\n",
       "      <td>['Action', 'Adventure', 'Sci-Fi']</td>\n",
       "    </tr>\n",
       "    <tr>\n",
       "      <th>1</th>\n",
       "      <td>Avengers: Endgame</td>\n",
       "      <td>/title/tt4154796/?ref_=bo_cso_table_2</td>\n",
       "      <td>2</td>\n",
       "      <td>Avengers: Endgame</td>\n",
       "      <td>$858,373,000</td>\n",
       "      <td>2019</td>\n",
       "      <td>357115007</td>\n",
       "      <td>356000000</td>\n",
       "      <td>858373000</td>\n",
       "      <td>1939427564</td>\n",
       "      <td>2797800564</td>\n",
       "      <td>181.0</td>\n",
       "      <td>PG-13</td>\n",
       "      <td>4</td>\n",
       "      <td>2019-04-24</td>\n",
       "      <td>['Action', 'Adventure', 'Drama', 'Sci-Fi']</td>\n",
       "    </tr>\n",
       "  </tbody>\n",
       "</table>\n",
       "</div>"
      ],
      "text/plain": [
       "                                  movie_title  \\\n",
       "0  Star Wars: Episode VII - The Force Awakens   \n",
       "1                           Avengers: Endgame   \n",
       "\n",
       "                               link_stub rank  \\\n",
       "0  /title/tt2488496/?ref_=bo_cso_table_1    1   \n",
       "1  /title/tt4154796/?ref_=bo_cso_table_2    2   \n",
       "\n",
       "                                        title domestic_gross_x  release_year  \\\n",
       "0  Star Wars: Episode VII - The Force Awakens     $936,662,225          2015   \n",
       "1                           Avengers: Endgame     $858,373,000          2019   \n",
       "\n",
       "   domestic_opening_gross     budget  domestic_gross_y  international_gross  \\\n",
       "0               247966675  245000000         936662225           1131791908   \n",
       "1               357115007  356000000         858373000           1939427564   \n",
       "\n",
       "   worldwide_gross  runtime_minutes rating  release_month release_date  \\\n",
       "0       2068454133            138.0  PG-13             12   2015-12-16   \n",
       "1       2797800564            181.0  PG-13              4   2019-04-24   \n",
       "\n",
       "                                       genres  \n",
       "0           ['Action', 'Adventure', 'Sci-Fi']  \n",
       "1  ['Action', 'Adventure', 'Drama', 'Sci-Fi']  "
      ]
     },
     "execution_count": 4,
     "metadata": {},
     "output_type": "execute_result"
    }
   ],
   "source": [
    "df.rename( columns={'Unnamed: 0.1':'movie_title'}, inplace=True )\n",
    "df.head(2)"
   ]
  },
  {
   "cell_type": "code",
   "execution_count": 5,
   "metadata": {},
   "outputs": [],
   "source": [
    "df.index = np.arange(1, len(df) + 1)"
   ]
  },
  {
   "cell_type": "code",
   "execution_count": 6,
   "metadata": {},
   "outputs": [
    {
     "data": {
      "text/html": [
       "<div>\n",
       "<style scoped>\n",
       "    .dataframe tbody tr th:only-of-type {\n",
       "        vertical-align: middle;\n",
       "    }\n",
       "\n",
       "    .dataframe tbody tr th {\n",
       "        vertical-align: top;\n",
       "    }\n",
       "\n",
       "    .dataframe thead th {\n",
       "        text-align: right;\n",
       "    }\n",
       "</style>\n",
       "<table border=\"1\" class=\"dataframe\">\n",
       "  <thead>\n",
       "    <tr style=\"text-align: right;\">\n",
       "      <th></th>\n",
       "      <th>movie_title</th>\n",
       "      <th>link_stub</th>\n",
       "      <th>rank</th>\n",
       "      <th>title</th>\n",
       "      <th>domestic_gross_x</th>\n",
       "      <th>release_year</th>\n",
       "      <th>domestic_opening_gross</th>\n",
       "      <th>budget</th>\n",
       "      <th>domestic_gross_y</th>\n",
       "      <th>international_gross</th>\n",
       "      <th>worldwide_gross</th>\n",
       "      <th>runtime_minutes</th>\n",
       "      <th>rating</th>\n",
       "      <th>release_month</th>\n",
       "      <th>release_date</th>\n",
       "      <th>genres</th>\n",
       "    </tr>\n",
       "  </thead>\n",
       "  <tbody>\n",
       "    <tr>\n",
       "      <th>1</th>\n",
       "      <td>Star Wars: Episode VII - The Force Awakens</td>\n",
       "      <td>/title/tt2488496/?ref_=bo_cso_table_1</td>\n",
       "      <td>1</td>\n",
       "      <td>Star Wars: Episode VII - The Force Awakens</td>\n",
       "      <td>$936,662,225</td>\n",
       "      <td>2015</td>\n",
       "      <td>247966675</td>\n",
       "      <td>245000000</td>\n",
       "      <td>936662225</td>\n",
       "      <td>1131791908</td>\n",
       "      <td>2068454133</td>\n",
       "      <td>138.0</td>\n",
       "      <td>PG-13</td>\n",
       "      <td>12</td>\n",
       "      <td>2015-12-16</td>\n",
       "      <td>['Action', 'Adventure', 'Sci-Fi']</td>\n",
       "    </tr>\n",
       "    <tr>\n",
       "      <th>2</th>\n",
       "      <td>Avengers: Endgame</td>\n",
       "      <td>/title/tt4154796/?ref_=bo_cso_table_2</td>\n",
       "      <td>2</td>\n",
       "      <td>Avengers: Endgame</td>\n",
       "      <td>$858,373,000</td>\n",
       "      <td>2019</td>\n",
       "      <td>357115007</td>\n",
       "      <td>356000000</td>\n",
       "      <td>858373000</td>\n",
       "      <td>1939427564</td>\n",
       "      <td>2797800564</td>\n",
       "      <td>181.0</td>\n",
       "      <td>PG-13</td>\n",
       "      <td>4</td>\n",
       "      <td>2019-04-24</td>\n",
       "      <td>['Action', 'Adventure', 'Drama', 'Sci-Fi']</td>\n",
       "    </tr>\n",
       "  </tbody>\n",
       "</table>\n",
       "</div>"
      ],
      "text/plain": [
       "                                  movie_title  \\\n",
       "1  Star Wars: Episode VII - The Force Awakens   \n",
       "2                           Avengers: Endgame   \n",
       "\n",
       "                               link_stub rank  \\\n",
       "1  /title/tt2488496/?ref_=bo_cso_table_1    1   \n",
       "2  /title/tt4154796/?ref_=bo_cso_table_2    2   \n",
       "\n",
       "                                        title domestic_gross_x  release_year  \\\n",
       "1  Star Wars: Episode VII - The Force Awakens     $936,662,225          2015   \n",
       "2                           Avengers: Endgame     $858,373,000          2019   \n",
       "\n",
       "   domestic_opening_gross     budget  domestic_gross_y  international_gross  \\\n",
       "1               247966675  245000000         936662225           1131791908   \n",
       "2               357115007  356000000         858373000           1939427564   \n",
       "\n",
       "   worldwide_gross  runtime_minutes rating  release_month release_date  \\\n",
       "1       2068454133            138.0  PG-13             12   2015-12-16   \n",
       "2       2797800564            181.0  PG-13              4   2019-04-24   \n",
       "\n",
       "                                       genres  \n",
       "1           ['Action', 'Adventure', 'Sci-Fi']  \n",
       "2  ['Action', 'Adventure', 'Drama', 'Sci-Fi']  "
      ]
     },
     "execution_count": 6,
     "metadata": {},
     "output_type": "execute_result"
    }
   ],
   "source": [
    "df.head(2)"
   ]
  },
  {
   "cell_type": "code",
   "execution_count": 7,
   "metadata": {},
   "outputs": [],
   "source": [
    "df.drop(['link_stub'], axis=1, inplace = True)"
   ]
  },
  {
   "cell_type": "code",
   "execution_count": 8,
   "metadata": {},
   "outputs": [
    {
     "data": {
      "text/html": [
       "<div>\n",
       "<style scoped>\n",
       "    .dataframe tbody tr th:only-of-type {\n",
       "        vertical-align: middle;\n",
       "    }\n",
       "\n",
       "    .dataframe tbody tr th {\n",
       "        vertical-align: top;\n",
       "    }\n",
       "\n",
       "    .dataframe thead th {\n",
       "        text-align: right;\n",
       "    }\n",
       "</style>\n",
       "<table border=\"1\" class=\"dataframe\">\n",
       "  <thead>\n",
       "    <tr style=\"text-align: right;\">\n",
       "      <th></th>\n",
       "      <th>movie_title</th>\n",
       "      <th>rank</th>\n",
       "      <th>title</th>\n",
       "      <th>domestic_gross_x</th>\n",
       "      <th>release_year</th>\n",
       "      <th>domestic_opening_gross</th>\n",
       "      <th>budget</th>\n",
       "      <th>domestic_gross_y</th>\n",
       "      <th>international_gross</th>\n",
       "      <th>worldwide_gross</th>\n",
       "      <th>runtime_minutes</th>\n",
       "      <th>rating</th>\n",
       "      <th>release_month</th>\n",
       "      <th>release_date</th>\n",
       "      <th>genres</th>\n",
       "    </tr>\n",
       "  </thead>\n",
       "  <tbody>\n",
       "    <tr>\n",
       "      <th>1</th>\n",
       "      <td>Star Wars: Episode VII - The Force Awakens</td>\n",
       "      <td>1</td>\n",
       "      <td>Star Wars: Episode VII - The Force Awakens</td>\n",
       "      <td>$936,662,225</td>\n",
       "      <td>2015</td>\n",
       "      <td>247966675</td>\n",
       "      <td>245000000</td>\n",
       "      <td>936662225</td>\n",
       "      <td>1131791908</td>\n",
       "      <td>2068454133</td>\n",
       "      <td>138.0</td>\n",
       "      <td>PG-13</td>\n",
       "      <td>12</td>\n",
       "      <td>2015-12-16</td>\n",
       "      <td>['Action', 'Adventure', 'Sci-Fi']</td>\n",
       "    </tr>\n",
       "    <tr>\n",
       "      <th>2</th>\n",
       "      <td>Avengers: Endgame</td>\n",
       "      <td>2</td>\n",
       "      <td>Avengers: Endgame</td>\n",
       "      <td>$858,373,000</td>\n",
       "      <td>2019</td>\n",
       "      <td>357115007</td>\n",
       "      <td>356000000</td>\n",
       "      <td>858373000</td>\n",
       "      <td>1939427564</td>\n",
       "      <td>2797800564</td>\n",
       "      <td>181.0</td>\n",
       "      <td>PG-13</td>\n",
       "      <td>4</td>\n",
       "      <td>2019-04-24</td>\n",
       "      <td>['Action', 'Adventure', 'Drama', 'Sci-Fi']</td>\n",
       "    </tr>\n",
       "  </tbody>\n",
       "</table>\n",
       "</div>"
      ],
      "text/plain": [
       "                                  movie_title rank  \\\n",
       "1  Star Wars: Episode VII - The Force Awakens    1   \n",
       "2                           Avengers: Endgame    2   \n",
       "\n",
       "                                        title domestic_gross_x  release_year  \\\n",
       "1  Star Wars: Episode VII - The Force Awakens     $936,662,225          2015   \n",
       "2                           Avengers: Endgame     $858,373,000          2019   \n",
       "\n",
       "   domestic_opening_gross     budget  domestic_gross_y  international_gross  \\\n",
       "1               247966675  245000000         936662225           1131791908   \n",
       "2               357115007  356000000         858373000           1939427564   \n",
       "\n",
       "   worldwide_gross  runtime_minutes rating  release_month release_date  \\\n",
       "1       2068454133            138.0  PG-13             12   2015-12-16   \n",
       "2       2797800564            181.0  PG-13              4   2019-04-24   \n",
       "\n",
       "                                       genres  \n",
       "1           ['Action', 'Adventure', 'Sci-Fi']  \n",
       "2  ['Action', 'Adventure', 'Drama', 'Sci-Fi']  "
      ]
     },
     "execution_count": 8,
     "metadata": {},
     "output_type": "execute_result"
    }
   ],
   "source": [
    "df.head(2)"
   ]
  },
  {
   "cell_type": "code",
   "execution_count": 9,
   "metadata": {},
   "outputs": [],
   "source": [
    "df.drop(['domestic_gross_x'], axis=1, inplace = True)"
   ]
  },
  {
   "cell_type": "code",
   "execution_count": 10,
   "metadata": {},
   "outputs": [
    {
     "data": {
      "text/html": [
       "<div>\n",
       "<style scoped>\n",
       "    .dataframe tbody tr th:only-of-type {\n",
       "        vertical-align: middle;\n",
       "    }\n",
       "\n",
       "    .dataframe tbody tr th {\n",
       "        vertical-align: top;\n",
       "    }\n",
       "\n",
       "    .dataframe thead th {\n",
       "        text-align: right;\n",
       "    }\n",
       "</style>\n",
       "<table border=\"1\" class=\"dataframe\">\n",
       "  <thead>\n",
       "    <tr style=\"text-align: right;\">\n",
       "      <th></th>\n",
       "      <th>movie_title</th>\n",
       "      <th>rank</th>\n",
       "      <th>title</th>\n",
       "      <th>release_year</th>\n",
       "      <th>domestic_opening_gross</th>\n",
       "      <th>budget</th>\n",
       "      <th>domestic_gross_y</th>\n",
       "      <th>international_gross</th>\n",
       "      <th>worldwide_gross</th>\n",
       "      <th>runtime_minutes</th>\n",
       "      <th>rating</th>\n",
       "      <th>release_month</th>\n",
       "      <th>release_date</th>\n",
       "      <th>genres</th>\n",
       "    </tr>\n",
       "  </thead>\n",
       "  <tbody>\n",
       "    <tr>\n",
       "      <th>1</th>\n",
       "      <td>Star Wars: Episode VII - The Force Awakens</td>\n",
       "      <td>1</td>\n",
       "      <td>Star Wars: Episode VII - The Force Awakens</td>\n",
       "      <td>2015</td>\n",
       "      <td>247966675</td>\n",
       "      <td>245000000</td>\n",
       "      <td>936662225</td>\n",
       "      <td>1131791908</td>\n",
       "      <td>2068454133</td>\n",
       "      <td>138.0</td>\n",
       "      <td>PG-13</td>\n",
       "      <td>12</td>\n",
       "      <td>2015-12-16</td>\n",
       "      <td>['Action', 'Adventure', 'Sci-Fi']</td>\n",
       "    </tr>\n",
       "    <tr>\n",
       "      <th>2</th>\n",
       "      <td>Avengers: Endgame</td>\n",
       "      <td>2</td>\n",
       "      <td>Avengers: Endgame</td>\n",
       "      <td>2019</td>\n",
       "      <td>357115007</td>\n",
       "      <td>356000000</td>\n",
       "      <td>858373000</td>\n",
       "      <td>1939427564</td>\n",
       "      <td>2797800564</td>\n",
       "      <td>181.0</td>\n",
       "      <td>PG-13</td>\n",
       "      <td>4</td>\n",
       "      <td>2019-04-24</td>\n",
       "      <td>['Action', 'Adventure', 'Drama', 'Sci-Fi']</td>\n",
       "    </tr>\n",
       "  </tbody>\n",
       "</table>\n",
       "</div>"
      ],
      "text/plain": [
       "                                  movie_title rank  \\\n",
       "1  Star Wars: Episode VII - The Force Awakens    1   \n",
       "2                           Avengers: Endgame    2   \n",
       "\n",
       "                                        title  release_year  \\\n",
       "1  Star Wars: Episode VII - The Force Awakens          2015   \n",
       "2                           Avengers: Endgame          2019   \n",
       "\n",
       "   domestic_opening_gross     budget  domestic_gross_y  international_gross  \\\n",
       "1               247966675  245000000         936662225           1131791908   \n",
       "2               357115007  356000000         858373000           1939427564   \n",
       "\n",
       "   worldwide_gross  runtime_minutes rating  release_month release_date  \\\n",
       "1       2068454133            138.0  PG-13             12   2015-12-16   \n",
       "2       2797800564            181.0  PG-13              4   2019-04-24   \n",
       "\n",
       "                                       genres  \n",
       "1           ['Action', 'Adventure', 'Sci-Fi']  \n",
       "2  ['Action', 'Adventure', 'Drama', 'Sci-Fi']  "
      ]
     },
     "execution_count": 10,
     "metadata": {},
     "output_type": "execute_result"
    }
   ],
   "source": [
    "df.head(2)"
   ]
  },
  {
   "cell_type": "code",
   "execution_count": 11,
   "metadata": {},
   "outputs": [],
   "source": [
    "df.drop(['title'], axis=1, inplace = True)"
   ]
  },
  {
   "cell_type": "code",
   "execution_count": 12,
   "metadata": {},
   "outputs": [
    {
     "data": {
      "text/html": [
       "<div>\n",
       "<style scoped>\n",
       "    .dataframe tbody tr th:only-of-type {\n",
       "        vertical-align: middle;\n",
       "    }\n",
       "\n",
       "    .dataframe tbody tr th {\n",
       "        vertical-align: top;\n",
       "    }\n",
       "\n",
       "    .dataframe thead th {\n",
       "        text-align: right;\n",
       "    }\n",
       "</style>\n",
       "<table border=\"1\" class=\"dataframe\">\n",
       "  <thead>\n",
       "    <tr style=\"text-align: right;\">\n",
       "      <th></th>\n",
       "      <th>movie_title</th>\n",
       "      <th>rank</th>\n",
       "      <th>release_year</th>\n",
       "      <th>domestic_opening_gross</th>\n",
       "      <th>budget</th>\n",
       "      <th>domestic_gross_y</th>\n",
       "      <th>international_gross</th>\n",
       "      <th>worldwide_gross</th>\n",
       "      <th>runtime_minutes</th>\n",
       "      <th>rating</th>\n",
       "      <th>release_month</th>\n",
       "      <th>release_date</th>\n",
       "      <th>genres</th>\n",
       "    </tr>\n",
       "  </thead>\n",
       "  <tbody>\n",
       "    <tr>\n",
       "      <th>1</th>\n",
       "      <td>Star Wars: Episode VII - The Force Awakens</td>\n",
       "      <td>1</td>\n",
       "      <td>2015</td>\n",
       "      <td>247966675</td>\n",
       "      <td>245000000</td>\n",
       "      <td>936662225</td>\n",
       "      <td>1131791908</td>\n",
       "      <td>2068454133</td>\n",
       "      <td>138.0</td>\n",
       "      <td>PG-13</td>\n",
       "      <td>12</td>\n",
       "      <td>2015-12-16</td>\n",
       "      <td>['Action', 'Adventure', 'Sci-Fi']</td>\n",
       "    </tr>\n",
       "    <tr>\n",
       "      <th>2</th>\n",
       "      <td>Avengers: Endgame</td>\n",
       "      <td>2</td>\n",
       "      <td>2019</td>\n",
       "      <td>357115007</td>\n",
       "      <td>356000000</td>\n",
       "      <td>858373000</td>\n",
       "      <td>1939427564</td>\n",
       "      <td>2797800564</td>\n",
       "      <td>181.0</td>\n",
       "      <td>PG-13</td>\n",
       "      <td>4</td>\n",
       "      <td>2019-04-24</td>\n",
       "      <td>['Action', 'Adventure', 'Drama', 'Sci-Fi']</td>\n",
       "    </tr>\n",
       "  </tbody>\n",
       "</table>\n",
       "</div>"
      ],
      "text/plain": [
       "                                  movie_title rank  release_year  \\\n",
       "1  Star Wars: Episode VII - The Force Awakens    1          2015   \n",
       "2                           Avengers: Endgame    2          2019   \n",
       "\n",
       "   domestic_opening_gross     budget  domestic_gross_y  international_gross  \\\n",
       "1               247966675  245000000         936662225           1131791908   \n",
       "2               357115007  356000000         858373000           1939427564   \n",
       "\n",
       "   worldwide_gross  runtime_minutes rating  release_month release_date  \\\n",
       "1       2068454133            138.0  PG-13             12   2015-12-16   \n",
       "2       2797800564            181.0  PG-13              4   2019-04-24   \n",
       "\n",
       "                                       genres  \n",
       "1           ['Action', 'Adventure', 'Sci-Fi']  \n",
       "2  ['Action', 'Adventure', 'Drama', 'Sci-Fi']  "
      ]
     },
     "execution_count": 12,
     "metadata": {},
     "output_type": "execute_result"
    }
   ],
   "source": [
    "df.head(2)"
   ]
  },
  {
   "cell_type": "code",
   "execution_count": 13,
   "metadata": {},
   "outputs": [],
   "source": [
    "df.rename( columns={'domestic_gross_y':'domestic_gross'}, inplace=True )"
   ]
  },
  {
   "cell_type": "code",
   "execution_count": 14,
   "metadata": {},
   "outputs": [
    {
     "data": {
      "text/html": [
       "<div>\n",
       "<style scoped>\n",
       "    .dataframe tbody tr th:only-of-type {\n",
       "        vertical-align: middle;\n",
       "    }\n",
       "\n",
       "    .dataframe tbody tr th {\n",
       "        vertical-align: top;\n",
       "    }\n",
       "\n",
       "    .dataframe thead th {\n",
       "        text-align: right;\n",
       "    }\n",
       "</style>\n",
       "<table border=\"1\" class=\"dataframe\">\n",
       "  <thead>\n",
       "    <tr style=\"text-align: right;\">\n",
       "      <th></th>\n",
       "      <th>movie_title</th>\n",
       "      <th>rank</th>\n",
       "      <th>release_year</th>\n",
       "      <th>domestic_opening_gross</th>\n",
       "      <th>budget</th>\n",
       "      <th>domestic_gross</th>\n",
       "      <th>international_gross</th>\n",
       "      <th>worldwide_gross</th>\n",
       "      <th>runtime_minutes</th>\n",
       "      <th>rating</th>\n",
       "      <th>release_month</th>\n",
       "      <th>release_date</th>\n",
       "      <th>genres</th>\n",
       "    </tr>\n",
       "  </thead>\n",
       "  <tbody>\n",
       "    <tr>\n",
       "      <th>1</th>\n",
       "      <td>Star Wars: Episode VII - The Force Awakens</td>\n",
       "      <td>1</td>\n",
       "      <td>2015</td>\n",
       "      <td>247966675</td>\n",
       "      <td>245000000</td>\n",
       "      <td>936662225</td>\n",
       "      <td>1131791908</td>\n",
       "      <td>2068454133</td>\n",
       "      <td>138.0</td>\n",
       "      <td>PG-13</td>\n",
       "      <td>12</td>\n",
       "      <td>2015-12-16</td>\n",
       "      <td>['Action', 'Adventure', 'Sci-Fi']</td>\n",
       "    </tr>\n",
       "    <tr>\n",
       "      <th>2</th>\n",
       "      <td>Avengers: Endgame</td>\n",
       "      <td>2</td>\n",
       "      <td>2019</td>\n",
       "      <td>357115007</td>\n",
       "      <td>356000000</td>\n",
       "      <td>858373000</td>\n",
       "      <td>1939427564</td>\n",
       "      <td>2797800564</td>\n",
       "      <td>181.0</td>\n",
       "      <td>PG-13</td>\n",
       "      <td>4</td>\n",
       "      <td>2019-04-24</td>\n",
       "      <td>['Action', 'Adventure', 'Drama', 'Sci-Fi']</td>\n",
       "    </tr>\n",
       "    <tr>\n",
       "      <th>3</th>\n",
       "      <td>Avatar</td>\n",
       "      <td>3</td>\n",
       "      <td>2009</td>\n",
       "      <td>77025481</td>\n",
       "      <td>237000000</td>\n",
       "      <td>760507625</td>\n",
       "      <td>2029931467</td>\n",
       "      <td>2790439092</td>\n",
       "      <td>162.0</td>\n",
       "      <td>PG-13</td>\n",
       "      <td>12</td>\n",
       "      <td>2009-12-16</td>\n",
       "      <td>['Action', 'Adventure', 'Fantasy', 'Sci-Fi']</td>\n",
       "    </tr>\n",
       "    <tr>\n",
       "      <th>4</th>\n",
       "      <td>Black Panther</td>\n",
       "      <td>4</td>\n",
       "      <td>2018</td>\n",
       "      <td>202003951</td>\n",
       "      <td>0</td>\n",
       "      <td>700426566</td>\n",
       "      <td>647171407</td>\n",
       "      <td>1347597973</td>\n",
       "      <td>134.0</td>\n",
       "      <td>PG-13</td>\n",
       "      <td>2</td>\n",
       "      <td>2018-02-13</td>\n",
       "      <td>['Action', 'Adventure', 'Sci-Fi']</td>\n",
       "    </tr>\n",
       "    <tr>\n",
       "      <th>5</th>\n",
       "      <td>Avengers: Infinity War</td>\n",
       "      <td>5</td>\n",
       "      <td>2018</td>\n",
       "      <td>257698183</td>\n",
       "      <td>0</td>\n",
       "      <td>678815482</td>\n",
       "      <td>1369544272</td>\n",
       "      <td>2048359754</td>\n",
       "      <td>149.0</td>\n",
       "      <td>PG-13</td>\n",
       "      <td>4</td>\n",
       "      <td>2018-04-25</td>\n",
       "      <td>['Action', 'Adventure', 'Sci-Fi']</td>\n",
       "    </tr>\n",
       "  </tbody>\n",
       "</table>\n",
       "</div>"
      ],
      "text/plain": [
       "                                  movie_title rank  release_year  \\\n",
       "1  Star Wars: Episode VII - The Force Awakens    1          2015   \n",
       "2                           Avengers: Endgame    2          2019   \n",
       "3                                      Avatar    3          2009   \n",
       "4                               Black Panther    4          2018   \n",
       "5                      Avengers: Infinity War    5          2018   \n",
       "\n",
       "   domestic_opening_gross     budget  domestic_gross  international_gross  \\\n",
       "1               247966675  245000000       936662225           1131791908   \n",
       "2               357115007  356000000       858373000           1939427564   \n",
       "3                77025481  237000000       760507625           2029931467   \n",
       "4               202003951          0       700426566            647171407   \n",
       "5               257698183          0       678815482           1369544272   \n",
       "\n",
       "   worldwide_gross  runtime_minutes rating  release_month release_date  \\\n",
       "1       2068454133            138.0  PG-13             12   2015-12-16   \n",
       "2       2797800564            181.0  PG-13              4   2019-04-24   \n",
       "3       2790439092            162.0  PG-13             12   2009-12-16   \n",
       "4       1347597973            134.0  PG-13              2   2018-02-13   \n",
       "5       2048359754            149.0  PG-13              4   2018-04-25   \n",
       "\n",
       "                                         genres  \n",
       "1             ['Action', 'Adventure', 'Sci-Fi']  \n",
       "2    ['Action', 'Adventure', 'Drama', 'Sci-Fi']  \n",
       "3  ['Action', 'Adventure', 'Fantasy', 'Sci-Fi']  \n",
       "4             ['Action', 'Adventure', 'Sci-Fi']  \n",
       "5             ['Action', 'Adventure', 'Sci-Fi']  "
      ]
     },
     "execution_count": 14,
     "metadata": {},
     "output_type": "execute_result"
    }
   ],
   "source": [
    "df.head()"
   ]
  },
  {
   "cell_type": "code",
   "execution_count": 15,
   "metadata": {},
   "outputs": [],
   "source": [
    "df.rename( columns={'runtime_minutes':'runtime'}, inplace=True )"
   ]
  },
  {
   "cell_type": "code",
   "execution_count": 16,
   "metadata": {},
   "outputs": [
    {
     "data": {
      "text/plain": [
       "(996, 13)"
      ]
     },
     "execution_count": 16,
     "metadata": {},
     "output_type": "execute_result"
    }
   ],
   "source": [
    "df.shape"
   ]
  },
  {
   "cell_type": "code",
   "execution_count": 17,
   "metadata": {},
   "outputs": [],
   "source": [
    "dummy = df.replace('?', np.NaN).dropna().reset_index(drop=True)"
   ]
  },
  {
   "cell_type": "code",
   "execution_count": 18,
   "metadata": {},
   "outputs": [
    {
     "data": {
      "text/plain": [
       "(850, 13)"
      ]
     },
     "execution_count": 18,
     "metadata": {},
     "output_type": "execute_result"
    }
   ],
   "source": [
    "dummy.shape"
   ]
  },
  {
   "cell_type": "code",
   "execution_count": 19,
   "metadata": {},
   "outputs": [],
   "source": [
    "dummy.drop(dummy[dummy['release_year'] < 2000].index, inplace = True)"
   ]
  },
  {
   "cell_type": "code",
   "execution_count": 20,
   "metadata": {
    "scrolled": true
   },
   "outputs": [
    {
     "data": {
      "text/plain": [
       "(690, 13)"
      ]
     },
     "execution_count": 20,
     "metadata": {},
     "output_type": "execute_result"
    }
   ],
   "source": [
    "dummy.shape"
   ]
  },
  {
   "cell_type": "code",
   "execution_count": 21,
   "metadata": {},
   "outputs": [
    {
     "data": {
      "text/plain": [
       "356000000"
      ]
     },
     "execution_count": 21,
     "metadata": {},
     "output_type": "execute_result"
    }
   ],
   "source": [
    "dummy['budget'].max()"
   ]
  },
  {
   "cell_type": "code",
   "execution_count": 22,
   "metadata": {},
   "outputs": [
    {
     "data": {
      "text/plain": [
       "0"
      ]
     },
     "execution_count": 22,
     "metadata": {},
     "output_type": "execute_result"
    }
   ],
   "source": [
    "dummy['budget'].min()"
   ]
  },
  {
   "cell_type": "code",
   "execution_count": 23,
   "metadata": {},
   "outputs": [],
   "source": [
    "#dropna didnt't address the null values in budget"
   ]
  },
  {
   "cell_type": "code",
   "execution_count": 24,
   "metadata": {},
   "outputs": [],
   "source": [
    "dummy.drop(dummy[dummy['budget'] == 0].index, inplace = True)"
   ]
  },
  {
   "cell_type": "code",
   "execution_count": 25,
   "metadata": {},
   "outputs": [
    {
     "data": {
      "text/plain": [
       "2797800564"
      ]
     },
     "execution_count": 25,
     "metadata": {},
     "output_type": "execute_result"
    }
   ],
   "source": [
    "dummy['worldwide_gross'].max()"
   ]
  },
  {
   "cell_type": "code",
   "execution_count": 26,
   "metadata": {},
   "outputs": [
    {
     "data": {
      "text/plain": [
       "86086881"
      ]
     },
     "execution_count": 26,
     "metadata": {},
     "output_type": "execute_result"
    }
   ],
   "source": [
    "dummy['worldwide_gross'].min()"
   ]
  },
  {
   "cell_type": "code",
   "execution_count": 27,
   "metadata": {},
   "outputs": [
    {
     "data": {
      "text/plain": [
       "(637, 13)"
      ]
     },
     "execution_count": 27,
     "metadata": {},
     "output_type": "execute_result"
    }
   ],
   "source": [
    "dummy.shape"
   ]
  },
  {
   "cell_type": "code",
   "execution_count": 28,
   "metadata": {},
   "outputs": [
    {
     "name": "stdout",
     "output_type": "stream",
     "text": [
      "<class 'pandas.core.frame.DataFrame'>\n",
      "Int64Index: 637 entries, 0 to 849\n",
      "Data columns (total 13 columns):\n",
      " #   Column                  Non-Null Count  Dtype  \n",
      "---  ------                  --------------  -----  \n",
      " 0   movie_title             637 non-null    object \n",
      " 1   rank                    637 non-null    object \n",
      " 2   release_year            637 non-null    int64  \n",
      " 3   domestic_opening_gross  637 non-null    int64  \n",
      " 4   budget                  637 non-null    int64  \n",
      " 5   domestic_gross          637 non-null    int64  \n",
      " 6   international_gross     637 non-null    int64  \n",
      " 7   worldwide_gross         637 non-null    int64  \n",
      " 8   runtime                 637 non-null    float64\n",
      " 9   rating                  637 non-null    object \n",
      " 10  release_month           637 non-null    int64  \n",
      " 11  release_date            637 non-null    object \n",
      " 12  genres                  637 non-null    object \n",
      "dtypes: float64(1), int64(7), object(5)\n",
      "memory usage: 69.7+ KB\n"
     ]
    }
   ],
   "source": [
    "dummy.info()"
   ]
  },
  {
   "cell_type": "code",
   "execution_count": 30,
   "metadata": {},
   "outputs": [
    {
     "name": "stdout",
     "output_type": "stream",
     "text": [
      "['Action', 'Adventure', 'Sci-Fi']                            46\n",
      "['Comedy']                                                   29\n",
      "['Comedy', 'Romance']                                        26\n",
      "['Adventure', 'Animation', 'Comedy', 'Family', 'Fantasy']    21\n",
      "['Action', 'Adventure', 'Sci-Fi', 'Thriller']                19\n",
      "                                                             ..\n",
      "['Adventure', 'Drama', 'Family', 'Fantasy']                   1\n",
      "['Action', 'Adventure', 'Fantasy', 'Horror', 'War']           1\n",
      "['Animation', 'Drama', 'Family', 'Fantasy']                   1\n",
      "['Action', 'Drama', 'History', 'Thriller', 'War']             1\n",
      "['Action', 'Adventure', 'Fantasy', 'Sci-Fi', 'War']           1\n",
      "Name: genres, Length: 237, dtype: int64\n"
     ]
    }
   ],
   "source": [
    "print(dummy.genres.value_counts())"
   ]
  },
  {
   "cell_type": "code",
   "execution_count": 42,
   "metadata": {},
   "outputs": [],
   "source": [
    "action = 'Action', 'Sport','Adventure'\n",
    "family = 'Family', 'Drama', 'Commedy', 'Romance'\n",
    "documentary = 'History','Documentary','Biography'\n",
    "crime_thriller = 'crime', 'thriller'\n",
    "fantasy = 'fantasy', 'Sci-Fi'\n",
    "animation = 'Animation'\n",
    "\n",
    "def classify_movie_genre(g):\n",
    "    for g in dummy['genres']:\n",
    "        dummy['type']=[]\n",
    "        if 'Animation' in g:\n",
    "            dummy['type'].apend['Animation']\n",
    "        if 'Action' or 'Sport'or 'Adventure'in g:\n",
    "            dummy['type'].append['Action']\n",
    "            \n",
    "        if 'Family' or 'Drama'or 'Commedy' or 'Romance' in g:\n",
    "            dummy['type'].append['Family']\n",
    "        if 'History'or'Documentary'or 'Biography'in g:\n",
    "            dummy['type'].append['Documentary']\n",
    "        if 'crime' or'thriller' in g:\n",
    "            dummy['type'].append['Crime_Thriller']\n",
    "        else:\n",
    "            dummy['type'].append['Others']\n",
    "                \n",
    "        \n",
    "    return dummy['type']"
   ]
  },
  {
   "cell_type": "code",
   "execution_count": null,
   "metadata": {},
   "outputs": [],
   "source": [
    "action = 'Action', 'Sport','Adventure'\n",
    "family = 'Family', 'Drama', 'Commedy', 'Romance'\n",
    "documentary = 'History','Documentary','Biography'\n",
    "crime_thriller = 'crime', 'thriller'\n",
    "fantasy = 'fantasy', 'Sci-Fi'\n",
    "animation = 'Animation'\n",
    "def classify_movie_genre(g):\n",
    "    for g in dummy['genres']:\n",
    "        for e in g:\n",
    "            if e in action: \n",
    "                movie['class']='Action'\n",
    "                dummy['genre']+= movie['class']\n",
    "        for e in g:\n",
    "            if e in family:\n",
    "                movie['class']='Family'\n",
    "                dummy['genre']+= movie['class']\n",
    "        for e in g:\n",
    "            if e in documentary:\n",
    "                movie['class']='Documentary'\n",
    "                dummy['genre']+= movie['class']\n",
    "        for e in g:\n",
    "            if e in crime_thriller:\n",
    "                movie['class']='Crime'\n",
    "                dummy['genre']+= movie['class']\n",
    "        for e in g:\n",
    "            if e in fantasy:\n",
    "                movie['class']='Fantasy'\n",
    "                dummy['genre']+= movie['class']\n",
    "        if e in g:\n",
    "            if e in animation:\n",
    "                movie['class']='Animation'\n",
    "                dummy['genre']+= movie['class']\n",
    "            else:\n",
    "                movie['class']='Others'\n",
    "                dummy['genre']+= movie['class']\n",
    "        \n",
    "    return dummy['genre']"
   ]
  },
  {
   "cell_type": "code",
   "execution_count": 43,
   "metadata": {},
   "outputs": [
    {
     "data": {
      "text/html": [
       "<div>\n",
       "<style scoped>\n",
       "    .dataframe tbody tr th:only-of-type {\n",
       "        vertical-align: middle;\n",
       "    }\n",
       "\n",
       "    .dataframe tbody tr th {\n",
       "        vertical-align: top;\n",
       "    }\n",
       "\n",
       "    .dataframe thead th {\n",
       "        text-align: right;\n",
       "    }\n",
       "</style>\n",
       "<table border=\"1\" class=\"dataframe\">\n",
       "  <thead>\n",
       "    <tr style=\"text-align: right;\">\n",
       "      <th></th>\n",
       "      <th>movie_title</th>\n",
       "      <th>rank</th>\n",
       "      <th>release_year</th>\n",
       "      <th>domestic_opening_gross</th>\n",
       "      <th>budget</th>\n",
       "      <th>domestic_gross</th>\n",
       "      <th>international_gross</th>\n",
       "      <th>worldwide_gross</th>\n",
       "      <th>runtime</th>\n",
       "      <th>rating</th>\n",
       "      <th>release_month</th>\n",
       "      <th>release_date</th>\n",
       "      <th>genres</th>\n",
       "      <th>type</th>\n",
       "    </tr>\n",
       "  </thead>\n",
       "  <tbody>\n",
       "    <tr>\n",
       "      <th>0</th>\n",
       "      <td>Star Wars: Episode VII - The Force Awakens</td>\n",
       "      <td>1</td>\n",
       "      <td>2015</td>\n",
       "      <td>247966675</td>\n",
       "      <td>245000000</td>\n",
       "      <td>936662225</td>\n",
       "      <td>1131791908</td>\n",
       "      <td>2068454133</td>\n",
       "      <td>138.0</td>\n",
       "      <td>PG-13</td>\n",
       "      <td>12</td>\n",
       "      <td>2015-12-16</td>\n",
       "      <td>['Action', 'Adventure', 'Sci-Fi']</td>\n",
       "      <td></td>\n",
       "    </tr>\n",
       "    <tr>\n",
       "      <th>1</th>\n",
       "      <td>Avengers: Endgame</td>\n",
       "      <td>2</td>\n",
       "      <td>2019</td>\n",
       "      <td>357115007</td>\n",
       "      <td>356000000</td>\n",
       "      <td>858373000</td>\n",
       "      <td>1939427564</td>\n",
       "      <td>2797800564</td>\n",
       "      <td>181.0</td>\n",
       "      <td>PG-13</td>\n",
       "      <td>4</td>\n",
       "      <td>2019-04-24</td>\n",
       "      <td>['Action', 'Adventure', 'Drama', 'Sci-Fi']</td>\n",
       "      <td></td>\n",
       "    </tr>\n",
       "    <tr>\n",
       "      <th>2</th>\n",
       "      <td>Avatar</td>\n",
       "      <td>3</td>\n",
       "      <td>2009</td>\n",
       "      <td>77025481</td>\n",
       "      <td>237000000</td>\n",
       "      <td>760507625</td>\n",
       "      <td>2029931467</td>\n",
       "      <td>2790439092</td>\n",
       "      <td>162.0</td>\n",
       "      <td>PG-13</td>\n",
       "      <td>12</td>\n",
       "      <td>2009-12-16</td>\n",
       "      <td>['Action', 'Adventure', 'Fantasy', 'Sci-Fi']</td>\n",
       "      <td></td>\n",
       "    </tr>\n",
       "    <tr>\n",
       "      <th>6</th>\n",
       "      <td>Jurassic World</td>\n",
       "      <td>7</td>\n",
       "      <td>2015</td>\n",
       "      <td>208806270</td>\n",
       "      <td>150000000</td>\n",
       "      <td>652295625</td>\n",
       "      <td>1018130819</td>\n",
       "      <td>1670426444</td>\n",
       "      <td>124.0</td>\n",
       "      <td>PG-13</td>\n",
       "      <td>6</td>\n",
       "      <td>2015-06-10</td>\n",
       "      <td>['Action', 'Adventure', 'Sci-Fi']</td>\n",
       "      <td></td>\n",
       "    </tr>\n",
       "    <tr>\n",
       "      <th>7</th>\n",
       "      <td>The Avengers</td>\n",
       "      <td>8</td>\n",
       "      <td>2012</td>\n",
       "      <td>207438708</td>\n",
       "      <td>220000000</td>\n",
       "      <td>623357910</td>\n",
       "      <td>895457605</td>\n",
       "      <td>1518815515</td>\n",
       "      <td>143.0</td>\n",
       "      <td>PG-13</td>\n",
       "      <td>4</td>\n",
       "      <td>2012-04-25</td>\n",
       "      <td>['Action', 'Adventure', 'Sci-Fi']</td>\n",
       "      <td></td>\n",
       "    </tr>\n",
       "  </tbody>\n",
       "</table>\n",
       "</div>"
      ],
      "text/plain": [
       "                                  movie_title rank  release_year  \\\n",
       "0  Star Wars: Episode VII - The Force Awakens    1          2015   \n",
       "1                           Avengers: Endgame    2          2019   \n",
       "2                                      Avatar    3          2009   \n",
       "6                              Jurassic World    7          2015   \n",
       "7                                The Avengers    8          2012   \n",
       "\n",
       "   domestic_opening_gross     budget  domestic_gross  international_gross  \\\n",
       "0               247966675  245000000       936662225           1131791908   \n",
       "1               357115007  356000000       858373000           1939427564   \n",
       "2                77025481  237000000       760507625           2029931467   \n",
       "6               208806270  150000000       652295625           1018130819   \n",
       "7               207438708  220000000       623357910            895457605   \n",
       "\n",
       "   worldwide_gross  runtime rating  release_month release_date  \\\n",
       "0       2068454133    138.0  PG-13             12   2015-12-16   \n",
       "1       2797800564    181.0  PG-13              4   2019-04-24   \n",
       "2       2790439092    162.0  PG-13             12   2009-12-16   \n",
       "6       1670426444    124.0  PG-13              6   2015-06-10   \n",
       "7       1518815515    143.0  PG-13              4   2012-04-25   \n",
       "\n",
       "                                         genres type  \n",
       "0             ['Action', 'Adventure', 'Sci-Fi']       \n",
       "1    ['Action', 'Adventure', 'Drama', 'Sci-Fi']       \n",
       "2  ['Action', 'Adventure', 'Fantasy', 'Sci-Fi']       \n",
       "6             ['Action', 'Adventure', 'Sci-Fi']       \n",
       "7             ['Action', 'Adventure', 'Sci-Fi']       "
      ]
     },
     "execution_count": 43,
     "metadata": {},
     "output_type": "execute_result"
    }
   ],
   "source": [
    "dummy.head()"
   ]
  },
  {
   "cell_type": "code",
   "execution_count": 41,
   "metadata": {},
   "outputs": [
    {
     "ename": "TypeError",
     "evalue": "'int' object is not iterable",
     "output_type": "error",
     "traceback": [
      "\u001b[0;31m---------------------------------------------------------------------------\u001b[0m",
      "\u001b[0;31mTypeError\u001b[0m                                 Traceback (most recent call last)",
      "\u001b[0;32m<ipython-input-41-34df9e1c5715>\u001b[0m in \u001b[0;36m<module>\u001b[0;34m\u001b[0m\n\u001b[1;32m      1\u001b[0m \u001b[0mmy_list\u001b[0m \u001b[0;34m=\u001b[0m \u001b[0;34m[\u001b[0m\u001b[0;36m1\u001b[0m\u001b[0;34m,\u001b[0m\u001b[0;36m2\u001b[0m\u001b[0;34m,\u001b[0m\u001b[0;36m3\u001b[0m\u001b[0;34m]\u001b[0m\u001b[0;34m\u001b[0m\u001b[0;34m\u001b[0m\u001b[0m\n\u001b[0;32m----> 2\u001b[0;31m \u001b[0;32mfor\u001b[0m \u001b[0me\u001b[0m \u001b[0;32min\u001b[0m \u001b[0mlen\u001b[0m\u001b[0;34m(\u001b[0m\u001b[0mmy_list\u001b[0m\u001b[0;34m)\u001b[0m\u001b[0;34m:\u001b[0m\u001b[0;34m\u001b[0m\u001b[0;34m\u001b[0m\u001b[0m\n\u001b[0m\u001b[1;32m      3\u001b[0m     \u001b[0mprint\u001b[0m\u001b[0;34m(\u001b[0m\u001b[0me\u001b[0m\u001b[0;34m)\u001b[0m\u001b[0;34m\u001b[0m\u001b[0;34m\u001b[0m\u001b[0m\n",
      "\u001b[0;31mTypeError\u001b[0m: 'int' object is not iterable"
     ]
    }
   ],
   "source": [
    "my_list = [1,2,3]\n",
    "for e in len(my_list):\n",
    "    print(e)"
   ]
  },
  {
   "cell_type": "code",
   "execution_count": null,
   "metadata": {},
   "outputs": [],
   "source": []
  }
 ],
 "metadata": {
  "kernelspec": {
   "display_name": "Python 3",
   "language": "python",
   "name": "python3"
  },
  "language_info": {
   "codemirror_mode": {
    "name": "ipython",
    "version": 3
   },
   "file_extension": ".py",
   "mimetype": "text/x-python",
   "name": "python",
   "nbconvert_exporter": "python",
   "pygments_lexer": "ipython3",
   "version": "3.8.3"
  }
 },
 "nbformat": 4,
 "nbformat_minor": 4
}
