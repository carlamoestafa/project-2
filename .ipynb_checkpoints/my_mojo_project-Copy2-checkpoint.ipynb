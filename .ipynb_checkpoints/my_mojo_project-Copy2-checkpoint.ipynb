{
 "cells": [
  {
   "cell_type": "markdown",
   "metadata": {},
   "source": [
    "# PROJECT - 2"
   ]
  },
  {
   "cell_type": "code",
   "execution_count": null,
   "metadata": {},
   "outputs": [],
   "source": [
    "from bs4 import BeautifulSoup\n",
    "import requests\n",
    "import pandas as pd\n",
    "import re"
   ]
  },
  {
   "cell_type": "code",
   "execution_count": null,
   "metadata": {},
   "outputs": [],
   "source": []
  },
  {
   "cell_type": "markdown",
   "metadata": {},
   "source": [
    "### Getting more information from a movie page"
   ]
  },
  {
   "cell_type": "code",
   "execution_count": null,
   "metadata": {},
   "outputs": [],
   "source": [
    "url = 'https://www.boxofficemojo.com/title/tt2488496/?ref_=bo_cso_table_1'\n",
    "response = requests.get(url)\n",
    "page = response.text\n",
    "soup = BeautifulSoup(page, 'lxml')\n",
    "# soup.prettify()"
   ]
  },
  {
   "cell_type": "markdown",
   "metadata": {},
   "source": [
    "#### Movie Title"
   ]
  },
  {
   "cell_type": "code",
   "execution_count": null,
   "metadata": {},
   "outputs": [],
   "source": [
    "soup.find('title').text\n",
    "title_string = soup.find('title').text\n",
    "title_string"
   ]
  },
  {
   "cell_type": "code",
   "execution_count": null,
   "metadata": {},
   "outputs": [],
   "source": [
    "title = title_string[:-18]\n",
    "title"
   ]
  },
  {
   "cell_type": "markdown",
   "metadata": {},
   "source": [
    "#### Domestic Gross"
   ]
  },
  {
   "cell_type": "code",
   "execution_count": null,
   "metadata": {},
   "outputs": [],
   "source": [
    "soup.find(class_='mojo-performance-summary-table').find_all('span',class_='money')"
   ]
  },
  {
   "cell_type": "code",
   "execution_count": null,
   "metadata": {},
   "outputs": [],
   "source": [
    "domestic_gross = soup.find(class_='mojo-performance-summary-table').find_all('span',class_='money')[0].text\n",
    "domestic_gross"
   ]
  },
  {
   "cell_type": "markdown",
   "metadata": {},
   "source": [
    "#### International Gross"
   ]
  },
  {
   "cell_type": "code",
   "execution_count": null,
   "metadata": {},
   "outputs": [],
   "source": [
    "international_gross = soup.find(class_='mojo-performance-summary-table').find_all('span',class_='money')[1].text\n",
    "international_gross"
   ]
  },
  {
   "cell_type": "markdown",
   "metadata": {},
   "source": [
    "#### Worldwide Gross"
   ]
  },
  {
   "cell_type": "code",
   "execution_count": null,
   "metadata": {},
   "outputs": [],
   "source": [
    "worldwide_gross = soup.find(class_='mojo-performance-summary-table').find_all('span',class_='money')[2].text\n",
    "worldwide_gross"
   ]
  },
  {
   "cell_type": "markdown",
   "metadata": {},
   "source": [
    "#### Domestic Distributor"
   ]
  },
  {
   "cell_type": "code",
   "execution_count": null,
   "metadata": {},
   "outputs": [],
   "source": [
    "soup.find(class_='mojo-summary-values').find_all('span', class_ = 'money')"
   ]
  },
  {
   "cell_type": "code",
   "execution_count": null,
   "metadata": {},
   "outputs": [],
   "source": [
    "distributor_reggex = re.compile('Distributor')\n",
    "soup.find(text=distributor_reggex)"
   ]
  },
  {
   "cell_type": "code",
   "execution_count": null,
   "metadata": {},
   "outputs": [],
   "source": [
    "dist_string = soup.find(text=distributor_reggex).findNext('span').text[:35]\n",
    "dom_dist = dist_string\n",
    "dom_dist"
   ]
  },
  {
   "cell_type": "markdown",
   "metadata": {},
   "source": [
    "#### Domestic Opening Gross"
   ]
  },
  {
   "cell_type": "code",
   "execution_count": null,
   "metadata": {},
   "outputs": [],
   "source": [
    "domopening_reggex = re.compile('Domestic Open')\n",
    "soup.find(text=domopening_reggex)"
   ]
  },
  {
   "cell_type": "code",
   "execution_count": null,
   "metadata": {},
   "outputs": [],
   "source": [
    "domestic_opening_gross = soup.find(text=domopening_reggex).findNext(class_='money').text\n",
    "domestic_opening_gross"
   ]
  },
  {
   "cell_type": "markdown",
   "metadata": {},
   "source": [
    "#### Budget"
   ]
  },
  {
   "cell_type": "code",
   "execution_count": null,
   "metadata": {},
   "outputs": [],
   "source": []
  },
  {
   "cell_type": "markdown",
   "metadata": {},
   "source": [
    "####  Release Month"
   ]
  },
  {
   "cell_type": "code",
   "execution_count": null,
   "metadata": {},
   "outputs": [],
   "source": [
    "release_reggex = re.compile('Release Date')\n",
    "soup.find(text=release_reggex).findNext().text.split()[0]\n",
    "release_month = soup.find(text=release_reggex).findNext().text.split()[0]\n",
    "release_month"
   ]
  },
  {
   "cell_type": "markdown",
   "metadata": {},
   "source": [
    "#### MPAA Rating"
   ]
  },
  {
   "cell_type": "code",
   "execution_count": null,
   "metadata": {},
   "outputs": [],
   "source": [
    "rating_reggex = re.compile('MPAA')\n",
    "rating = soup.find(text=rating_reggex).findNext('span').text\n",
    "rating"
   ]
  },
  {
   "cell_type": "markdown",
   "metadata": {},
   "source": [
    "#### Running Time"
   ]
  },
  {
   "cell_type": "code",
   "execution_count": null,
   "metadata": {},
   "outputs": [],
   "source": [
    "runtime_reggex = re.compile('Run')\n",
    "rt = soup.find(text=runtime_reggex).findNext('span').text.split()\n",
    "runtime_minutes = int(rt[0])*60 + int(rt[2])\n",
    "runtime_minutes"
   ]
  },
  {
   "cell_type": "markdown",
   "metadata": {},
   "source": [
    "#### Genres"
   ]
  },
  {
   "cell_type": "code",
   "execution_count": null,
   "metadata": {},
   "outputs": [],
   "source": [
    "genres_reggex = re.compile('Genres')\n",
    "genres = soup.find(text=genres_reggex).findNext('span').text.split()\n",
    "genres"
   ]
  },
  {
   "cell_type": "code",
   "execution_count": null,
   "metadata": {},
   "outputs": [],
   "source": [
    "headers = ['movie title', 'domestic total gross', 'international total gross','domestic opening gross','runtime (mins)',\n",
    "           'rating', 'release date', 'genre']\n",
    "\n",
    "movie_data = []\n",
    "movie_dict = dict(zip(headers,[title,\n",
    "                               domestic_gross,\n",
    "                               international_gross,\n",
    "                               domestic_opening_gross,\n",
    "                               runtime_minutes,\n",
    "                               rating,\n",
    "                               release_month,\n",
    "                               genres]))\n",
    "movie_data.append(movie_dict)\n",
    "movie_data"
   ]
  },
  {
   "cell_type": "markdown",
   "metadata": {},
   "source": [
    "### Getting the lifetime ranking table"
   ]
  },
  {
   "cell_type": "code",
   "execution_count": null,
   "metadata": {},
   "outputs": [],
   "source": [
    "url = 'https://www.boxofficemojo.com/chart/top_lifetime_gross/'\n",
    "response = requests.get(url)\n",
    "page = response.text\n",
    "soup = BeautifulSoup(page, 'lxml')\n",
    "# print(soup.prettify())"
   ]
  },
  {
   "cell_type": "code",
   "execution_count": null,
   "metadata": {},
   "outputs": [],
   "source": [
    "# finding the table\n",
    "table = soup.find('table')\n",
    "# table"
   ]
  },
  {
   "cell_type": "code",
   "execution_count": null,
   "metadata": {},
   "outputs": [],
   "source": [
    "rows = [row for row in table.find_all('tr')]\n",
    "rows[1].find_all('td')"
   ]
  },
  {
   "cell_type": "code",
   "execution_count": null,
   "metadata": {},
   "outputs": [],
   "source": [
    "rows[1].find_all('td')[1].find('a')['href']"
   ]
  },
  {
   "cell_type": "code",
   "execution_count": null,
   "metadata": {},
   "outputs": [],
   "source": [
    "movies = {}\n",
    "\n",
    "for row in rows[1:10]:\n",
    "    items = row.find_all('td')\n",
    "    link = items[1].find('a')\n",
    "    title = link.text\n",
    "    url = link['href']\n",
    "    movies[title] = [url]+ [i.text for i in items]\n",
    "\n",
    "movies"
   ]
  },
  {
   "cell_type": "code",
   "execution_count": null,
   "metadata": {},
   "outputs": [],
   "source": [
    "lifetime_movies = pd.DataFrame(movies).T\n",
    "lifetime_movies.columns = ['link_stub', 'rank', 'title', 'lifetime_gross', 'release_year']\n",
    "lifetime_movies.head()"
   ]
  },
  {
   "cell_type": "code",
   "execution_count": null,
   "metadata": {},
   "outputs": [],
   "source": [
    "def get_movie_dict(link):\n",
    "    \"\"\"\n",
    "    From BoxOfficeMojo link stub, request movie html, parse with BeautifulSoup, and\n",
    "    collect \n",
    "        - title \n",
    "        - domestic gross\n",
    "        - runtime \n",
    "        - MPAA rating\n",
    "        - full release date\n",
    "    Return information as a dictionary\n",
    "    \n",
    "    \"\"\"\n",
    "    \n",
    "    base_url = 'https://www.boxofficemojo.com'\n",
    "    \n",
    "    #Create full url to scrape\n",
    "    url = base_url + link\n",
    "    \n",
    "    #Request HTML and parse\n",
    "    response = requests.get(url)\n",
    "    page = response.text\n",
    "    soup = BeautifulSoup(page,\"lxml\")\n",
    "    \n",
    "    headers = ['title', 'domestic_gross', 'international_gross','worldwide_gross', 'domestic_opening_gross',\n",
    "               'runtime_minutes', 'rating', 'release_month', 'genres']\n",
    "    \n",
    "    #Get title\n",
    "    title_string = soup.find('title').text\n",
    "    title = title_string[:-18]\n",
    "\n",
    "    #Get domestic gross\n",
    "    domestic_gross = soup.find(class_='mojo-performance-summary-table').find_all('span',class_='money')[0].text\n",
    "    #dom_gross = money_to_int(dom_gross)\n",
    "    \n",
    "    #Get international_gross\n",
    "    international_gross = soup.find(class_='mojo-performance-summary-table').find_all('span',class_='money')[1].text\n",
    "    \n",
    "    #Get worldwide gross\n",
    "    worldwide_gross = soup.find(class_='mojo-performance-summary-table').find_all('span',class_='money')[2].text\n",
    "    \n",
    "    #Get domestic opening gross\n",
    "    domestic_opening_gross = soup.find(text=domopening_reggex).findNext(class_='money').text\n",
    "    \n",
    "    \n",
    "    #Get runtime\n",
    "    runtime_reggex = re.compile('Run')\n",
    "    rt = soup.find(text=runtime_reggex).findNext('span').text.split()\n",
    "    runtime_minutes = int(rt[0])*60 + int(rt[2])\n",
    "    \n",
    "    #Get rating\n",
    "    rating_reggex = re.compile('MPAA')\n",
    "    rating = soup.find(text=rating_reggex).findNext('span').text\n",
    "    \n",
    "    #Get genres\n",
    "    genres_reggex = re.compile('Genres')\n",
    "    genres = soup.find(text=genres_reggex).findNext('span').text.split()\n",
    "    \n",
    "    #Get release month\n",
    "    release_reggex = re.compile('Release Date')\n",
    "    release_month = soup.find(text=release_reggex).findNext().text.split()[0]\n",
    "    \n",
    "    \n",
    "    #Create movie dictionary and return\n",
    "    movie_dict = dict(zip(headers, [title,\n",
    "                                    domestic_gross,\n",
    "                                    international_gross,\n",
    "                                    worldwide_gross,\n",
    "                                    domestic_opening_gross,\n",
    "                                    runtime_minutes,\n",
    "                                    rating,\n",
    "                                    release_month,\n",
    "                                    genres]))\n",
    "\n",
    "    return movie_dict"
   ]
  },
  {
   "cell_type": "code",
   "execution_count": null,
   "metadata": {},
   "outputs": [],
   "source": [
    "lifetime_page_data = []\n",
    "\n",
    "for link in lifetime_movies.link_stub:\n",
    "    lifetime_page_data.append(get_movie_dict(link))"
   ]
  },
  {
   "cell_type": "code",
   "execution_count": null,
   "metadata": {},
   "outputs": [],
   "source": [
    "lifetime_page_data"
   ]
  },
  {
   "cell_type": "code",
   "execution_count": null,
   "metadata": {},
   "outputs": [],
   "source": [
    "lifetime_page_data = pd.DataFrame(lifetime_page_data)  \n",
    "lifetime_page_data.set_index('title', inplace=True)\n",
    "\n",
    "lifetime_page_data"
   ]
  },
  {
   "cell_type": "code",
   "execution_count": null,
   "metadata": {},
   "outputs": [],
   "source": [
    "# lifetime_movies = lifetime_movies.merge(lifetime_page_data, left_index=True, right_index=True)\n",
    "\n",
    "# lifetime_movies"
   ]
  },
  {
   "cell_type": "markdown",
   "metadata": {},
   "source": [
    "#### Director & Actors"
   ]
  },
  {
   "cell_type": "code",
   "execution_count": null,
   "metadata": {},
   "outputs": [],
   "source": [
    "url = 'https://www.boxofficemojo.com/title/tt2488496/credits/?ref_=bo_tt_tab'\n",
    "response = requests.get(url)\n",
    "page = response.text\n",
    "soup = BeautifulSoup(page, 'lxml')"
   ]
  },
  {
   "cell_type": "code",
   "execution_count": null,
   "metadata": {},
   "outputs": [],
   "source": [
    "casts = soup.find('table', id = 'principalCast').find_all('a', attrs={'class':'a-link-normal'})\n",
    "actors = []\n",
    "for cast in casts:\n",
    "    cast = cast.text.split('\\n')[0]\n",
    "    actors += [cast]\n",
    "actors"
   ]
  },
  {
   "cell_type": "code",
   "execution_count": null,
   "metadata": {},
   "outputs": [],
   "source": [
    "movies = pd.DataFrame(movies).T  #transpose\n",
    "movies.columns = ['link_stub', 'title', 'rank_g_movies', \n",
    "                    'lifetime_gross', 'rank_overall', 'year']\n",
    "\n",
    "g_movies.head()"
   ]
  },
  {
   "cell_type": "code",
   "execution_count": null,
   "metadata": {},
   "outputs": [],
   "source": [
    "g_movies_page_info_list = []\n",
    "\n",
    "for link in g_movies.link_stub:\n",
    "    g_movies_page_info_list.append(get_movie_dict(link))"
   ]
  },
  {
   "cell_type": "markdown",
   "metadata": {},
   "source": [
    "### IMDB Top 100 Actors 2018"
   ]
  },
  {
   "cell_type": "code",
   "execution_count": null,
   "metadata": {},
   "outputs": [],
   "source": [
    "url = 'https://www.imdb.com/list/ls023242359/'\n",
    "response = requests.get(url)\n",
    "page = response.text\n",
    "soup = BeautifulSoup(page, 'lxml')"
   ]
  },
  {
   "cell_type": "code",
   "execution_count": null,
   "metadata": {},
   "outputs": [],
   "source": [
    "soup.find_all('span', class_='lister-item-index')[0].text"
   ]
  },
  {
   "cell_type": "code",
   "execution_count": null,
   "metadata": {},
   "outputs": [],
   "source": [
    "soup.find('div', class_='lister-item-content').find_all('a')"
   ]
  },
  {
   "cell_type": "code",
   "execution_count": null,
   "metadata": {
    "scrolled": false
   },
   "outputs": [],
   "source": [
    "soup.find('div', class_='lister-item-content').find('a').text.split('\\n')[0]"
   ]
  },
  {
   "cell_type": "code",
   "execution_count": null,
   "metadata": {},
   "outputs": [],
   "source": [
    "top_list = soup.find('div', class_='lister-list').find_all('a')\n",
    "top_list"
   ]
  },
  {
   "cell_type": "code",
   "execution_count": null,
   "metadata": {},
   "outputs": [],
   "source": [
    "soup.find('div', class_='lister-list').find_all('a')[1].text.split('\\n')[0]"
   ]
  },
  {
   "cell_type": "code",
   "execution_count": null,
   "metadata": {},
   "outputs": [],
   "source": [
    "\n",
    "top_actor = []\n",
    "for top in top_list:\n",
    "    top = top.text.split('\\n')[0]\n",
    "    top_actor += [top]\n",
    "  \n",
    "top_actor"
   ]
  },
  {
   "cell_type": "code",
   "execution_count": null,
   "metadata": {},
   "outputs": [],
   "source": [
    "from selenium import webdriver\n",
    "from selenium.webdriver.common.keys import Keys\n",
    "\n",
    "# chromedriver = \"/Applications/chromedriver\" # path to the chromedriver executable\n",
    "os.environ[\"webdriver.chrome.driver\"] = chromedriver\n",
    "driver = webdriver.Chrome(chromedriver)\n",
    "driver.get('https://www.imdb.com/list/ls023242359/')\n",
    "\n",
    "assert \"imdb\" in driver.title\n",
    "\n",
    "continue_link = driver.find_element_by_tag_name('a')\n",
    "elem = driver.find_elements_by_xpath(\"//*[@href]/name*\")\n",
    "#x = str(continue_link)\n",
    "#print(continue_link)\n",
    "print(elem)"
   ]
  },
  {
   "cell_type": "code",
   "execution_count": null,
   "metadata": {},
   "outputs": [],
   "source": [
    "soup.find('div', class_='lister-list').find_all('a').get('href', ref_='nmls_hd')"
   ]
  },
  {
   "cell_type": "code",
   "execution_count": null,
   "metadata": {},
   "outputs": [],
   "source": []
  }
 ],
 "metadata": {
  "kernelspec": {
   "display_name": "Python 3",
   "language": "python",
   "name": "python3"
  },
  "language_info": {
   "codemirror_mode": {
    "name": "ipython",
    "version": 3
   },
   "file_extension": ".py",
   "mimetype": "text/x-python",
   "name": "python",
   "nbconvert_exporter": "python",
   "pygments_lexer": "ipython3",
   "version": "3.8.3"
  }
 },
 "nbformat": 4,
 "nbformat_minor": 4
}
