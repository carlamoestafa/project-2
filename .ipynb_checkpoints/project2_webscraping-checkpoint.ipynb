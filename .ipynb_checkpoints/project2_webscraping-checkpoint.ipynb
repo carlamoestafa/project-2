{
 "cells": [
  {
   "cell_type": "markdown",
   "metadata": {},
   "source": [
    "# PROJECT - 2  WEB SCRAPING "
   ]
  },
  {
   "cell_type": "code",
   "execution_count": 1,
   "metadata": {},
   "outputs": [],
   "source": [
    "from bs4 import BeautifulSoup\n",
    "import requests\n",
    "import pandas as pd\n",
    "import re\n",
    "import dateutil.parser"
   ]
  },
  {
   "cell_type": "markdown",
   "metadata": {},
   "source": [
    "### Getting  information from a movie page"
   ]
  },
  {
   "cell_type": "code",
   "execution_count": 2,
   "metadata": {},
   "outputs": [],
   "source": [
    "url = 'https://www.boxofficemojo.com/title/tt2488496/?ref_=bo_cso_table_1'\n",
    "response = requests.get(url)\n",
    "page = response.text\n",
    "soup = BeautifulSoup(page, 'lxml')\n",
    "# soup.prettify()"
   ]
  },
  {
   "cell_type": "markdown",
   "metadata": {},
   "source": [
    "#### Movie Title"
   ]
  },
  {
   "cell_type": "code",
   "execution_count": 3,
   "metadata": {},
   "outputs": [
    {
     "data": {
      "text/plain": [
       "'Star Wars: Episode VII - The Force Awakens - Box Office Mojo'"
      ]
     },
     "execution_count": 3,
     "metadata": {},
     "output_type": "execute_result"
    }
   ],
   "source": [
    "soup.find('title').text\n",
    "title_string = soup.find('title').text\n",
    "title_string"
   ]
  },
  {
   "cell_type": "code",
   "execution_count": 4,
   "metadata": {},
   "outputs": [
    {
     "data": {
      "text/plain": [
       "'Star Wars: Episode VII - The Force Awakens'"
      ]
     },
     "execution_count": 4,
     "metadata": {},
     "output_type": "execute_result"
    }
   ],
   "source": [
    "title = title_string[:-18]\n",
    "title"
   ]
  },
  {
   "cell_type": "markdown",
   "metadata": {},
   "source": [
    "#### Domestic Gross"
   ]
  },
  {
   "cell_type": "code",
   "execution_count": 5,
   "metadata": {},
   "outputs": [
    {
     "data": {
      "text/plain": [
       "[<span class=\"money\">$936,662,225</span>,\n",
       " <span class=\"money\">$1,131,791,908</span>,\n",
       " <span class=\"money\">$2,068,454,133</span>]"
      ]
     },
     "execution_count": 5,
     "metadata": {},
     "output_type": "execute_result"
    }
   ],
   "source": [
    "soup.find(class_='mojo-performance-summary-table').find_all('span',class_='money')"
   ]
  },
  {
   "cell_type": "code",
   "execution_count": 6,
   "metadata": {},
   "outputs": [
    {
     "data": {
      "text/plain": [
       "'$936,662,225'"
      ]
     },
     "execution_count": 6,
     "metadata": {},
     "output_type": "execute_result"
    }
   ],
   "source": [
    "dom_gross = soup.find(class_='mojo-performance-summary-table').find_all('span',class_='money')[0].text\n",
    "dom_gross"
   ]
  },
  {
   "cell_type": "markdown",
   "metadata": {},
   "source": [
    "#### International Gross"
   ]
  },
  {
   "cell_type": "code",
   "execution_count": 7,
   "metadata": {},
   "outputs": [
    {
     "data": {
      "text/plain": [
       "'$1,131,791,908'"
      ]
     },
     "execution_count": 7,
     "metadata": {},
     "output_type": "execute_result"
    }
   ],
   "source": [
    "intl_gross = soup.find(class_='mojo-performance-summary-table').find_all('span',class_='money')[1].text\n",
    "intl_gross"
   ]
  },
  {
   "cell_type": "markdown",
   "metadata": {},
   "source": [
    "#### Worldwide Gross"
   ]
  },
  {
   "cell_type": "code",
   "execution_count": 8,
   "metadata": {},
   "outputs": [
    {
     "data": {
      "text/plain": [
       "'$2,068,454,133'"
      ]
     },
     "execution_count": 8,
     "metadata": {},
     "output_type": "execute_result"
    }
   ],
   "source": [
    "world_gross = soup.find(class_='mojo-performance-summary-table').find_all('span',class_='money')[2].text\n",
    "world_gross"
   ]
  },
  {
   "cell_type": "markdown",
   "metadata": {},
   "source": [
    "#### Domestic Openig Gross"
   ]
  },
  {
   "cell_type": "code",
   "execution_count": 9,
   "metadata": {},
   "outputs": [
    {
     "data": {
      "text/plain": [
       "<span class=\"money\">$247,966,675</span>"
      ]
     },
     "execution_count": 9,
     "metadata": {},
     "output_type": "execute_result"
    }
   ],
   "source": [
    "dom_opening_gross = soup.find(class_='mojo-summary-values').find_all('span', class_ = 'money')[0]\n",
    "dom_opening_gross"
   ]
  },
  {
   "cell_type": "markdown",
   "metadata": {},
   "source": [
    "#### Budget"
   ]
  },
  {
   "cell_type": "code",
   "execution_count": 10,
   "metadata": {},
   "outputs": [
    {
     "data": {
      "text/plain": [
       "<span class=\"money\">$245,000,000</span>"
      ]
     },
     "execution_count": 10,
     "metadata": {},
     "output_type": "execute_result"
    }
   ],
   "source": [
    "prod_budget = soup.find(class_='mojo-summary-values').find_all('span', class_ = 'money')[1]\n",
    "prod_budget"
   ]
  },
  {
   "cell_type": "markdown",
   "metadata": {},
   "source": [
    "#### Domestic Distributor"
   ]
  },
  {
   "cell_type": "code",
   "execution_count": 11,
   "metadata": {},
   "outputs": [
    {
     "data": {
      "text/plain": [
       "[<span class=\"money\">$247,966,675</span>,\n",
       " <span class=\"money\">$245,000,000</span>]"
      ]
     },
     "execution_count": 11,
     "metadata": {},
     "output_type": "execute_result"
    }
   ],
   "source": [
    "soup.find(class_='mojo-summary-values').find_all('span', class_ = 'money')"
   ]
  },
  {
   "cell_type": "code",
   "execution_count": 12,
   "metadata": {},
   "outputs": [
    {
     "data": {
      "text/plain": [
       "'Domestic Distributor'"
      ]
     },
     "execution_count": 12,
     "metadata": {},
     "output_type": "execute_result"
    }
   ],
   "source": [
    "distributor_reggex = re.compile('Distributor')\n",
    "soup.find(text=distributor_reggex)"
   ]
  },
  {
   "cell_type": "code",
   "execution_count": 13,
   "metadata": {},
   "outputs": [
    {
     "ename": "NameError",
     "evalue": "name 'find' is not defined",
     "output_type": "error",
     "traceback": [
      "\u001b[0;31m---------------------------------------------------------------------------\u001b[0m",
      "\u001b[0;31mNameError\u001b[0m                                 Traceback (most recent call last)",
      "\u001b[0;32m<ipython-input-13-6c59da8698ec>\u001b[0m in \u001b[0;36m<module>\u001b[0;34m\u001b[0m\n\u001b[0;32m----> 1\u001b[0;31m \u001b[0mdistr_string\u001b[0m \u001b[0;34m=\u001b[0m \u001b[0mfind\u001b[0m\u001b[0;34m(\u001b[0m\u001b[0mtext\u001b[0m\u001b[0;34m=\u001b[0m\u001b[0mdistributor_reggex\u001b[0m\u001b[0;34m)\u001b[0m\u001b[0;34m.\u001b[0m\u001b[0mfindNext\u001b[0m\u001b[0;34m(\u001b[0m\u001b[0;34m'span'\u001b[0m\u001b[0;34m)\u001b[0m\u001b[0;34m.\u001b[0m\u001b[0mtext\u001b[0m\u001b[0;34m\u001b[0m\u001b[0;34m\u001b[0m\u001b[0m\n\u001b[0m",
      "\u001b[0;31mNameError\u001b[0m: name 'find' is not defined"
     ]
    }
   ],
   "source": [
    "distr_string = find(text=distributor_reggex).findNext('span').text"
   ]
  },
  {
   "cell_type": "code",
   "execution_count": 14,
   "metadata": {},
   "outputs": [
    {
     "data": {
      "text/plain": [
       "'Walt Disney Studio'"
      ]
     },
     "execution_count": 14,
     "metadata": {},
     "output_type": "execute_result"
    }
   ],
   "source": [
    "dist_string = soup.find(text=distributor_reggex).findNext('span').text[:18]\n",
    "dom_dist = dist_string\n",
    "dom_dist"
   ]
  },
  {
   "cell_type": "markdown",
   "metadata": {},
   "source": [
    "### Get Movie (findNext) Values"
   ]
  },
  {
   "cell_type": "code",
   "execution_count": 15,
   "metadata": {},
   "outputs": [],
   "source": [
    "def get_movie_value(soup, field_name):\n",
    "    \n",
    "    \"\"\"\n",
    "    Get a value fro the movie page and take the string attribute of a movie on the page and return\n",
    "    the value of the next sibling object or None if nothing is found.\n",
    "    \n",
    "    \"\"\"\n",
    "    obj = soup.find(text=re.compile(field_name))\n",
    "    if not obj:\n",
    "        return None\n",
    "    next_element = obj.findNext()\n",
    "    \n",
    "    if next_element:\n",
    "        return next_element.text\n",
    "    else:\n",
    "        return None\n",
    "    "
   ]
  },
  {
   "cell_type": "markdown",
   "metadata": {},
   "source": [
    "#### Domestic Opening Gross"
   ]
  },
  {
   "cell_type": "code",
   "execution_count": 16,
   "metadata": {},
   "outputs": [
    {
     "data": {
      "text/plain": [
       "'$247,966,675'"
      ]
     },
     "execution_count": 16,
     "metadata": {},
     "output_type": "execute_result"
    }
   ],
   "source": [
    "dom_opening_gross = soup.find(class_='mojo-summary-values').find_all('span', class_ = 'money')[0].text\n",
    "dom_opening_gross"
   ]
  },
  {
   "cell_type": "code",
   "execution_count": 17,
   "metadata": {},
   "outputs": [
    {
     "data": {
      "text/plain": [
       "'$245,000,000'"
      ]
     },
     "execution_count": 17,
     "metadata": {},
     "output_type": "execute_result"
    }
   ],
   "source": [
    "production_budget = soup.find(class_='mojo-summary-values').find_all('span', class_ = 'money')[1].text\n",
    "production_budget"
   ]
  },
  {
   "cell_type": "markdown",
   "metadata": {},
   "source": [
    "#### Runtime"
   ]
  },
  {
   "cell_type": "code",
   "execution_count": 18,
   "metadata": {},
   "outputs": [
    {
     "name": "stdout",
     "output_type": "stream",
     "text": [
      "2 hr 18 min\n"
     ]
    }
   ],
   "source": [
    "runtime = get_movie_value(soup, 'Running')\n",
    "print(runtime)"
   ]
  },
  {
   "cell_type": "markdown",
   "metadata": {},
   "source": [
    "#### Rating"
   ]
  },
  {
   "cell_type": "code",
   "execution_count": 19,
   "metadata": {},
   "outputs": [
    {
     "name": "stdout",
     "output_type": "stream",
     "text": [
      "PG-13\n"
     ]
    }
   ],
   "source": [
    "rating = get_movie_value(soup, 'MPAA')\n",
    "print(rating)"
   ]
  },
  {
   "cell_type": "markdown",
   "metadata": {},
   "source": [
    "#### Release Date"
   ]
  },
  {
   "cell_type": "code",
   "execution_count": 20,
   "metadata": {},
   "outputs": [
    {
     "name": "stdout",
     "output_type": "stream",
     "text": [
      "December 16, 2015\n"
     ]
    }
   ],
   "source": [
    "rel_date = get_movie_value(soup, 'Release Date').split('\\n')[0]\n",
    "print(rel_date)"
   ]
  },
  {
   "cell_type": "code",
   "execution_count": 21,
   "metadata": {},
   "outputs": [
    {
     "data": {
      "text/plain": [
       "12"
      ]
     },
     "execution_count": 21,
     "metadata": {},
     "output_type": "execute_result"
    }
   ],
   "source": [
    "date = dateutil.parser.parse(rel_date)\n",
    "date.month"
   ]
  },
  {
   "cell_type": "code",
   "execution_count": 22,
   "metadata": {},
   "outputs": [
    {
     "data": {
      "text/plain": [
       "2015"
      ]
     },
     "execution_count": 22,
     "metadata": {},
     "output_type": "execute_result"
    }
   ],
   "source": [
    "date = dateutil.parser.parse(rel_date)\n",
    "date.year\n"
   ]
  },
  {
   "cell_type": "code",
   "execution_count": 23,
   "metadata": {},
   "outputs": [],
   "source": [
    "import datetime\n",
    "\n",
    "a = '2010-01-31'\n",
    "\n",
    "datee = datetime.datetime.strptime(a, \"%Y-%m-%d\")\n",
    "\n",
    "\n",
    "datee.month\n",
    "Out[9]: 1\n",
    "\n",
    "datee.year\n",
    "Out[10]: 2010\n",
    "\n",
    "datee.day\n",
    "Out[11]: 31"
   ]
  },
  {
   "cell_type": "markdown",
   "metadata": {},
   "source": [
    "#### Genres"
   ]
  },
  {
   "cell_type": "code",
   "execution_count": 24,
   "metadata": {},
   "outputs": [
    {
     "data": {
      "text/plain": [
       "['Action', 'Adventure', 'Sci-Fi']"
      ]
     },
     "execution_count": 24,
     "metadata": {},
     "output_type": "execute_result"
    }
   ],
   "source": [
    "genres = get_movie_value(soup, 'Genres').split()\n",
    "genres"
   ]
  },
  {
   "cell_type": "markdown",
   "metadata": {},
   "source": [
    "#### Distributor"
   ]
  },
  {
   "cell_type": "code",
   "execution_count": 25,
   "metadata": {},
   "outputs": [
    {
     "data": {
      "text/plain": [
       "'Walt Disney Studios Motion Pictures'"
      ]
     },
     "execution_count": 25,
     "metadata": {},
     "output_type": "execute_result"
    }
   ],
   "source": [
    "distributor = get_movie_value(soup, 'Distributor')[:35]\n",
    "distributor"
   ]
  },
  {
   "cell_type": "markdown",
   "metadata": {},
   "source": [
    "### Function to convert money and time string into integer values"
   ]
  },
  {
   "cell_type": "code",
   "execution_count": 26,
   "metadata": {},
   "outputs": [],
   "source": [
    "def money_to_int(moneystring):\n",
    "    \n",
    "    \"\"\"\n",
    "    replaces the $ sign and removing the comma separator from the money string\n",
    "    returns the integer value\n",
    "    \"\"\"\n",
    "    \n",
    "    moneystring = moneystring.replace('$', '').replace(',', '')\n",
    "    return int(moneystring)\n",
    "\n",
    "def runtime_to_minutes(runtimestring):\n",
    "    \n",
    "    \"\"\"\n",
    "    takes runtimestring in _hr_min format and returns it's value in number of minutes\n",
    "    \"\"\"\n",
    "    \n",
    "    runtime = runtimestring.split()\n",
    "    try:\n",
    "        minutes = int(runtime[0]) * 60 + int(runtime[2])\n",
    "        return minutes\n",
    "    except:\n",
    "        return None\n",
    "    \n",
    "def to_date(datestring):\n",
    "    date = dateutil.parser.parse(datestring)\n",
    "    return date    "
   ]
  },
  {
   "cell_type": "code",
   "execution_count": 27,
   "metadata": {},
   "outputs": [
    {
     "data": {
      "text/plain": [
       "datetime.datetime(2015, 12, 16, 0, 0)"
      ]
     },
     "execution_count": 27,
     "metadata": {},
     "output_type": "execute_result"
    }
   ],
   "source": [
    "raw_dom_gross = dom_gross\n",
    "domestic_gross = money_to_int(raw_dom_gross)\n",
    "\n",
    "raw_intl_gross = intl_gross\n",
    "international_gross = money_to_int(raw_intl_gross)\n",
    "\n",
    "raw_world_gross = world_gross\n",
    "worldwide_gross = money_to_int(raw_world_gross)\n",
    "\n",
    "raw_opening_gross = dom_opening_gross\n",
    "domestic_opening_gross = money_to_int(raw_opening_gross)\n",
    "\n",
    "raw_budget = production_budget\n",
    "budget = money_to_int(raw_budget)\n",
    "\n",
    "raw_release_date = get_movie_value(soup,'Release Date').split('\\n')[0]\n",
    "release_date = to_date(raw_release_date)\n",
    "release_date"
   ]
  },
  {
   "cell_type": "code",
   "execution_count": 28,
   "metadata": {},
   "outputs": [
    {
     "data": {
      "text/plain": [
       "138"
      ]
     },
     "execution_count": 28,
     "metadata": {},
     "output_type": "execute_result"
    }
   ],
   "source": [
    "raw_runtime = get_movie_value(soup, 'Running')\n",
    "runtime_minutes = runtime_to_minutes(raw_runtime)\n",
    "runtime_minutes"
   ]
  },
  {
   "cell_type": "markdown",
   "metadata": {},
   "source": [
    "#### Release date"
   ]
  },
  {
   "cell_type": "code",
   "execution_count": 29,
   "metadata": {},
   "outputs": [
    {
     "data": {
      "text/plain": [
       "12"
      ]
     },
     "execution_count": 29,
     "metadata": {},
     "output_type": "execute_result"
    }
   ],
   "source": [
    "raw_release_date = get_movie_value(soup,'Release Date').split('\\n')[0]\n",
    "release_month = to_date(raw_release_date).month\n",
    "release_month"
   ]
  },
  {
   "cell_type": "code",
   "execution_count": 30,
   "metadata": {},
   "outputs": [
    {
     "data": {
      "text/plain": [
       "'December'"
      ]
     },
     "execution_count": 30,
     "metadata": {},
     "output_type": "execute_result"
    }
   ],
   "source": [
    "release_month = rel_date.split()[0]\n",
    "release_month"
   ]
  },
  {
   "cell_type": "markdown",
   "metadata": {},
   "source": [
    "#### Actors"
   ]
  },
  {
   "cell_type": "code",
   "execution_count": 31,
   "metadata": {},
   "outputs": [],
   "source": [
    "url = 'https://www.boxofficemojo.com/title/tt2488496/credits/?ref_=bo_tt_tab'\n",
    "response = requests.get(url)\n",
    "castcrew_page = response.text\n",
    "castcrew_soup = BeautifulSoup(castcrew_page, 'lxml')"
   ]
  },
  {
   "cell_type": "code",
   "execution_count": 32,
   "metadata": {},
   "outputs": [
    {
     "data": {
      "text/plain": [
       "['Daisy Ridley', 'John Boyega', 'Oscar Isaac', 'Domhnall Gleeson']"
      ]
     },
     "execution_count": 32,
     "metadata": {},
     "output_type": "execute_result"
    }
   ],
   "source": [
    "casts = castcrew_soup.find('table', id = 'principalCast').find_all('a', attrs={'class':'a-link-normal'})\n",
    "actors = []\n",
    "for cast in casts:\n",
    "    cast = cast.text.split('\\n')[0]\n",
    "    actors += [cast]\n",
    "actors"
   ]
  },
  {
   "cell_type": "markdown",
   "metadata": {},
   "source": [
    "#### Director"
   ]
  },
  {
   "cell_type": "code",
   "execution_count": 33,
   "metadata": {},
   "outputs": [],
   "source": [
    "crews = castcrew_soup.find('table', id = 'principalCrew').find_all('a', attrs={'class':'a-link-normal'})[0]"
   ]
  },
  {
   "cell_type": "code",
   "execution_count": 34,
   "metadata": {},
   "outputs": [
    {
     "data": {
      "text/plain": [
       "'J.J. Abrams'"
      ]
     },
     "execution_count": 34,
     "metadata": {},
     "output_type": "execute_result"
    }
   ],
   "source": [
    "crews.text.split('\\n')[0]"
   ]
  },
  {
   "cell_type": "markdown",
   "metadata": {},
   "source": [
    "### Getting the domestic lifetime ranking table"
   ]
  },
  {
   "cell_type": "code",
   "execution_count": 35,
   "metadata": {},
   "outputs": [],
   "source": [
    "url = 'https://www.boxofficemojo.com/chart/top_lifetime_gross/?ref_=bo_cso_ac'#change pages\n",
    "response = requests.get(url)\n",
    "page = response.text\n",
    "soup = BeautifulSoup(page, 'lxml')\n",
    "# print(soup.prettify())"
   ]
  },
  {
   "cell_type": "code",
   "execution_count": 36,
   "metadata": {},
   "outputs": [],
   "source": [
    "# finding the table\n",
    "table = soup.find('table')\n",
    "# table"
   ]
  },
  {
   "cell_type": "code",
   "execution_count": 37,
   "metadata": {},
   "outputs": [
    {
     "data": {
      "text/plain": [
       "[<td class=\"a-text-right mojo-header-column mojo-truncate mojo-field-type-rank\">1</td>,\n",
       " <td class=\"a-text-left mojo-field-type-title\"><a class=\"a-link-normal\" href=\"/title/tt2488496/?ref_=bo_cso_table_1\">Star Wars: Episode VII - The Force Awakens</a></td>,\n",
       " <td class=\"a-text-right mojo-field-type-money\">$936,662,225</td>,\n",
       " <td class=\"a-text-left mojo-field-type-year\"><a class=\"a-link-normal\" href=\"/year/2015/?ref_=bo_cso_table_1\">2015</a></td>]"
      ]
     },
     "execution_count": 37,
     "metadata": {},
     "output_type": "execute_result"
    }
   ],
   "source": [
    "rows = [row for row in table.find_all('tr')]\n",
    "rows[1].find_all('td')"
   ]
  },
  {
   "cell_type": "code",
   "execution_count": 38,
   "metadata": {},
   "outputs": [
    {
     "data": {
      "text/plain": [
       "'/title/tt2488496/?ref_=bo_cso_table_1'"
      ]
     },
     "execution_count": 38,
     "metadata": {},
     "output_type": "execute_result"
    }
   ],
   "source": [
    "rows[1].find_all('td')[1].find('a')['href']"
   ]
  },
  {
   "cell_type": "markdown",
   "metadata": {},
   "source": [
    "#### Previewing Lifetime Movie Data"
   ]
  },
  {
   "cell_type": "code",
   "execution_count": 39,
   "metadata": {},
   "outputs": [
    {
     "data": {
      "text/plain": [
       "{'Star Wars: Episode VII - The Force Awakens': ['/title/tt2488496/?ref_=bo_cso_table_1',\n",
       "  '1',\n",
       "  'Star Wars: Episode VII - The Force Awakens',\n",
       "  '$936,662,225',\n",
       "  '2015'],\n",
       " 'Avengers: Endgame': ['/title/tt4154796/?ref_=bo_cso_table_2',\n",
       "  '2',\n",
       "  'Avengers: Endgame',\n",
       "  '$858,373,000',\n",
       "  '2019'],\n",
       " 'Avatar': ['/title/tt0499549/?ref_=bo_cso_table_3',\n",
       "  '3',\n",
       "  'Avatar',\n",
       "  '$760,507,625',\n",
       "  '2009'],\n",
       " 'Black Panther': ['/title/tt1825683/?ref_=bo_cso_table_4',\n",
       "  '4',\n",
       "  'Black Panther',\n",
       "  '$700,426,566',\n",
       "  '2018'],\n",
       " 'Avengers: Infinity War': ['/title/tt4154756/?ref_=bo_cso_table_5',\n",
       "  '5',\n",
       "  'Avengers: Infinity War',\n",
       "  '$678,815,482',\n",
       "  '2018'],\n",
       " 'Titanic': ['/title/tt0120338/?ref_=bo_cso_table_6',\n",
       "  '6',\n",
       "  'Titanic',\n",
       "  '$659,363,944',\n",
       "  '1997'],\n",
       " 'Jurassic World': ['/title/tt0369610/?ref_=bo_cso_table_7',\n",
       "  '7',\n",
       "  'Jurassic World',\n",
       "  '$652,340,625',\n",
       "  '2015'],\n",
       " 'The Avengers': ['/title/tt0848228/?ref_=bo_cso_table_8',\n",
       "  '8',\n",
       "  'The Avengers',\n",
       "  '$623,357,910',\n",
       "  '2012'],\n",
       " 'Star Wars: Episode VIII - The Last Jedi': ['/title/tt2527336/?ref_=bo_cso_table_9',\n",
       "  '9',\n",
       "  'Star Wars: Episode VIII - The Last Jedi',\n",
       "  '$620,181,382',\n",
       "  '2017'],\n",
       " 'Incredibles 2': ['/title/tt3606756/?ref_=bo_cso_table_10',\n",
       "  '10',\n",
       "  'Incredibles 2',\n",
       "  '$608,581,744',\n",
       "  '2018'],\n",
       " 'The Lion King': ['/title/tt0110357/?ref_=bo_cso_table_28',\n",
       "  '28',\n",
       "  'The Lion King',\n",
       "  '$422,783,777',\n",
       "  '1994'],\n",
       " 'The Dark Knight': ['/title/tt0468569/?ref_=bo_cso_table_12',\n",
       "  '12',\n",
       "  'The Dark Knight',\n",
       "  '$534,858,444',\n",
       "  '2008'],\n",
       " 'Rogue One: A Star Wars Story': ['/title/tt3748528/?ref_=bo_cso_table_13',\n",
       "  '13',\n",
       "  'Rogue One: A Star Wars Story',\n",
       "  '$532,177,324',\n",
       "  '2016'],\n",
       " 'Star Wars: Episode IX - The Rise of Skywalker': ['/title/tt2527338/?ref_=bo_cso_table_14',\n",
       "  '14',\n",
       "  'Star Wars: Episode IX - The Rise of Skywalker',\n",
       "  '$515,202,542',\n",
       "  '2019'],\n",
       " 'Beauty and the Beast': ['/title/tt0101414/?ref_=bo_cso_table_172',\n",
       "  '172',\n",
       "  'Beauty and the Beast',\n",
       "  '$218,967,620',\n",
       "  '1991'],\n",
       " 'Finding Dory': ['/title/tt2277860/?ref_=bo_cso_table_16',\n",
       "  '16',\n",
       "  'Finding Dory',\n",
       "  '$486,295,561',\n",
       "  '2016'],\n",
       " 'Frozen II': ['/title/tt4520988/?ref_=bo_cso_table_17',\n",
       "  '17',\n",
       "  'Frozen II',\n",
       "  '$477,373,578',\n",
       "  '2019'],\n",
       " 'Star Wars: Episode I - The Phantom Menace': ['/title/tt0120915/?ref_=bo_cso_table_18',\n",
       "  '18',\n",
       "  'Star Wars: Episode I - The Phantom Menace',\n",
       "  '$474,544,677',\n",
       "  '1999'],\n",
       " 'Star Wars: Episode IV - A New Hope': ['/title/tt0076759/?ref_=bo_cso_table_19',\n",
       "  '19',\n",
       "  'Star Wars: Episode IV - A New Hope',\n",
       "  '$460,998,507',\n",
       "  '1977'],\n",
       " 'Avengers: Age of Ultron': ['/title/tt2395427/?ref_=bo_cso_table_20',\n",
       "  '20',\n",
       "  'Avengers: Age of Ultron',\n",
       "  '$459,005,868',\n",
       "  '2015'],\n",
       " 'The Dark Knight Rises': ['/title/tt1345836/?ref_=bo_cso_table_21',\n",
       "  '21',\n",
       "  'The Dark Knight Rises',\n",
       "  '$448,139,099',\n",
       "  '2012'],\n",
       " 'Shrek 2': ['/title/tt0298148/?ref_=bo_cso_table_22',\n",
       "  '22',\n",
       "  'Shrek 2',\n",
       "  '$441,226,247',\n",
       "  '2004'],\n",
       " 'E.T. the Extra-Terrestrial': ['/title/tt0083866/?ref_=bo_cso_table_23',\n",
       "  '23',\n",
       "  'E.T. the Extra-Terrestrial',\n",
       "  '$435,110,554',\n",
       "  '1982'],\n",
       " 'Toy Story 4': ['/title/tt1979376/?ref_=bo_cso_table_24',\n",
       "  '24',\n",
       "  'Toy Story 4',\n",
       "  '$434,038,008',\n",
       "  '2019'],\n",
       " 'Captain Marvel': ['/title/tt4154664/?ref_=bo_cso_table_25',\n",
       "  '25',\n",
       "  'Captain Marvel',\n",
       "  '$426,829,839',\n",
       "  '2019'],\n",
       " 'The Hunger Games: Catching Fire': ['/title/tt1951264/?ref_=bo_cso_table_26',\n",
       "  '26',\n",
       "  'The Hunger Games: Catching Fire',\n",
       "  '$424,668,047',\n",
       "  '2013'],\n",
       " \"Pirates of the Caribbean: Dead Man's Chest\": ['/title/tt0383574/?ref_=bo_cso_table_27',\n",
       "  '27',\n",
       "  \"Pirates of the Caribbean: Dead Man's Chest\",\n",
       "  '$423,315,812',\n",
       "  '2006'],\n",
       " 'Jurassic World: Fallen Kingdom': ['/title/tt4881806/?ref_=bo_cso_table_29',\n",
       "  '29',\n",
       "  'Jurassic World: Fallen Kingdom',\n",
       "  '$417,719,760',\n",
       "  '2018'],\n",
       " 'Toy Story 3': ['/title/tt0435761/?ref_=bo_cso_table_30',\n",
       "  '30',\n",
       "  'Toy Story 3',\n",
       "  '$415,004,880',\n",
       "  '2010'],\n",
       " 'Wonder Woman': ['/title/tt0451279/?ref_=bo_cso_table_31',\n",
       "  '31',\n",
       "  'Wonder Woman',\n",
       "  '$412,815,408',\n",
       "  '2017'],\n",
       " 'Iron Man 3': ['/title/tt1300854/?ref_=bo_cso_table_32',\n",
       "  '32',\n",
       "  'Iron Man 3',\n",
       "  '$409,013,994',\n",
       "  '2013'],\n",
       " 'Captain America: Civil War': ['/title/tt3498820/?ref_=bo_cso_table_33',\n",
       "  '33',\n",
       "  'Captain America: Civil War',\n",
       "  '$408,084,349',\n",
       "  '2016'],\n",
       " 'The Hunger Games': ['/title/tt1392170/?ref_=bo_cso_table_34',\n",
       "  '34',\n",
       "  'The Hunger Games',\n",
       "  '$408,010,692',\n",
       "  '2012'],\n",
       " 'Spider-Man': ['/title/tt0145487/?ref_=bo_cso_table_35',\n",
       "  '35',\n",
       "  'Spider-Man',\n",
       "  '$407,022,860',\n",
       "  '2002'],\n",
       " 'Jumanji: Welcome to the Jungle': ['/title/tt2283362/?ref_=bo_cso_table_36',\n",
       "  '36',\n",
       "  'Jumanji: Welcome to the Jungle',\n",
       "  '$404,540,171',\n",
       "  '2017'],\n",
       " 'Jurassic Park': ['/title/tt0107290/?ref_=bo_cso_table_37',\n",
       "  '37',\n",
       "  'Jurassic Park',\n",
       "  '$404,214,720',\n",
       "  '1993'],\n",
       " 'Transformers: Revenge of the Fallen': ['/title/tt1055369/?ref_=bo_cso_table_38',\n",
       "  '38',\n",
       "  'Transformers: Revenge of the Fallen',\n",
       "  '$402,111,870',\n",
       "  '2009'],\n",
       " 'Frozen': ['/title/tt2294629/?ref_=bo_cso_table_39',\n",
       "  '39',\n",
       "  'Frozen',\n",
       "  '$400,953,009',\n",
       "  '2013'],\n",
       " 'Spider-Man: Far from Home': ['/title/tt6320628/?ref_=bo_cso_table_40',\n",
       "  '40',\n",
       "  'Spider-Man: Far from Home',\n",
       "  '$390,532,085',\n",
       "  '2019'],\n",
       " 'Guardians of the Galaxy Vol. 2': ['/title/tt3896198/?ref_=bo_cso_table_41',\n",
       "  '41',\n",
       "  'Guardians of the Galaxy Vol. 2',\n",
       "  '$389,813,101',\n",
       "  '2017'],\n",
       " 'Harry Potter and the Deathly Hallows: Part 2': ['/title/tt1201607/?ref_=bo_cso_table_42',\n",
       "  '42',\n",
       "  'Harry Potter and the Deathly Hallows: Part 2',\n",
       "  '$381,409,310',\n",
       "  '2011'],\n",
       " 'Finding Nemo': ['/title/tt0266543/?ref_=bo_cso_table_43',\n",
       "  '43',\n",
       "  'Finding Nemo',\n",
       "  '$380,843,261',\n",
       "  '2003'],\n",
       " 'Star Wars: Episode III - Revenge of the Sith': ['/title/tt0121766/?ref_=bo_cso_table_44',\n",
       "  '44',\n",
       "  'Star Wars: Episode III - Revenge of the Sith',\n",
       "  '$380,270,577',\n",
       "  '2005'],\n",
       " 'The Lord of the Rings: The Return of the King': ['/title/tt0167260/?ref_=bo_cso_table_45',\n",
       "  '45',\n",
       "  'The Lord of the Rings: The Return of the King',\n",
       "  '$377,845,905',\n",
       "  '2003'],\n",
       " 'Spider-Man 2': ['/title/tt0316654/?ref_=bo_cso_table_46',\n",
       "  '46',\n",
       "  'Spider-Man 2',\n",
       "  '$373,585,825',\n",
       "  '2004'],\n",
       " 'The Passion of the Christ': ['/title/tt0335345/?ref_=bo_cso_table_47',\n",
       "  '47',\n",
       "  'The Passion of the Christ',\n",
       "  '$370,782,930',\n",
       "  '2004'],\n",
       " 'The Secret Life of Pets': ['/title/tt2709768/?ref_=bo_cso_table_48',\n",
       "  '48',\n",
       "  'The Secret Life of Pets',\n",
       "  '$368,384,330',\n",
       "  '2016'],\n",
       " 'Despicable Me 2': ['/title/tt1690953/?ref_=bo_cso_table_49',\n",
       "  '49',\n",
       "  'Despicable Me 2',\n",
       "  '$368,065,385',\n",
       "  '2013'],\n",
       " 'The Jungle Book': ['/title/tt3040964/?ref_=bo_cso_table_50',\n",
       "  '50',\n",
       "  'The Jungle Book',\n",
       "  '$364,001,123',\n",
       "  '2016'],\n",
       " 'Deadpool': ['/title/tt1431045/?ref_=bo_cso_table_51',\n",
       "  '51',\n",
       "  'Deadpool',\n",
       "  '$363,070,709',\n",
       "  '2016'],\n",
       " 'Inside Out': ['/title/tt2096673/?ref_=bo_cso_table_52',\n",
       "  '52',\n",
       "  'Inside Out',\n",
       "  '$356,921,711',\n",
       "  '2015'],\n",
       " 'Aladdin': ['/title/tt0103639/?ref_=bo_cso_table_178',\n",
       "  '178',\n",
       "  'Aladdin',\n",
       "  '$217,350,219',\n",
       "  '1992'],\n",
       " 'Furious 7': ['/title/tt2820852/?ref_=bo_cso_table_54',\n",
       "  '54',\n",
       "  'Furious 7',\n",
       "  '$353,007,020',\n",
       "  '2015'],\n",
       " 'Transformers: Dark of the Moon': ['/title/tt1399103/?ref_=bo_cso_table_55',\n",
       "  '55',\n",
       "  'Transformers: Dark of the Moon',\n",
       "  '$352,390,543',\n",
       "  '2011'],\n",
       " 'American Sniper': ['/title/tt2179136/?ref_=bo_cso_table_56',\n",
       "  '56',\n",
       "  'American Sniper',\n",
       "  '$350,126,372',\n",
       "  '2014'],\n",
       " 'The Lord of the Rings: The Two Towers': ['/title/tt0167261/?ref_=bo_cso_table_57',\n",
       "  '57',\n",
       "  'The Lord of the Rings: The Two Towers',\n",
       "  '$342,551,365',\n",
       "  '2002'],\n",
       " 'Zootopia': ['/title/tt2948356/?ref_=bo_cso_table_58',\n",
       "  '58',\n",
       "  'Zootopia',\n",
       "  '$341,268,248',\n",
       "  '2016'],\n",
       " 'The Hunger Games: Mockingjay - Part 1': ['/title/tt1951265/?ref_=bo_cso_table_59',\n",
       "  '59',\n",
       "  'The Hunger Games: Mockingjay - Part 1',\n",
       "  '$337,135,885',\n",
       "  '2014'],\n",
       " 'Spider-Man 3': ['/title/tt0413300/?ref_=bo_cso_table_60',\n",
       "  '60',\n",
       "  'Spider-Man 3',\n",
       "  '$336,530,303',\n",
       "  '2007'],\n",
       " 'Minions': ['/title/tt2293640/?ref_=bo_cso_table_61',\n",
       "  '61',\n",
       "  'Minions',\n",
       "  '$336,045,770',\n",
       "  '2015'],\n",
       " 'Joker': ['/title/tt7286456/?ref_=bo_cso_table_62',\n",
       "  '62',\n",
       "  'Joker',\n",
       "  '$335,451,311',\n",
       "  '2019'],\n",
       " 'Aquaman': ['/title/tt1477834/?ref_=bo_cso_table_63',\n",
       "  '63',\n",
       "  'Aquaman',\n",
       "  '$335,061,807',\n",
       "  '2018'],\n",
       " 'Spider-Man: Homecoming': ['/title/tt2250912/?ref_=bo_cso_table_64',\n",
       "  '64',\n",
       "  'Spider-Man: Homecoming',\n",
       "  '$334,201,140',\n",
       "  '2017'],\n",
       " 'Alice in Wonderland': ['/title/tt1014759/?ref_=bo_cso_table_65',\n",
       "  '65',\n",
       "  'Alice in Wonderland',\n",
       "  '$334,191,110',\n",
       "  '2010'],\n",
       " 'Guardians of the Galaxy': ['/title/tt2015381/?ref_=bo_cso_table_66',\n",
       "  '66',\n",
       "  'Guardians of the Galaxy',\n",
       "  '$333,718,600',\n",
       "  '2014'],\n",
       " 'Forrest Gump': ['/title/tt0109830/?ref_=bo_cso_table_67',\n",
       "  '67',\n",
       "  'Forrest Gump',\n",
       "  '$330,455,270',\n",
       "  '1994'],\n",
       " 'Batman v Superman: Dawn of Justice': ['/title/tt2975590/?ref_=bo_cso_table_68',\n",
       "  '68',\n",
       "  'Batman v Superman: Dawn of Justice',\n",
       "  '$330,360,194',\n",
       "  '2016'],\n",
       " 'It': ['/title/tt1396484/?ref_=bo_cso_table_69',\n",
       "  '69',\n",
       "  'It',\n",
       "  '$328,828,874',\n",
       "  '2017'],\n",
       " 'Suicide Squad': ['/title/tt1386697/?ref_=bo_cso_table_70',\n",
       "  '70',\n",
       "  'Suicide Squad',\n",
       "  '$325,100,054',\n",
       "  '2016'],\n",
       " 'Deadpool 2': ['/title/tt5463162/?ref_=bo_cso_table_71',\n",
       "  '71',\n",
       "  'Deadpool 2',\n",
       "  '$324,591,735',\n",
       "  '2018'],\n",
       " 'Shrek the Third': ['/title/tt0413267/?ref_=bo_cso_table_72',\n",
       "  '72',\n",
       "  'Shrek the Third',\n",
       "  '$322,719,944',\n",
       "  '2007'],\n",
       " 'Jumanji: The Next Level': ['/title/tt7975244/?ref_=bo_cso_table_73',\n",
       "  '73',\n",
       "  'Jumanji: The Next Level',\n",
       "  '$320,314,960',\n",
       "  '2019'],\n",
       " 'Transformers': ['/title/tt0418279/?ref_=bo_cso_table_74',\n",
       "  '74',\n",
       "  'Transformers',\n",
       "  '$319,246,193',\n",
       "  '2007'],\n",
       " 'Iron Man': ['/title/tt0371746/?ref_=bo_cso_table_75',\n",
       "  '75',\n",
       "  'Iron Man',\n",
       "  '$319,034,126',\n",
       "  '2008'],\n",
       " \"Harry Potter and the Sorcerer's Stone\": ['/title/tt0241527/?ref_=bo_cso_table_76',\n",
       "  '76',\n",
       "  \"Harry Potter and the Sorcerer's Stone\",\n",
       "  '$318,087,620',\n",
       "  '2001'],\n",
       " 'Indiana Jones and the Kingdom of the Crystal Skull': ['/title/tt0367882/?ref_=bo_cso_table_77',\n",
       "  '77',\n",
       "  'Indiana Jones and the Kingdom of the Crystal Skull',\n",
       "  '$317,101,119',\n",
       "  '2008'],\n",
       " 'The Lord of the Rings: The Fellowship of the Ring': ['/title/tt0120737/?ref_=bo_cso_table_78',\n",
       "  '78',\n",
       "  'The Lord of the Rings: The Fellowship of the Ring',\n",
       "  '$315,544,750',\n",
       "  '2001'],\n",
       " 'Thor: Ragnarok': ['/title/tt3501632/?ref_=bo_cso_table_79',\n",
       "  '79',\n",
       "  'Thor: Ragnarok',\n",
       "  '$315,058,289',\n",
       "  '2017'],\n",
       " 'Iron Man 2': ['/title/tt1228705/?ref_=bo_cso_table_80',\n",
       "  '80',\n",
       "  'Iron Man 2',\n",
       "  '$312,433,331',\n",
       "  '2010'],\n",
       " 'Star Wars: Episode II - Attack of the Clones': ['/title/tt0121765/?ref_=bo_cso_table_81',\n",
       "  '81',\n",
       "  'Star Wars: Episode II - Attack of the Clones',\n",
       "  '$310,676,740',\n",
       "  '2002'],\n",
       " \"Pirates of the Caribbean: At World's End\": ['/title/tt0449088/?ref_=bo_cso_table_82',\n",
       "  '82',\n",
       "  \"Pirates of the Caribbean: At World's End\",\n",
       "  '$309,420,425',\n",
       "  '2007'],\n",
       " 'Star Wars: Episode VI - Return of the Jedi': ['/title/tt0086190/?ref_=bo_cso_table_83',\n",
       "  '83',\n",
       "  'Star Wars: Episode VI - Return of the Jedi',\n",
       "  '$309,306,177',\n",
       "  '1983'],\n",
       " 'Independence Day': ['/title/tt0116629/?ref_=bo_cso_table_84',\n",
       "  '84',\n",
       "  'Independence Day',\n",
       "  '$306,169,268',\n",
       "  '1996'],\n",
       " 'Pirates of the Caribbean: The Curse of the Black Pearl': ['/title/tt0325980/?ref_=bo_cso_table_85',\n",
       "  '85',\n",
       "  'Pirates of the Caribbean: The Curse of the Black Pearl',\n",
       "  '$305,413,918',\n",
       "  '2003'],\n",
       " 'Skyfall': ['/title/tt1074638/?ref_=bo_cso_table_86',\n",
       "  '86',\n",
       "  'Skyfall',\n",
       "  '$304,360,277',\n",
       "  '2012'],\n",
       " 'The Hobbit: An Unexpected Journey': ['/title/tt0903624/?ref_=bo_cso_table_87',\n",
       "  '87',\n",
       "  'The Hobbit: An Unexpected Journey',\n",
       "  '$303,003,568',\n",
       "  '2012'],\n",
       " 'Harry Potter and the Half-Blood Prince': ['/title/tt0417741/?ref_=bo_cso_table_88',\n",
       "  '88',\n",
       "  'Harry Potter and the Half-Blood Prince',\n",
       "  '$302,305,431',\n",
       "  '2009'],\n",
       " 'The Twilight Saga: Eclipse': ['/title/tt1325004/?ref_=bo_cso_table_89',\n",
       "  '89',\n",
       "  'The Twilight Saga: Eclipse',\n",
       "  '$300,531,751',\n",
       "  '2010'],\n",
       " 'The Twilight Saga: New Moon': ['/title/tt1259571/?ref_=bo_cso_table_90',\n",
       "  '90',\n",
       "  'The Twilight Saga: New Moon',\n",
       "  '$297,816,253',\n",
       "  '2009'],\n",
       " 'Harry Potter and the Deathly Hallows: Part 1': ['/title/tt0926084/?ref_=bo_cso_table_91',\n",
       "  '91',\n",
       "  'Harry Potter and the Deathly Hallows: Part 1',\n",
       "  '$296,347,721',\n",
       "  '2010'],\n",
       " 'The Sixth Sense': ['/title/tt0167404/?ref_=bo_cso_table_92',\n",
       "  '92',\n",
       "  'The Sixth Sense',\n",
       "  '$293,506,292',\n",
       "  '1999'],\n",
       " 'Up': ['/title/tt1049413/?ref_=bo_cso_table_93',\n",
       "  '93',\n",
       "  'Up',\n",
       "  '$293,004,164',\n",
       "  '2009'],\n",
       " 'Star Wars: Episode V - The Empire Strikes Back': ['/title/tt0080684/?ref_=bo_cso_table_94',\n",
       "  '94',\n",
       "  'Star Wars: Episode V - The Empire Strikes Back',\n",
       "  '$292,753,960',\n",
       "  '1980'],\n",
       " 'Inception': ['/title/tt1375666/?ref_=bo_cso_table_95',\n",
       "  '95',\n",
       "  'Inception',\n",
       "  '$292,576,195',\n",
       "  '2010'],\n",
       " 'Harry Potter and the Order of the Phoenix': ['/title/tt0373889/?ref_=bo_cso_table_96',\n",
       "  '96',\n",
       "  'Harry Potter and the Order of the Phoenix',\n",
       "  '$292,353,413',\n",
       "  '2007'],\n",
       " 'The Twilight Saga: Breaking Dawn - Part 2': ['/title/tt1673434/?ref_=bo_cso_table_97',\n",
       "  '97',\n",
       "  'The Twilight Saga: Breaking Dawn - Part 2',\n",
       "  '$292,324,737',\n",
       "  '2012'],\n",
       " 'The Chronicles of Narnia: The Lion, the Witch and the Wardrobe': ['/title/tt0363771/?ref_=bo_cso_table_98',\n",
       "  '98',\n",
       "  'The Chronicles of Narnia: The Lion, the Witch and the Wardrobe',\n",
       "  '$291,710,957',\n",
       "  '2005'],\n",
       " 'Man of Steel': ['/title/tt0770828/?ref_=bo_cso_table_99',\n",
       "  '99',\n",
       "  'Man of Steel',\n",
       "  '$291,045,518',\n",
       "  '2013'],\n",
       " 'Monsters, Inc.': ['/title/tt0198781/?ref_=bo_cso_table_100',\n",
       "  '100',\n",
       "  'Monsters, Inc.',\n",
       "  '$290,642,256',\n",
       "  '2001'],\n",
       " 'Harry Potter and the Goblet of Fire': ['/title/tt0330373/?ref_=bo_cso_table_101',\n",
       "  '101',\n",
       "  'Harry Potter and the Goblet of Fire',\n",
       "  '$290,417,905',\n",
       "  '2005'],\n",
       " 'Home Alone': ['/title/tt0099785/?ref_=bo_cso_table_102',\n",
       "  '102',\n",
       "  'Home Alone',\n",
       "  '$285,761,243',\n",
       "  '1990'],\n",
       " 'The Hunger Games: Mockingjay - Part 2': ['/title/tt1951266/?ref_=bo_cso_table_103',\n",
       "  '103',\n",
       "  'The Hunger Games: Mockingjay - Part 2',\n",
       "  '$281,723,902',\n",
       "  '2015'],\n",
       " 'The Matrix Reloaded': ['/title/tt0234215/?ref_=bo_cso_table_104',\n",
       "  '104',\n",
       "  'The Matrix Reloaded',\n",
       "  '$281,576,461',\n",
       "  '2003'],\n",
       " 'The Twilight Saga: Breaking Dawn - Part 1': ['/title/tt1324999/?ref_=bo_cso_table_105',\n",
       "  '105',\n",
       "  'The Twilight Saga: Breaking Dawn - Part 1',\n",
       "  '$281,287,133',\n",
       "  '2011'],\n",
       " 'Meet the Fockers': ['/title/tt0290002/?ref_=bo_cso_table_106',\n",
       "  '106',\n",
       "  'Meet the Fockers',\n",
       "  '$279,261,160',\n",
       "  '2004'],\n",
       " 'The Hangover': ['/title/tt1119646/?ref_=bo_cso_table_107',\n",
       "  '107',\n",
       "  'The Hangover',\n",
       "  '$277,322,503',\n",
       "  '2009'],\n",
       " 'Gravity': ['/title/tt1454468/?ref_=bo_cso_table_108',\n",
       "  '108',\n",
       "  'Gravity',\n",
       "  '$274,092,705',\n",
       "  '2013'],\n",
       " 'The Grinch': ['/title/tt2709692/?ref_=bo_cso_table_109',\n",
       "  '109',\n",
       "  'The Grinch',\n",
       "  '$271,073,731',\n",
       "  '2018'],\n",
       " 'Sing': ['/title/tt3470600/?ref_=bo_cso_table_110',\n",
       "  '110',\n",
       "  'Sing',\n",
       "  '$270,448,425',\n",
       "  '2016'],\n",
       " 'Monsters University': ['/title/tt1453405/?ref_=bo_cso_table_111',\n",
       "  '111',\n",
       "  'Monsters University',\n",
       "  '$268,492,764',\n",
       "  '2013'],\n",
       " 'Shrek': ['/title/tt0126029/?ref_=bo_cso_table_112',\n",
       "  '112',\n",
       "  'Shrek',\n",
       "  '$267,665,011',\n",
       "  '2001'],\n",
       " 'Despicable Me 3': ['/title/tt3469046/?ref_=bo_cso_table_113',\n",
       "  '113',\n",
       "  'Despicable Me 3',\n",
       "  '$264,624,300',\n",
       "  '2017'],\n",
       " 'Harry Potter and the Chamber of Secrets': ['/title/tt0295297/?ref_=bo_cso_table_114',\n",
       "  '114',\n",
       "  'Harry Potter and the Chamber of Secrets',\n",
       "  '$262,450,136',\n",
       "  '2002'],\n",
       " 'The Amazing Spider-Man': ['/title/tt0948470/?ref_=bo_cso_table_115',\n",
       "  '115',\n",
       "  'The Amazing Spider-Man',\n",
       "  '$262,030,663',\n",
       "  '2012'],\n",
       " 'The Incredibles': ['/title/tt0317705/?ref_=bo_cso_table_116',\n",
       "  '116',\n",
       "  'The Incredibles',\n",
       "  '$261,441,092',\n",
       "  '2004'],\n",
       " 'Jaws': ['/title/tt0073195/?ref_=bo_cso_table_117',\n",
       "  '117',\n",
       "  'Jaws',\n",
       "  '$260,758,300',\n",
       "  '1975'],\n",
       " 'How the Grinch Stole Christmas': ['/title/tt0170016/?ref_=bo_cso_table_118',\n",
       "  '118',\n",
       "  'How the Grinch Stole Christmas',\n",
       "  '$260,465,005',\n",
       "  '2000'],\n",
       " 'Captain America: The Winter Soldier': ['/title/tt1843866/?ref_=bo_cso_table_119',\n",
       "  '119',\n",
       "  'Captain America: The Winter Soldier',\n",
       "  '$259,766,572',\n",
       "  '2014'],\n",
       " 'The Hobbit: The Desolation of Smaug': ['/title/tt1170358/?ref_=bo_cso_table_120',\n",
       "  '120',\n",
       "  'The Hobbit: The Desolation of Smaug',\n",
       "  '$258,366,855',\n",
       "  '2013'],\n",
       " 'The Lego Movie': ['/title/tt1490017/?ref_=bo_cso_table_121',\n",
       "  '121',\n",
       "  'The Lego Movie',\n",
       "  '$257,760,692',\n",
       "  '2014'],\n",
       " 'Star Trek': ['/title/tt0796366/?ref_=bo_cso_table_122',\n",
       "  '122',\n",
       "  'Star Trek',\n",
       "  '$257,730,019',\n",
       "  '2009'],\n",
       " 'I Am Legend': ['/title/tt0480249/?ref_=bo_cso_table_123',\n",
       "  '123',\n",
       "  'I Am Legend',\n",
       "  '$256,393,010',\n",
       "  '2007'],\n",
       " 'The Blind Side': ['/title/tt0878804/?ref_=bo_cso_table_124',\n",
       "  '124',\n",
       "  'The Blind Side',\n",
       "  '$255,959,475',\n",
       "  '2009'],\n",
       " 'The Hobbit: The Battle of the Five Armies': ['/title/tt2310332/?ref_=bo_cso_table_125',\n",
       "  '125',\n",
       "  'The Hobbit: The Battle of the Five Armies',\n",
       "  '$255,119,788',\n",
       "  '2014'],\n",
       " 'The Hangover Part II': ['/title/tt1411697/?ref_=bo_cso_table_126',\n",
       "  '126',\n",
       "  'The Hangover Part II',\n",
       "  '$254,464,305',\n",
       "  '2011'],\n",
       " 'Despicable Me': ['/title/tt1323594/?ref_=bo_cso_table_127',\n",
       "  '127',\n",
       "  'Despicable Me',\n",
       "  '$251,513,985',\n",
       "  '2010'],\n",
       " 'Batman': ['/title/tt0096895/?ref_=bo_cso_table_128',\n",
       "  '128',\n",
       "  'Batman',\n",
       "  '$251,348,343',\n",
       "  '1989'],\n",
       " 'Night at the Museum': ['/title/tt0477347/?ref_=bo_cso_table_129',\n",
       "  '129',\n",
       "  'Night at the Museum',\n",
       "  '$250,863,268',\n",
       "  '2006'],\n",
       " 'Men in Black': ['/title/tt0119654/?ref_=bo_cso_table_130',\n",
       "  '130',\n",
       "  'Men in Black',\n",
       "  '$250,690,539',\n",
       "  '1997'],\n",
       " 'Harry Potter and the Prisoner of Azkaban': ['/title/tt0304141/?ref_=bo_cso_table_131',\n",
       "  '131',\n",
       "  'Harry Potter and the Prisoner of Azkaban',\n",
       "  '$249,975,996',\n",
       "  '2004'],\n",
       " 'Moana': ['/title/tt3521164/?ref_=bo_cso_table_132',\n",
       "  '132',\n",
       "  'Moana',\n",
       "  '$248,757,044',\n",
       "  '2016'],\n",
       " 'Indiana Jones and the Raiders of the Lost Ark': ['/title/tt0082971/?ref_=bo_cso_table_133',\n",
       "  '133',\n",
       "  'Indiana Jones and the Raiders of the Lost Ark',\n",
       "  '$248,159,971',\n",
       "  '1981'],\n",
       " 'Toy Story 2': ['/title/tt0120363/?ref_=bo_cso_table_134',\n",
       "  '134',\n",
       "  'Toy Story 2',\n",
       "  '$245,852,179',\n",
       "  '1999'],\n",
       " 'Transformers: Age of Extinction': ['/title/tt2109248/?ref_=bo_cso_table_135',\n",
       "  '135',\n",
       "  'Transformers: Age of Extinction',\n",
       "  '$245,439,076',\n",
       "  '2014'],\n",
       " 'Cars': ['/title/tt0317219/?ref_=bo_cso_table_136',\n",
       "  '136',\n",
       "  'Cars',\n",
       "  '$244,082,982',\n",
       "  '2006'],\n",
       " 'Ghostbusters': ['/title/tt0087332/?ref_=bo_cso_table_137',\n",
       "  '137',\n",
       "  'Ghostbusters',\n",
       "  '$243,187,079',\n",
       "  '1984'],\n",
       " 'Bruce Almighty': ['/title/tt0315327/?ref_=bo_cso_table_138',\n",
       "  '138',\n",
       "  'Bruce Almighty',\n",
       "  '$242,829,261',\n",
       "  '2003'],\n",
       " 'Twister': ['/title/tt0117998/?ref_=bo_cso_table_139',\n",
       "  '139',\n",
       "  'Twister',\n",
       "  '$241,721,524',\n",
       "  '1996'],\n",
       " 'My Big Fat Greek Wedding': ['/title/tt0259446/?ref_=bo_cso_table_140',\n",
       "  '140',\n",
       "  'My Big Fat Greek Wedding',\n",
       "  '$241,438,208',\n",
       "  '2002'],\n",
       " 'Maleficent': ['/title/tt1587310/?ref_=bo_cso_table_141',\n",
       "  '141',\n",
       "  'Maleficent',\n",
       "  '$241,410,378',\n",
       "  '2014'],\n",
       " 'Pirates of the Caribbean: On Stranger Tides': ['/title/tt1298650/?ref_=bo_cso_table_142',\n",
       "  '142',\n",
       "  'Pirates of the Caribbean: On Stranger Tides',\n",
       "  '$241,071,802',\n",
       "  '2011'],\n",
       " 'Shrek Forever After': ['/title/tt0892791/?ref_=bo_cso_table_143',\n",
       "  '143',\n",
       "  'Shrek Forever After',\n",
       "  '$238,736,787',\n",
       "  '2010'],\n",
       " 'Fast & Furious 6': ['/title/tt1905041/?ref_=bo_cso_table_144',\n",
       "  '144',\n",
       "  'Fast & Furious 6',\n",
       "  '$238,679,850',\n",
       "  '2013'],\n",
       " 'Brave': ['/title/tt1217209/?ref_=bo_cso_table_145',\n",
       "  '145',\n",
       "  'Brave',\n",
       "  '$237,283,207',\n",
       "  '2012'],\n",
       " 'Oz the Great and Powerful': ['/title/tt1623205/?ref_=bo_cso_table_146',\n",
       "  '146',\n",
       "  'Oz the Great and Powerful',\n",
       "  '$234,911,825',\n",
       "  '2013'],\n",
       " 'Beverly Hills Cop': ['/title/tt0086960/?ref_=bo_cso_table_147',\n",
       "  '147',\n",
       "  'Beverly Hills Cop',\n",
       "  '$234,760,478',\n",
       "  '1984'],\n",
       " 'X-Men: The Last Stand': ['/title/tt0376994/?ref_=bo_cso_table_148',\n",
       "  '148',\n",
       "  'X-Men: The Last Stand',\n",
       "  '$234,362,462',\n",
       "  '2006'],\n",
       " 'War of the Worlds': ['/title/tt0407304/?ref_=bo_cso_table_149',\n",
       "  '149',\n",
       "  'War of the Worlds',\n",
       "  '$234,280,354',\n",
       "  '2005'],\n",
       " 'Fantastic Beasts and Where to Find Them': ['/title/tt3183660/?ref_=bo_cso_table_150',\n",
       "  '150',\n",
       "  'Fantastic Beasts and Where to Find Them',\n",
       "  '$234,037,575',\n",
       "  '2016'],\n",
       " 'X-Men: Days of Future Past': ['/title/tt1877832/?ref_=bo_cso_table_151',\n",
       "  '151',\n",
       "  'X-Men: Days of Future Past',\n",
       "  '$233,921,534',\n",
       "  '2014'],\n",
       " 'Cast Away': ['/title/tt0162222/?ref_=bo_cso_table_152',\n",
       "  '152',\n",
       "  'Cast Away',\n",
       "  '$233,632,142',\n",
       "  '2000'],\n",
       " 'The Exorcist': ['/title/tt0070047/?ref_=bo_cso_table_153',\n",
       "  '153',\n",
       "  'The Exorcist',\n",
       "  '$232,906,145',\n",
       "  '1973'],\n",
       " 'Doctor Strange': ['/title/tt1211837/?ref_=bo_cso_table_154',\n",
       "  '154',\n",
       "  'Doctor Strange',\n",
       "  '$232,641,920',\n",
       "  '2016'],\n",
       " 'The Lost World: Jurassic Park': ['/title/tt0119567/?ref_=bo_cso_table_155',\n",
       "  '155',\n",
       "  'The Lost World: Jurassic Park',\n",
       "  '$229,086,679',\n",
       "  '1997'],\n",
       " 'Justice League': ['/title/tt0974015/?ref_=bo_cso_table_156',\n",
       "  '156',\n",
       "  'Justice League',\n",
       "  '$229,024,295',\n",
       "  '2017'],\n",
       " 'Star Trek Into Darkness': ['/title/tt1408101/?ref_=bo_cso_table_157',\n",
       "  '157',\n",
       "  'Star Trek Into Darkness',\n",
       "  '$228,778,661',\n",
       "  '2013'],\n",
       " 'The Martian': ['/title/tt3659388/?ref_=bo_cso_table_158',\n",
       "  '158',\n",
       "  'The Martian',\n",
       "  '$228,433,663',\n",
       "  '2015'],\n",
       " 'Signs': ['/title/tt0286106/?ref_=bo_cso_table_159',\n",
       "  '159',\n",
       "  'Signs',\n",
       "  '$227,966,634',\n",
       "  '2002'],\n",
       " 'Hancock': ['/title/tt0448157/?ref_=bo_cso_table_160',\n",
       "  '160',\n",
       "  'Hancock',\n",
       "  '$227,946,274',\n",
       "  '2008'],\n",
       " 'The Bourne Ultimatum': ['/title/tt0440963/?ref_=bo_cso_table_161',\n",
       "  '161',\n",
       "  'The Bourne Ultimatum',\n",
       "  '$227,471,070',\n",
       "  '2007'],\n",
       " 'Logan': ['/title/tt3315342/?ref_=bo_cso_table_162',\n",
       "  '162',\n",
       "  'Logan',\n",
       "  '$226,277,068',\n",
       "  '2017'],\n",
       " 'Rush Hour 2': ['/title/tt0266915/?ref_=bo_cso_table_163',\n",
       "  '163',\n",
       "  'Rush Hour 2',\n",
       "  '$226,164,286',\n",
       "  '2001'],\n",
       " 'The Fate of the Furious': ['/title/tt4630562/?ref_=bo_cso_table_164',\n",
       "  '164',\n",
       "  'The Fate of the Furious',\n",
       "  '$226,008,385',\n",
       "  '2017'],\n",
       " 'WALL·E': ['/title/tt0910970/?ref_=bo_cso_table_165',\n",
       "  '165',\n",
       "  'WALL·E',\n",
       "  '$223,808,164',\n",
       "  '2008'],\n",
       " 'Toy Story': ['/title/tt0114709/?ref_=bo_cso_table_166',\n",
       "  '166',\n",
       "  'Toy Story',\n",
       "  '$223,225,679',\n",
       "  '1995'],\n",
       " 'Big Hero 6': ['/title/tt2245084/?ref_=bo_cso_table_167',\n",
       "  '167',\n",
       "  'Big Hero 6',\n",
       "  '$222,527,828',\n",
       "  '2014'],\n",
       " 'Mission: Impossible - Fallout': ['/title/tt4912910/?ref_=bo_cso_table_168',\n",
       "  '168',\n",
       "  'Mission: Impossible - Fallout',\n",
       "  '$220,159,104',\n",
       "  '2018'],\n",
       " 'National Treasure: Book of Secrets': ['/title/tt0465234/?ref_=bo_cso_table_169',\n",
       "  '169',\n",
       "  'National Treasure: Book of Secrets',\n",
       "  '$219,964,115',\n",
       "  '2007'],\n",
       " 'Alvin and the Chipmunks: The Squeakquel': ['/title/tt1231580/?ref_=bo_cso_table_170',\n",
       "  '170',\n",
       "  'Alvin and the Chipmunks: The Squeakquel',\n",
       "  '$219,614,612',\n",
       "  '2009'],\n",
       " 'Mrs. Doubtfire': ['/title/tt0107614/?ref_=bo_cso_table_171',\n",
       "  '171',\n",
       "  'Mrs. Doubtfire',\n",
       "  '$219,195,243',\n",
       "  '1993'],\n",
       " 'Ted': ['/title/tt1637725/?ref_=bo_cso_table_173',\n",
       "  '173',\n",
       "  'Ted',\n",
       "  '$218,815,487',\n",
       "  '2012'],\n",
       " 'King Kong': ['/title/tt0360717/?ref_=bo_cso_table_174',\n",
       "  '174',\n",
       "  'King Kong',\n",
       "  '$218,080,025',\n",
       "  '2005'],\n",
       " 'Ghost': ['/title/tt0099653/?ref_=bo_cso_table_175',\n",
       "  '175',\n",
       "  'Ghost',\n",
       "  '$217,631,306',\n",
       "  '1990'],\n",
       " 'How to Train Your Dragon': ['/title/tt0892769/?ref_=bo_cso_table_176',\n",
       "  '176',\n",
       "  'How to Train Your Dragon',\n",
       "  '$217,581,231',\n",
       "  '2010'],\n",
       " 'The Da Vinci Code': ['/title/tt0382625/?ref_=bo_cso_table_177',\n",
       "  '177',\n",
       "  'The Da Vinci Code',\n",
       "  '$217,536,138',\n",
       "  '2006'],\n",
       " 'Alvin and the Chipmunks': ['/title/tt0952640/?ref_=bo_cso_table_179',\n",
       "  '179',\n",
       "  'Alvin and the Chipmunks',\n",
       "  '$217,326,974',\n",
       "  '2007'],\n",
       " 'Saving Private Ryan': ['/title/tt0120815/?ref_=bo_cso_table_180',\n",
       "  '180',\n",
       "  'Saving Private Ryan',\n",
       "  '$217,049,603',\n",
       "  '1998'],\n",
       " 'Bohemian Rhapsody': ['/title/tt1727824/?ref_=bo_cso_table_181',\n",
       "  '181',\n",
       "  'Bohemian Rhapsody',\n",
       "  '$216,668,042',\n",
       "  '2018'],\n",
       " 'Ant-Man and the Wasp': ['/title/tt5095030/?ref_=bo_cso_table_182',\n",
       "  '182',\n",
       "  'Ant-Man and the Wasp',\n",
       "  '$216,648,740',\n",
       "  '2018'],\n",
       " \"Madagascar 3: Europe's Most Wanted\": ['/title/tt1277953/?ref_=bo_cso_table_183',\n",
       "  '183',\n",
       "  \"Madagascar 3: Europe's Most Wanted\",\n",
       "  '$216,391,482',\n",
       "  '2012'],\n",
       " 'Kung Fu Panda': ['/title/tt0441773/?ref_=bo_cso_table_184',\n",
       "  '184',\n",
       "  'Kung Fu Panda',\n",
       "  '$215,434,591',\n",
       "  '2008'],\n",
       " 'Mission: Impossible II': ['/title/tt0120755/?ref_=bo_cso_table_185',\n",
       "  '185',\n",
       "  'Mission: Impossible II',\n",
       "  '$215,409,889',\n",
       "  '2000'],\n",
       " 'A Star Is Born': ['/title/tt1517451/?ref_=bo_cso_table_186',\n",
       "  '186',\n",
       "  'A Star Is Born',\n",
       "  '$215,288,866',\n",
       "  '2018'],\n",
       " 'X2: X-Men United': ['/title/tt0290334/?ref_=bo_cso_table_187',\n",
       "  '187',\n",
       "  'X2: X-Men United',\n",
       "  '$214,949,694',\n",
       "  '2003'],\n",
       " 'The Lorax': ['/title/tt1482459/?ref_=bo_cso_table_188',\n",
       "  '188',\n",
       "  'The Lorax',\n",
       "  '$214,030,500',\n",
       "  '2012'],\n",
       " 'Solo: A Star Wars Story': ['/title/tt3778644/?ref_=bo_cso_table_189',\n",
       "  '189',\n",
       "  'Solo: A Star Wars Story',\n",
       "  '$213,767,512',\n",
       "  '2018'],\n",
       " 'Venom': ['/title/tt1270797/?ref_=bo_cso_table_190',\n",
       "  '190',\n",
       "  'Venom',\n",
       "  '$213,515,506',\n",
       "  '2018'],\n",
       " 'Austin Powers in Goldmember': ['/title/tt0295178/?ref_=bo_cso_table_191',\n",
       "  '191',\n",
       "  'Austin Powers in Goldmember',\n",
       "  '$213,307,889',\n",
       "  '2002'],\n",
       " 'It Chapter Two': ['/title/tt7349950/?ref_=bo_cso_table_192',\n",
       "  '192',\n",
       "  'It Chapter Two',\n",
       "  '$211,593,228',\n",
       "  '2019'],\n",
       " 'Back to the Future': ['/title/tt0088763/?ref_=bo_cso_table_193',\n",
       "  '193',\n",
       "  'Back to the Future',\n",
       "  '$211,406,762',\n",
       "  '1985'],\n",
       " '300': ['/title/tt0416449/?ref_=bo_cso_table_194',\n",
       "  '194',\n",
       "  '300',\n",
       "  '$210,614,939',\n",
       "  '2007'],\n",
       " 'Coco': ['/title/tt2380307/?ref_=bo_cso_table_195',\n",
       "  '195',\n",
       "  'Coco',\n",
       "  '$210,460,015',\n",
       "  '2017'],\n",
       " 'Fast Five': ['/title/tt1596343/?ref_=bo_cso_table_196',\n",
       "  '196',\n",
       "  'Fast Five',\n",
       "  '$209,837,675',\n",
       "  '2011'],\n",
       " 'Mission: Impossible - Ghost Protocol': ['/title/tt1229238/?ref_=bo_cso_table_197',\n",
       "  '197',\n",
       "  'Mission: Impossible - Ghost Protocol',\n",
       "  '$209,397,903',\n",
       "  '2011'],\n",
       " 'Wedding Crashers': ['/title/tt0396269/?ref_=bo_cso_table_198',\n",
       "  '198',\n",
       "  'Wedding Crashers',\n",
       "  '$209,255,921',\n",
       "  '2005'],\n",
       " 'Sherlock Holmes': ['/title/tt0988045/?ref_=bo_cso_table_199',\n",
       "  '199',\n",
       "  'Sherlock Holmes',\n",
       "  '$209,028,679',\n",
       "  '2009'],\n",
       " 'Dawn of the Planet of the Apes': ['/title/tt2103281/?ref_=bo_cso_table_200',\n",
       "  '200',\n",
       "  'Dawn of the Planet of the Apes',\n",
       "  '$208,545,589',\n",
       "  '2014']}"
      ]
     },
     "execution_count": 39,
     "metadata": {},
     "output_type": "execute_result"
    }
   ],
   "source": [
    "movies = {}\n",
    "\n",
    "for row in rows[1:201]:\n",
    "    items = row.find_all('td')\n",
    "    link = items[1].find('a')\n",
    "    title = link.text\n",
    "    url = link['href']\n",
    "    movies[title] = [url]+ [i.text for i in items]\n",
    "\n",
    "movies"
   ]
  },
  {
   "cell_type": "code",
   "execution_count": 40,
   "metadata": {},
   "outputs": [
    {
     "data": {
      "text/html": [
       "<div>\n",
       "<style scoped>\n",
       "    .dataframe tbody tr th:only-of-type {\n",
       "        vertical-align: middle;\n",
       "    }\n",
       "\n",
       "    .dataframe tbody tr th {\n",
       "        vertical-align: top;\n",
       "    }\n",
       "\n",
       "    .dataframe thead th {\n",
       "        text-align: right;\n",
       "    }\n",
       "</style>\n",
       "<table border=\"1\" class=\"dataframe\">\n",
       "  <thead>\n",
       "    <tr style=\"text-align: right;\">\n",
       "      <th></th>\n",
       "      <th>link_stub</th>\n",
       "      <th>rank</th>\n",
       "      <th>title</th>\n",
       "      <th>domestic_gross</th>\n",
       "      <th>release_year</th>\n",
       "    </tr>\n",
       "  </thead>\n",
       "  <tbody>\n",
       "    <tr>\n",
       "      <th>Star Wars: Episode VII - The Force Awakens</th>\n",
       "      <td>/title/tt2488496/?ref_=bo_cso_table_1</td>\n",
       "      <td>1</td>\n",
       "      <td>Star Wars: Episode VII - The Force Awakens</td>\n",
       "      <td>$936,662,225</td>\n",
       "      <td>2015</td>\n",
       "    </tr>\n",
       "    <tr>\n",
       "      <th>Avengers: Endgame</th>\n",
       "      <td>/title/tt4154796/?ref_=bo_cso_table_2</td>\n",
       "      <td>2</td>\n",
       "      <td>Avengers: Endgame</td>\n",
       "      <td>$858,373,000</td>\n",
       "      <td>2019</td>\n",
       "    </tr>\n",
       "    <tr>\n",
       "      <th>Avatar</th>\n",
       "      <td>/title/tt0499549/?ref_=bo_cso_table_3</td>\n",
       "      <td>3</td>\n",
       "      <td>Avatar</td>\n",
       "      <td>$760,507,625</td>\n",
       "      <td>2009</td>\n",
       "    </tr>\n",
       "    <tr>\n",
       "      <th>Black Panther</th>\n",
       "      <td>/title/tt1825683/?ref_=bo_cso_table_4</td>\n",
       "      <td>4</td>\n",
       "      <td>Black Panther</td>\n",
       "      <td>$700,426,566</td>\n",
       "      <td>2018</td>\n",
       "    </tr>\n",
       "    <tr>\n",
       "      <th>Avengers: Infinity War</th>\n",
       "      <td>/title/tt4154756/?ref_=bo_cso_table_5</td>\n",
       "      <td>5</td>\n",
       "      <td>Avengers: Infinity War</td>\n",
       "      <td>$678,815,482</td>\n",
       "      <td>2018</td>\n",
       "    </tr>\n",
       "    <tr>\n",
       "      <th>...</th>\n",
       "      <td>...</td>\n",
       "      <td>...</td>\n",
       "      <td>...</td>\n",
       "      <td>...</td>\n",
       "      <td>...</td>\n",
       "    </tr>\n",
       "    <tr>\n",
       "      <th>Fast Five</th>\n",
       "      <td>/title/tt1596343/?ref_=bo_cso_table_196</td>\n",
       "      <td>196</td>\n",
       "      <td>Fast Five</td>\n",
       "      <td>$209,837,675</td>\n",
       "      <td>2011</td>\n",
       "    </tr>\n",
       "    <tr>\n",
       "      <th>Mission: Impossible - Ghost Protocol</th>\n",
       "      <td>/title/tt1229238/?ref_=bo_cso_table_197</td>\n",
       "      <td>197</td>\n",
       "      <td>Mission: Impossible - Ghost Protocol</td>\n",
       "      <td>$209,397,903</td>\n",
       "      <td>2011</td>\n",
       "    </tr>\n",
       "    <tr>\n",
       "      <th>Wedding Crashers</th>\n",
       "      <td>/title/tt0396269/?ref_=bo_cso_table_198</td>\n",
       "      <td>198</td>\n",
       "      <td>Wedding Crashers</td>\n",
       "      <td>$209,255,921</td>\n",
       "      <td>2005</td>\n",
       "    </tr>\n",
       "    <tr>\n",
       "      <th>Sherlock Holmes</th>\n",
       "      <td>/title/tt0988045/?ref_=bo_cso_table_199</td>\n",
       "      <td>199</td>\n",
       "      <td>Sherlock Holmes</td>\n",
       "      <td>$209,028,679</td>\n",
       "      <td>2009</td>\n",
       "    </tr>\n",
       "    <tr>\n",
       "      <th>Dawn of the Planet of the Apes</th>\n",
       "      <td>/title/tt2103281/?ref_=bo_cso_table_200</td>\n",
       "      <td>200</td>\n",
       "      <td>Dawn of the Planet of the Apes</td>\n",
       "      <td>$208,545,589</td>\n",
       "      <td>2014</td>\n",
       "    </tr>\n",
       "  </tbody>\n",
       "</table>\n",
       "<p>197 rows × 5 columns</p>\n",
       "</div>"
      ],
      "text/plain": [
       "                                                                          link_stub  \\\n",
       "Star Wars: Episode VII - The Force Awakens    /title/tt2488496/?ref_=bo_cso_table_1   \n",
       "Avengers: Endgame                             /title/tt4154796/?ref_=bo_cso_table_2   \n",
       "Avatar                                        /title/tt0499549/?ref_=bo_cso_table_3   \n",
       "Black Panther                                 /title/tt1825683/?ref_=bo_cso_table_4   \n",
       "Avengers: Infinity War                        /title/tt4154756/?ref_=bo_cso_table_5   \n",
       "...                                                                             ...   \n",
       "Fast Five                                   /title/tt1596343/?ref_=bo_cso_table_196   \n",
       "Mission: Impossible - Ghost Protocol        /title/tt1229238/?ref_=bo_cso_table_197   \n",
       "Wedding Crashers                            /title/tt0396269/?ref_=bo_cso_table_198   \n",
       "Sherlock Holmes                             /title/tt0988045/?ref_=bo_cso_table_199   \n",
       "Dawn of the Planet of the Apes              /title/tt2103281/?ref_=bo_cso_table_200   \n",
       "\n",
       "                                           rank  \\\n",
       "Star Wars: Episode VII - The Force Awakens    1   \n",
       "Avengers: Endgame                             2   \n",
       "Avatar                                        3   \n",
       "Black Panther                                 4   \n",
       "Avengers: Infinity War                        5   \n",
       "...                                         ...   \n",
       "Fast Five                                   196   \n",
       "Mission: Impossible - Ghost Protocol        197   \n",
       "Wedding Crashers                            198   \n",
       "Sherlock Holmes                             199   \n",
       "Dawn of the Planet of the Apes              200   \n",
       "\n",
       "                                                                                 title  \\\n",
       "Star Wars: Episode VII - The Force Awakens  Star Wars: Episode VII - The Force Awakens   \n",
       "Avengers: Endgame                                                    Avengers: Endgame   \n",
       "Avatar                                                                          Avatar   \n",
       "Black Panther                                                            Black Panther   \n",
       "Avengers: Infinity War                                          Avengers: Infinity War   \n",
       "...                                                                                ...   \n",
       "Fast Five                                                                    Fast Five   \n",
       "Mission: Impossible - Ghost Protocol              Mission: Impossible - Ghost Protocol   \n",
       "Wedding Crashers                                                      Wedding Crashers   \n",
       "Sherlock Holmes                                                        Sherlock Holmes   \n",
       "Dawn of the Planet of the Apes                          Dawn of the Planet of the Apes   \n",
       "\n",
       "                                           domestic_gross release_year  \n",
       "Star Wars: Episode VII - The Force Awakens   $936,662,225         2015  \n",
       "Avengers: Endgame                            $858,373,000         2019  \n",
       "Avatar                                       $760,507,625         2009  \n",
       "Black Panther                                $700,426,566         2018  \n",
       "Avengers: Infinity War                       $678,815,482         2018  \n",
       "...                                                   ...          ...  \n",
       "Fast Five                                    $209,837,675         2011  \n",
       "Mission: Impossible - Ghost Protocol         $209,397,903         2011  \n",
       "Wedding Crashers                             $209,255,921         2005  \n",
       "Sherlock Holmes                              $209,028,679         2009  \n",
       "Dawn of the Planet of the Apes               $208,545,589         2014  \n",
       "\n",
       "[197 rows x 5 columns]"
      ]
     },
     "execution_count": 40,
     "metadata": {},
     "output_type": "execute_result"
    }
   ],
   "source": [
    "lifetime_movies = pd.DataFrame(movies).T\n",
    "lifetime_movies.columns = ['link_stub', 'rank', 'title', 'domestic_gross','release_year']\n",
    "lifetime_movies"
   ]
  },
  {
   "cell_type": "markdown",
   "metadata": {},
   "source": [
    "#### Storing movie page data into a dictionary"
   ]
  },
  {
   "cell_type": "code",
   "execution_count": 42,
   "metadata": {},
   "outputs": [],
   "source": [
    "def get_movie_dict(link):\n",
    "    \n",
    "    \"\"\"\n",
    "    From BoxOfficeMojo link stub, request movie html, parse with BeautifulSoup, and\n",
    "    collect \n",
    "        - title \n",
    "        - domestic gross\n",
    "        - runtime \n",
    "        - MPAA rating\n",
    "        - full release date\n",
    "    Return information as a dictionary\n",
    "    \n",
    "    \"\"\"\n",
    "    \n",
    "    base_url = 'https://www.boxofficemojo.com'\n",
    "    \n",
    "    #Create full url to scrape\n",
    "    url = base_url + link\n",
    "    \n",
    "    #Request HTML and parse\n",
    "    response = requests.get(url)\n",
    "    page = response.text\n",
    "    soup = BeautifulSoup(page,\"lxml\")\n",
    "    \n",
    "    headers = ['title', 'domestic_opening_gross', 'budget', 'domestic_gross', 'international_gross', \n",
    "               'worldwide_gross','runtime_minutes', 'rating', 'release_month', 'release_date','genres']\n",
    "    \n",
    "    #Get title\n",
    "    title_string = soup.find('title').text\n",
    "    title = title_string[:-18]\n",
    "    \n",
    "\n",
    "    #Get domestic gross\n",
    "    raw_dom_gross = soup.find(class_='mojo-performance-summary-table').find_all('span',class_='money')[0].text\n",
    "    domestic_gross = money_to_int(raw_dom_gross)\n",
    "    \n",
    "    #dom_gross = money_to_int(dom_gross)\n",
    "    \n",
    "    #Get international_gross   \n",
    "    try:\n",
    "        raw_intl_gross = soup.find(class_='mojo-performance-summary-table').find_all('span',class_='money')[1].text\n",
    "        international_gross = money_to_int(raw_intl_gross)\n",
    "    except:\n",
    "        international_gross = 0\n",
    "    \n",
    "    #Get worldwide gross\n",
    "    try:\n",
    "        raw_world_gross = soup.find(class_='mojo-performance-summary-table').find_all('span',class_='money')[2].text\n",
    "        worldwide_gross = money_to_int(raw_world_gross)\n",
    "    except:\n",
    "        worldwide_gross = 0\n",
    "    \n",
    "    #Get domestic opening gross\n",
    "    try:\n",
    "        raw_opening_gross = soup.find(class_='mojo-summary-values').find_all('span', class_ = 'money')[0].text\n",
    "        domestic_opening_gross = money_to_int(raw_opening_gross)\n",
    "    except:\n",
    "        domestic_opening_gross = 0\n",
    "    \n",
    "    \n",
    "    #Get budget\n",
    "    try:\n",
    "        raw_budget = soup.find(class_='mojo-summary-values').find_all('span', class_ = 'money')[1].text\n",
    "        budget = money_to_int(raw_budget)\n",
    "    except:\n",
    "        budget = 0\n",
    "    \n",
    "    #Get distributor\n",
    "    try:\n",
    "        distributor = get_movie_value(soup, 'Distributor')[:18]\n",
    "    except:\n",
    "        distributor = ''\n",
    "    \n",
    "    #Get runtime\n",
    "    raw_runtime = get_movie_value(soup, 'Running')\n",
    "    runtime_minutes = runtime_to_minutes(raw_runtime)\n",
    "    \n",
    "    #Get rating\n",
    "    rating = get_movie_value(soup, 'MPAA')\n",
    "    \n",
    "    #Get genres\n",
    "    genres = get_movie_value(soup, 'Genres').split()\n",
    "\n",
    "    \n",
    "    #Get release month\n",
    "    raw_release_date = get_movie_value(soup,'Release Date').split('\\n')[0]\n",
    "    release_month = to_date(raw_release_date).month\n",
    "   \n",
    "    #Get release date\n",
    "    raw_release_date = get_movie_value(soup,'Release Date').split('\\n')[0]\n",
    "    release_date = to_date(raw_release_date)\n",
    "    \n",
    "    \n",
    "    #Create movie dictionary and return\n",
    "    movie_dict = dict(zip(headers, [title,\n",
    "                                    domestic_opening_gross,\n",
    "                                    budget,\n",
    "                                    domestic_gross,\n",
    "                                    international_gross,\n",
    "                                    worldwide_gross,\n",
    "                                    runtime_minutes,\n",
    "                                    rating,\n",
    "                                    release_month,\n",
    "                                    release_date,\n",
    "                                    genres]))\n",
    "\n",
    "    return movie_dict"
   ]
  },
  {
   "cell_type": "code",
   "execution_count": null,
   "metadata": {},
   "outputs": [],
   "source": [
    "lifetime_movie_data = []\n",
    "for link in lifetime_movies.link_stub:\n",
    "    lifetime_movie_data.append(get_movie_dict(link))"
   ]
  },
  {
   "cell_type": "code",
   "execution_count": null,
   "metadata": {},
   "outputs": [],
   "source": [
    "lifetime_movie_data"
   ]
  },
  {
   "cell_type": "code",
   "execution_count": null,
   "metadata": {},
   "outputs": [],
   "source": [
    "lifetime_movies_info = pd.DataFrame(lifetime_movie_data)\n",
    "lifetime_movies_info.set_index('title', inplace = True)"
   ]
  },
  {
   "cell_type": "code",
   "execution_count": null,
   "metadata": {},
   "outputs": [],
   "source": [
    "lifetime_movies_info.info()"
   ]
  },
  {
   "cell_type": "code",
   "execution_count": null,
   "metadata": {},
   "outputs": [],
   "source": [
    "# un comment the following and change number according to page\n",
    "#lifetime_movies_info_5 = lifetime_movies_info\n",
    "#lifetime_movies_5 = lifetime_movies\n",
    "#lifetime_movies_5 = lifetime_movies_5.merge(lifetime_movies_info_5, left_index=True, right_index = True)\n",
    "#lifetime_movies_5.head()"
   ]
  },
  {
   "cell_type": "code",
   "execution_count": null,
   "metadata": {},
   "outputs": [],
   "source": [
    "lifetime_movies = lifetime_movies.merge(lifetime_movies_info, left_index=True, right_index=True)\n",
    "\n",
    "lifetime_movies.head()"
   ]
  },
  {
   "cell_type": "code",
   "execution_count": null,
   "metadata": {},
   "outputs": [],
   "source": [
    "lifetime_movies.info()"
   ]
  },
  {
   "cell_type": "code",
   "execution_count": null,
   "metadata": {},
   "outputs": [],
   "source": [
    "# un comment the following and change with the page change\n",
    "#lifetime_movies.to_csv('lifetime_movies.csv')"
   ]
  },
  {
   "cell_type": "code",
   "execution_count": null,
   "metadata": {},
   "outputs": [],
   "source": [
    "#df1 = pd.read_csv('lifetime_movies.csv')\n",
    "#df2 = pd.read_csv('lifetime_movies_2.csv')\n",
    "#df3 = pd.read_csv('lifetime_movies_3.csv')\n",
    "#df4 = pd.read_csv('lifetime_movies_4.csv')\n",
    "#df5 = pd.read_csv('lifetime_movies_5.csv')\n",
    "#frames = [df1, df2, df3, df4, df5]\n",
    "#mojo_data = pd.concat(frames)\n",
    "#mojo_data.to_csv('mojo_data.csv')\n",
    "\n",
    "#df = pd.read_csv('movie_list.csv')\n",
    "#df = pd.read_csv('mojo_data.csv', index_col = [0])\n",
    "#df.info()"
   ]
  },
  {
   "cell_type": "code",
   "execution_count": null,
   "metadata": {},
   "outputs": [],
   "source": [
    "#mojo_data.info()\n"
   ]
  }
 ],
 "metadata": {
  "kernelspec": {
   "display_name": "Python 3",
   "language": "python",
   "name": "python3"
  },
  "language_info": {
   "codemirror_mode": {
    "name": "ipython",
    "version": 3
   },
   "file_extension": ".py",
   "mimetype": "text/x-python",
   "name": "python",
   "nbconvert_exporter": "python",
   "pygments_lexer": "ipython3",
   "version": "3.8.3"
  }
 },
 "nbformat": 4,
 "nbformat_minor": 4
}
