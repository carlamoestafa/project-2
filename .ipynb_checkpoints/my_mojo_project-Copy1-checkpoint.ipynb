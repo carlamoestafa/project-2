{
 "cells": [
  {
   "cell_type": "markdown",
   "metadata": {},
   "source": [
    "# PROJECT - 2"
   ]
  },
  {
   "cell_type": "markdown",
   "metadata": {},
   "source": [
    "## my mojo"
   ]
  },
  {
   "cell_type": "code",
   "execution_count": 81,
   "metadata": {},
   "outputs": [],
   "source": [
    "from bs4 import BeautifulSoup\n",
    "import requests\n",
    "import pandas as pd\n",
    "import re"
   ]
  },
  {
   "cell_type": "markdown",
   "metadata": {},
   "source": [
    "### Getting the lifetime ranking table"
   ]
  },
  {
   "cell_type": "code",
   "execution_count": 11,
   "metadata": {},
   "outputs": [],
   "source": [
    "url = 'https://www.boxofficemojo.com/chart/top_lifetime_gross/'\n",
    "response = requests.get(url)\n",
    "page = response.text\n",
    "soup = BeautifulSoup(page, 'lxml')\n",
    "# print(soup.prettify())"
   ]
  },
  {
   "cell_type": "code",
   "execution_count": 18,
   "metadata": {},
   "outputs": [],
   "source": [
    "# finding the table\n",
    "table = soup.find('table')\n",
    "# table"
   ]
  },
  {
   "cell_type": "code",
   "execution_count": 19,
   "metadata": {},
   "outputs": [
    {
     "data": {
      "text/plain": [
       "[<td class=\"a-text-right mojo-header-column mojo-truncate mojo-field-type-rank\">1</td>,\n",
       " <td class=\"a-text-left mojo-field-type-title\"><a class=\"a-link-normal\" href=\"/title/tt2488496/?ref_=bo_cso_table_1\">Star Wars: Episode VII - The Force Awakens</a></td>,\n",
       " <td class=\"a-text-right mojo-field-type-money\">$936,662,225</td>,\n",
       " <td class=\"a-text-left mojo-field-type-year\"><a class=\"a-link-normal\" href=\"/year/2015/?ref_=bo_cso_table_1\">2015</a></td>]"
      ]
     },
     "execution_count": 19,
     "metadata": {},
     "output_type": "execute_result"
    }
   ],
   "source": [
    "rows = [row for row in table.find_all('tr')]\n",
    "rows[1].find_all('td')"
   ]
  },
  {
   "cell_type": "code",
   "execution_count": 22,
   "metadata": {},
   "outputs": [
    {
     "data": {
      "text/plain": [
       "'/title/tt2488496/?ref_=bo_cso_table_1'"
      ]
     },
     "execution_count": 22,
     "metadata": {},
     "output_type": "execute_result"
    }
   ],
   "source": [
    "rows[1].find_all('td')[1].find('a')['href']"
   ]
  },
  {
   "cell_type": "code",
   "execution_count": 31,
   "metadata": {},
   "outputs": [
    {
     "data": {
      "text/plain": [
       "{'Star Wars: Episode VII - The Force Awakens': ['/title/tt2488496/?ref_=bo_cso_table_1',\n",
       "  '1',\n",
       "  'Star Wars: Episode VII - The Force Awakens',\n",
       "  '$936,662,225',\n",
       "  '2015'],\n",
       " 'Avengers: Endgame': ['/title/tt4154796/?ref_=bo_cso_table_2',\n",
       "  '2',\n",
       "  'Avengers: Endgame',\n",
       "  '$858,373,000',\n",
       "  '2019']}"
      ]
     },
     "execution_count": 31,
     "metadata": {},
     "output_type": "execute_result"
    }
   ],
   "source": [
    "movies = {}\n",
    "\n",
    "for row in rows[1:3]:\n",
    "    items = row.find_all('td')\n",
    "    link = items[1].find('a')\n",
    "    title = link.text\n",
    "    url = link['href']\n",
    "    movies[title] = [url]+ [i.text for i in items]\n",
    "\n",
    "movies"
   ]
  },
  {
   "cell_type": "code",
   "execution_count": 35,
   "metadata": {},
   "outputs": [
    {
     "data": {
      "text/html": [
       "<div>\n",
       "<style scoped>\n",
       "    .dataframe tbody tr th:only-of-type {\n",
       "        vertical-align: middle;\n",
       "    }\n",
       "\n",
       "    .dataframe tbody tr th {\n",
       "        vertical-align: top;\n",
       "    }\n",
       "\n",
       "    .dataframe thead th {\n",
       "        text-align: right;\n",
       "    }\n",
       "</style>\n",
       "<table border=\"1\" class=\"dataframe\">\n",
       "  <thead>\n",
       "    <tr style=\"text-align: right;\">\n",
       "      <th></th>\n",
       "      <th>link_stub</th>\n",
       "      <th>rank</th>\n",
       "      <th>title</th>\n",
       "      <th>lifetime_gross</th>\n",
       "      <th>release_year</th>\n",
       "    </tr>\n",
       "  </thead>\n",
       "  <tbody>\n",
       "    <tr>\n",
       "      <th>Star Wars: Episode VII - The Force Awakens</th>\n",
       "      <td>/title/tt2488496/?ref_=bo_cso_table_1</td>\n",
       "      <td>1</td>\n",
       "      <td>Star Wars: Episode VII - The Force Awakens</td>\n",
       "      <td>$936,662,225</td>\n",
       "      <td>2015</td>\n",
       "    </tr>\n",
       "    <tr>\n",
       "      <th>Avengers: Endgame</th>\n",
       "      <td>/title/tt4154796/?ref_=bo_cso_table_2</td>\n",
       "      <td>2</td>\n",
       "      <td>Avengers: Endgame</td>\n",
       "      <td>$858,373,000</td>\n",
       "      <td>2019</td>\n",
       "    </tr>\n",
       "  </tbody>\n",
       "</table>\n",
       "</div>"
      ],
      "text/plain": [
       "                                                                        link_stub  \\\n",
       "Star Wars: Episode VII - The Force Awakens  /title/tt2488496/?ref_=bo_cso_table_1   \n",
       "Avengers: Endgame                           /title/tt4154796/?ref_=bo_cso_table_2   \n",
       "\n",
       "                                           rank  \\\n",
       "Star Wars: Episode VII - The Force Awakens    1   \n",
       "Avengers: Endgame                             2   \n",
       "\n",
       "                                                                                 title  \\\n",
       "Star Wars: Episode VII - The Force Awakens  Star Wars: Episode VII - The Force Awakens   \n",
       "Avengers: Endgame                                                    Avengers: Endgame   \n",
       "\n",
       "                                           lifetime_gross release_year  \n",
       "Star Wars: Episode VII - The Force Awakens   $936,662,225         2015  \n",
       "Avengers: Endgame                            $858,373,000         2019  "
      ]
     },
     "execution_count": 35,
     "metadata": {},
     "output_type": "execute_result"
    }
   ],
   "source": [
    "lifetime_movies = pd.DataFrame(movies).T\n",
    "lifetime_movies.columns = ['link_stub', 'rank', 'title', 'lifetime_gross', 'release_year']\n",
    "lifetime_movies.head()"
   ]
  },
  {
   "cell_type": "code",
   "execution_count": null,
   "metadata": {},
   "outputs": [],
   "source": [
    "def get_movie_dict(link):\n",
    "    \n",
    "    \"\"\"\n",
    "    To get the information, from the link,  of each movie listed in the Life Time movie \n",
    "    rank by Gross Revenue\n",
    "    \n",
    "    \"\"\"\n",
    "    base_url = 'https://www.boxofficemojo.com'\n",
    "    url = base_url + link\n",
    "    response = requests.get(url)\n",
    "    page = response.text\n",
    "    soup = BeautifulSoup(page, 'lxml')\n",
    "    \n",
    "    headers = "
   ]
  },
  {
   "cell_type": "markdown",
   "metadata": {},
   "source": [
    "### Getting more information from each movie"
   ]
  },
  {
   "cell_type": "code",
   "execution_count": 42,
   "metadata": {},
   "outputs": [],
   "source": [
    "url = 'https://www.boxofficemojo.com/title/tt2488496/?ref_=bo_cso_table_1'\n",
    "response = requests.get(url)\n",
    "page = response.text\n",
    "soup = BeautifulSoup(page, 'lxml')\n",
    "# soup.prettify()"
   ]
  },
  {
   "cell_type": "markdown",
   "metadata": {},
   "source": [
    "#### Movie Title"
   ]
  },
  {
   "cell_type": "code",
   "execution_count": 67,
   "metadata": {},
   "outputs": [
    {
     "data": {
      "text/plain": [
       "'Star Wars: Episode VII - The Force Awakens - Box Office Mojo'"
      ]
     },
     "execution_count": 67,
     "metadata": {},
     "output_type": "execute_result"
    }
   ],
   "source": [
    "soup.find('title').text\n",
    "title_string = soup.find('title').text\n",
    "title_string"
   ]
  },
  {
   "cell_type": "code",
   "execution_count": 80,
   "metadata": {},
   "outputs": [
    {
     "data": {
      "text/plain": [
       "'Star Wars: Episode VII - The Force Awakens'"
      ]
     },
     "execution_count": 80,
     "metadata": {},
     "output_type": "execute_result"
    }
   ],
   "source": [
    "title = title_string[:-18]\n",
    "title"
   ]
  },
  {
   "cell_type": "markdown",
   "metadata": {},
   "source": [
    "#### Domestic Gross"
   ]
  },
  {
   "cell_type": "code",
   "execution_count": 91,
   "metadata": {},
   "outputs": [
    {
     "data": {
      "text/plain": [
       "[<span class=\"money\">$936,662,225</span>,\n",
       " <span class=\"money\">$1,131,791,908</span>,\n",
       " <span class=\"money\">$2,068,454,133</span>]"
      ]
     },
     "execution_count": 91,
     "metadata": {},
     "output_type": "execute_result"
    }
   ],
   "source": [
    "soup.find(class_='mojo-performance-summary-table').find_all('span',class_='money')"
   ]
  },
  {
   "cell_type": "code",
   "execution_count": 102,
   "metadata": {},
   "outputs": [
    {
     "data": {
      "text/plain": [
       "'$936,662,225'"
      ]
     },
     "execution_count": 102,
     "metadata": {},
     "output_type": "execute_result"
    }
   ],
   "source": [
    "dom_gross = soup.find(class_='mojo-performance-summary-table').find_all('span',class_='money')[0].text\n",
    "dom_gross"
   ]
  },
  {
   "cell_type": "markdown",
   "metadata": {},
   "source": [
    "#### International Gross"
   ]
  },
  {
   "cell_type": "code",
   "execution_count": 98,
   "metadata": {},
   "outputs": [
    {
     "data": {
      "text/plain": [
       "'$1,131,791,908'"
      ]
     },
     "execution_count": 98,
     "metadata": {},
     "output_type": "execute_result"
    }
   ],
   "source": [
    "intl_gross = soup.find(class_='mojo-performance-summary-table').find_all('span',class_='money')[1].text\n",
    "intl_gross"
   ]
  },
  {
   "cell_type": "markdown",
   "metadata": {},
   "source": [
    "#### Worldwide Gross"
   ]
  },
  {
   "cell_type": "code",
   "execution_count": 103,
   "metadata": {},
   "outputs": [
    {
     "data": {
      "text/plain": [
       "'$2,068,454,133'"
      ]
     },
     "execution_count": 103,
     "metadata": {},
     "output_type": "execute_result"
    }
   ],
   "source": [
    "world_gross = soup.find(class_='mojo-performance-summary-table').find_all('span',class_='money')[2].text\n",
    "world_gross"
   ]
  },
  {
   "cell_type": "markdown",
   "metadata": {},
   "source": [
    "#### Domestic Distributor"
   ]
  },
  {
   "cell_type": "code",
   "execution_count": 114,
   "metadata": {},
   "outputs": [
    {
     "data": {
      "text/plain": [
       "[<span class=\"money\">$247,966,675</span>,\n",
       " <span class=\"money\">$245,000,000</span>]"
      ]
     },
     "execution_count": 114,
     "metadata": {},
     "output_type": "execute_result"
    }
   ],
   "source": [
    "soup.find(class_='mojo-summary-values').find_all('span', class_ = 'money')"
   ]
  },
  {
   "cell_type": "code",
   "execution_count": 141,
   "metadata": {},
   "outputs": [
    {
     "data": {
      "text/plain": [
       "'Domestic Distributor'"
      ]
     },
     "execution_count": 141,
     "metadata": {},
     "output_type": "execute_result"
    }
   ],
   "source": [
    "distributor_reggex = re.compile('Distributor')\n",
    "soup.find(text=distributor_reggex)"
   ]
  },
  {
   "cell_type": "code",
   "execution_count": 153,
   "metadata": {},
   "outputs": [
    {
     "data": {
      "text/plain": [
       "'Walt Disney Studios Motion Pictures'"
      ]
     },
     "execution_count": 153,
     "metadata": {},
     "output_type": "execute_result"
    }
   ],
   "source": [
    "dist_string = soup.find(text=distributor_reggex).findNext('span').text[:35]\n",
    "dom_dist = dist_string\n",
    "dom_dist"
   ]
  },
  {
   "cell_type": "markdown",
   "metadata": {},
   "source": [
    "#### Domestic Opening Gross"
   ]
  },
  {
   "cell_type": "code",
   "execution_count": 156,
   "metadata": {},
   "outputs": [
    {
     "data": {
      "text/plain": [
       "'Domestic Opening'"
      ]
     },
     "execution_count": 156,
     "metadata": {},
     "output_type": "execute_result"
    }
   ],
   "source": [
    "domopening_reggex = re.compile('Domestic Open')\n",
    "soup.find(text=domopening_reggex)"
   ]
  },
  {
   "cell_type": "code",
   "execution_count": 167,
   "metadata": {},
   "outputs": [
    {
     "data": {
      "text/plain": [
       "'$247,966,675'"
      ]
     },
     "execution_count": 167,
     "metadata": {},
     "output_type": "execute_result"
    }
   ],
   "source": [
    "dom_open = soup.find(text=domopening_reggex).findNext(class_='money').text\n",
    "dom_open"
   ]
  },
  {
   "cell_type": "markdown",
   "metadata": {},
   "source": [
    "#### Domestic Opening"
   ]
  },
  {
   "cell_type": "markdown",
   "metadata": {},
   "source": [
    "#### Budget"
   ]
  },
  {
   "cell_type": "code",
   "execution_count": null,
   "metadata": {},
   "outputs": [],
   "source": []
  },
  {
   "cell_type": "markdown",
   "metadata": {},
   "source": [
    "####  Release Month"
   ]
  },
  {
   "cell_type": "code",
   "execution_count": 273,
   "metadata": {},
   "outputs": [
    {
     "data": {
      "text/plain": [
       "'December'"
      ]
     },
     "execution_count": 273,
     "metadata": {},
     "output_type": "execute_result"
    }
   ],
   "source": [
    "release_reggex = re.compile('Release Date')\n",
    "release_month = soup.find(text=release_reggex).findNext().text.split()[0]\n",
    "release_month"
   ]
  },
  {
   "cell_type": "markdown",
   "metadata": {},
   "source": [
    "#### MPAA Rating"
   ]
  },
  {
   "cell_type": "code",
   "execution_count": 179,
   "metadata": {},
   "outputs": [
    {
     "data": {
      "text/plain": [
       "'PG-13'"
      ]
     },
     "execution_count": 179,
     "metadata": {},
     "output_type": "execute_result"
    }
   ],
   "source": [
    "rating_reggex = re.compile('MPAA')\n",
    "rating = soup.find(text=rating_reggex).findNext('span').text\n",
    "rating"
   ]
  },
  {
   "cell_type": "markdown",
   "metadata": {},
   "source": [
    "#### Running Time"
   ]
  },
  {
   "cell_type": "code",
   "execution_count": 283,
   "metadata": {},
   "outputs": [
    {
     "data": {
      "text/plain": [
       "138"
      ]
     },
     "execution_count": 283,
     "metadata": {},
     "output_type": "execute_result"
    }
   ],
   "source": [
    "runtime_reggex = re.compile('Run')\n",
    "rt = soup.find(text=runtime_reggex).findNext('span').text.split()\n",
    "runtime_minutes = int(rt[0])*60 + int(rt[2])\n",
    "runtime_minutes"
   ]
  },
  {
   "cell_type": "markdown",
   "metadata": {},
   "source": [
    "#### Genres"
   ]
  },
  {
   "cell_type": "code",
   "execution_count": 193,
   "metadata": {},
   "outputs": [
    {
     "data": {
      "text/plain": [
       "['Action', 'Adventure', 'Sci-Fi']"
      ]
     },
     "execution_count": 193,
     "metadata": {},
     "output_type": "execute_result"
    }
   ],
   "source": [
    "genres_reggex = re.compile('Genres')\n",
    "genres = soup.find(text=genres_reggex).findNext('span').text.split()\n",
    "genres"
   ]
  },
  {
   "cell_type": "markdown",
   "metadata": {},
   "source": [
    "#### Director & Actors"
   ]
  },
  {
   "cell_type": "code",
   "execution_count": null,
   "metadata": {},
   "outputs": [],
   "source": []
  },
  {
   "cell_type": "code",
   "execution_count": 203,
   "metadata": {},
   "outputs": [],
   "source": [
    "url = 'https://www.boxofficemojo.com/title/tt2488496/credits/?ref_=bo_tt_tab'\n",
    "response = requests.get(url)\n",
    "page = response.text\n",
    "soup = BeautifulSoup(page, 'lxml')"
   ]
  },
  {
   "cell_type": "code",
   "execution_count": 318,
   "metadata": {},
   "outputs": [
    {
     "data": {
      "text/plain": [
       "['Daisy Ridley', 'John Boyega', 'Oscar Isaac', 'Domhnall Gleeson']"
      ]
     },
     "execution_count": 318,
     "metadata": {},
     "output_type": "execute_result"
    }
   ],
   "source": [
    "cast = soup.find('table', id = 'principalCast').find_all('a', attrs={'class':'a-link-normal'})\n",
    "actors = []\n",
    "for cast in casts:\n",
    "    cast = cast.text.split('\\n')[0]\n",
    "    actors += [cast]\n",
    "actors"
   ]
  },
  {
   "cell_type": "code",
   "execution_count": null,
   "metadata": {},
   "outputs": [],
   "source": []
  }
 ],
 "metadata": {
  "kernelspec": {
   "display_name": "Python 3",
   "language": "python",
   "name": "python3"
  },
  "language_info": {
   "codemirror_mode": {
    "name": "ipython",
    "version": 3
   },
   "file_extension": ".py",
   "mimetype": "text/x-python",
   "name": "python",
   "nbconvert_exporter": "python",
   "pygments_lexer": "ipython3",
   "version": "3.8.3"
  }
 },
 "nbformat": 4,
 "nbformat_minor": 4
}
