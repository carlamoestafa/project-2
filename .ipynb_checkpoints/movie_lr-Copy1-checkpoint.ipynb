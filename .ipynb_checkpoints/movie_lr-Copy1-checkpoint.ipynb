{
 "cells": [
  {
   "cell_type": "code",
   "execution_count": 1,
   "metadata": {},
   "outputs": [],
   "source": [
    "import pandas as pd\n",
    "import numpy as np\n",
    "import statsmodels.api as sm\n",
    "import statsmodels.formula.api as smf\n",
    "import patsy\n",
    "\n",
    "import seaborn as sns\n",
    "\n",
    "from sklearn.linear_model import LinearRegression\n",
    "from sklearn.linear_model import RidgeCV\n",
    "from sklearn.model_selection import train_test_split\n",
    "from sklearn.preprocessing import PolynomialFeatures\n",
    "from sklearn.pipeline import make_pipeline\n",
    "from sklearn.metrics import mean_squared_error\n",
    "#from sklearn.externals import joblib\n",
    "\n",
    "import matplotlib.pyplot as plt\n",
    "%matplotlib inline\n"
   ]
  },
  {
   "cell_type": "markdown",
   "metadata": {},
   "source": [
    "# EDA"
   ]
  },
  {
   "cell_type": "code",
   "execution_count": 2,
   "metadata": {},
   "outputs": [],
   "source": [
    "datafile = 'mojo_data.csv'\n",
    "df = pd.read_csv(datafile, index_col=0)"
   ]
  },
  {
   "cell_type": "code",
   "execution_count": 3,
   "metadata": {},
   "outputs": [
    {
     "name": "stdout",
     "output_type": "stream",
     "text": [
      "<class 'pandas.core.frame.DataFrame'>\n",
      "Int64Index: 996 entries, 0 to 199\n",
      "Data columns (total 16 columns):\n",
      " #   Column                  Non-Null Count  Dtype  \n",
      "---  ------                  --------------  -----  \n",
      " 0   Unnamed: 0.1            996 non-null    object \n",
      " 1   link_stub               996 non-null    object \n",
      " 2   rank                    996 non-null    object \n",
      " 3   title                   996 non-null    object \n",
      " 4   domestic_gross_x        996 non-null    object \n",
      " 5   release_year            996 non-null    int64  \n",
      " 6   domestic_opening_gross  996 non-null    int64  \n",
      " 7   budget                  996 non-null    int64  \n",
      " 8   domestic_gross_y        996 non-null    int64  \n",
      " 9   international_gross     996 non-null    int64  \n",
      " 10  worldwide_gross         996 non-null    int64  \n",
      " 11  runtime_minutes         975 non-null    float64\n",
      " 12  rating                  867 non-null    object \n",
      " 13  release_month           996 non-null    int64  \n",
      " 14  release_date            996 non-null    object \n",
      " 15  genres                  996 non-null    object \n",
      "dtypes: float64(1), int64(7), object(8)\n",
      "memory usage: 132.3+ KB\n"
     ]
    }
   ],
   "source": [
    "df.info()"
   ]
  },
  {
   "cell_type": "code",
   "execution_count": 4,
   "metadata": {
    "scrolled": true
   },
   "outputs": [
    {
     "data": {
      "text/html": [
       "<div>\n",
       "<style scoped>\n",
       "    .dataframe tbody tr th:only-of-type {\n",
       "        vertical-align: middle;\n",
       "    }\n",
       "\n",
       "    .dataframe tbody tr th {\n",
       "        vertical-align: top;\n",
       "    }\n",
       "\n",
       "    .dataframe thead th {\n",
       "        text-align: right;\n",
       "    }\n",
       "</style>\n",
       "<table border=\"1\" class=\"dataframe\">\n",
       "  <thead>\n",
       "    <tr style=\"text-align: right;\">\n",
       "      <th></th>\n",
       "      <th>movie_title</th>\n",
       "      <th>link_stub</th>\n",
       "      <th>rank</th>\n",
       "      <th>title</th>\n",
       "      <th>domestic_gross_x</th>\n",
       "      <th>release_year</th>\n",
       "      <th>domestic_opening_gross</th>\n",
       "      <th>budget</th>\n",
       "      <th>domestic_gross_y</th>\n",
       "      <th>international_gross</th>\n",
       "      <th>worldwide_gross</th>\n",
       "      <th>runtime_minutes</th>\n",
       "      <th>rating</th>\n",
       "      <th>release_month</th>\n",
       "      <th>release_date</th>\n",
       "      <th>genres</th>\n",
       "    </tr>\n",
       "  </thead>\n",
       "  <tbody>\n",
       "    <tr>\n",
       "      <th>0</th>\n",
       "      <td>Star Wars: Episode VII - The Force Awakens</td>\n",
       "      <td>/title/tt2488496/?ref_=bo_cso_table_1</td>\n",
       "      <td>1</td>\n",
       "      <td>Star Wars: Episode VII - The Force Awakens</td>\n",
       "      <td>$936,662,225</td>\n",
       "      <td>2015</td>\n",
       "      <td>247966675</td>\n",
       "      <td>245000000</td>\n",
       "      <td>936662225</td>\n",
       "      <td>1131791908</td>\n",
       "      <td>2068454133</td>\n",
       "      <td>138.0</td>\n",
       "      <td>PG-13</td>\n",
       "      <td>12</td>\n",
       "      <td>2015-12-16</td>\n",
       "      <td>['Action', 'Adventure', 'Sci-Fi']</td>\n",
       "    </tr>\n",
       "    <tr>\n",
       "      <th>1</th>\n",
       "      <td>Avengers: Endgame</td>\n",
       "      <td>/title/tt4154796/?ref_=bo_cso_table_2</td>\n",
       "      <td>2</td>\n",
       "      <td>Avengers: Endgame</td>\n",
       "      <td>$858,373,000</td>\n",
       "      <td>2019</td>\n",
       "      <td>357115007</td>\n",
       "      <td>356000000</td>\n",
       "      <td>858373000</td>\n",
       "      <td>1939427564</td>\n",
       "      <td>2797800564</td>\n",
       "      <td>181.0</td>\n",
       "      <td>PG-13</td>\n",
       "      <td>4</td>\n",
       "      <td>2019-04-24</td>\n",
       "      <td>['Action', 'Adventure', 'Drama', 'Sci-Fi']</td>\n",
       "    </tr>\n",
       "  </tbody>\n",
       "</table>\n",
       "</div>"
      ],
      "text/plain": [
       "                                  movie_title  \\\n",
       "0  Star Wars: Episode VII - The Force Awakens   \n",
       "1                           Avengers: Endgame   \n",
       "\n",
       "                               link_stub rank  \\\n",
       "0  /title/tt2488496/?ref_=bo_cso_table_1    1   \n",
       "1  /title/tt4154796/?ref_=bo_cso_table_2    2   \n",
       "\n",
       "                                        title domestic_gross_x  release_year  \\\n",
       "0  Star Wars: Episode VII - The Force Awakens     $936,662,225          2015   \n",
       "1                           Avengers: Endgame     $858,373,000          2019   \n",
       "\n",
       "   domestic_opening_gross     budget  domestic_gross_y  international_gross  \\\n",
       "0               247966675  245000000         936662225           1131791908   \n",
       "1               357115007  356000000         858373000           1939427564   \n",
       "\n",
       "   worldwide_gross  runtime_minutes rating  release_month release_date  \\\n",
       "0       2068454133            138.0  PG-13             12   2015-12-16   \n",
       "1       2797800564            181.0  PG-13              4   2019-04-24   \n",
       "\n",
       "                                       genres  \n",
       "0           ['Action', 'Adventure', 'Sci-Fi']  \n",
       "1  ['Action', 'Adventure', 'Drama', 'Sci-Fi']  "
      ]
     },
     "execution_count": 4,
     "metadata": {},
     "output_type": "execute_result"
    }
   ],
   "source": [
    "df.rename( columns={'Unnamed: 0.1':'movie_title'}, inplace=True )\n",
    "df.head(2)"
   ]
  },
  {
   "cell_type": "code",
   "execution_count": 5,
   "metadata": {},
   "outputs": [],
   "source": [
    "df.index = np.arange(1, len(df) + 1)"
   ]
  },
  {
   "cell_type": "code",
   "execution_count": 6,
   "metadata": {},
   "outputs": [
    {
     "data": {
      "text/html": [
       "<div>\n",
       "<style scoped>\n",
       "    .dataframe tbody tr th:only-of-type {\n",
       "        vertical-align: middle;\n",
       "    }\n",
       "\n",
       "    .dataframe tbody tr th {\n",
       "        vertical-align: top;\n",
       "    }\n",
       "\n",
       "    .dataframe thead th {\n",
       "        text-align: right;\n",
       "    }\n",
       "</style>\n",
       "<table border=\"1\" class=\"dataframe\">\n",
       "  <thead>\n",
       "    <tr style=\"text-align: right;\">\n",
       "      <th></th>\n",
       "      <th>movie_title</th>\n",
       "      <th>link_stub</th>\n",
       "      <th>rank</th>\n",
       "      <th>title</th>\n",
       "      <th>domestic_gross_x</th>\n",
       "      <th>release_year</th>\n",
       "      <th>domestic_opening_gross</th>\n",
       "      <th>budget</th>\n",
       "      <th>domestic_gross_y</th>\n",
       "      <th>international_gross</th>\n",
       "      <th>worldwide_gross</th>\n",
       "      <th>runtime_minutes</th>\n",
       "      <th>rating</th>\n",
       "      <th>release_month</th>\n",
       "      <th>release_date</th>\n",
       "      <th>genres</th>\n",
       "    </tr>\n",
       "  </thead>\n",
       "  <tbody>\n",
       "    <tr>\n",
       "      <th>1</th>\n",
       "      <td>Star Wars: Episode VII - The Force Awakens</td>\n",
       "      <td>/title/tt2488496/?ref_=bo_cso_table_1</td>\n",
       "      <td>1</td>\n",
       "      <td>Star Wars: Episode VII - The Force Awakens</td>\n",
       "      <td>$936,662,225</td>\n",
       "      <td>2015</td>\n",
       "      <td>247966675</td>\n",
       "      <td>245000000</td>\n",
       "      <td>936662225</td>\n",
       "      <td>1131791908</td>\n",
       "      <td>2068454133</td>\n",
       "      <td>138.0</td>\n",
       "      <td>PG-13</td>\n",
       "      <td>12</td>\n",
       "      <td>2015-12-16</td>\n",
       "      <td>['Action', 'Adventure', 'Sci-Fi']</td>\n",
       "    </tr>\n",
       "    <tr>\n",
       "      <th>2</th>\n",
       "      <td>Avengers: Endgame</td>\n",
       "      <td>/title/tt4154796/?ref_=bo_cso_table_2</td>\n",
       "      <td>2</td>\n",
       "      <td>Avengers: Endgame</td>\n",
       "      <td>$858,373,000</td>\n",
       "      <td>2019</td>\n",
       "      <td>357115007</td>\n",
       "      <td>356000000</td>\n",
       "      <td>858373000</td>\n",
       "      <td>1939427564</td>\n",
       "      <td>2797800564</td>\n",
       "      <td>181.0</td>\n",
       "      <td>PG-13</td>\n",
       "      <td>4</td>\n",
       "      <td>2019-04-24</td>\n",
       "      <td>['Action', 'Adventure', 'Drama', 'Sci-Fi']</td>\n",
       "    </tr>\n",
       "  </tbody>\n",
       "</table>\n",
       "</div>"
      ],
      "text/plain": [
       "                                  movie_title  \\\n",
       "1  Star Wars: Episode VII - The Force Awakens   \n",
       "2                           Avengers: Endgame   \n",
       "\n",
       "                               link_stub rank  \\\n",
       "1  /title/tt2488496/?ref_=bo_cso_table_1    1   \n",
       "2  /title/tt4154796/?ref_=bo_cso_table_2    2   \n",
       "\n",
       "                                        title domestic_gross_x  release_year  \\\n",
       "1  Star Wars: Episode VII - The Force Awakens     $936,662,225          2015   \n",
       "2                           Avengers: Endgame     $858,373,000          2019   \n",
       "\n",
       "   domestic_opening_gross     budget  domestic_gross_y  international_gross  \\\n",
       "1               247966675  245000000         936662225           1131791908   \n",
       "2               357115007  356000000         858373000           1939427564   \n",
       "\n",
       "   worldwide_gross  runtime_minutes rating  release_month release_date  \\\n",
       "1       2068454133            138.0  PG-13             12   2015-12-16   \n",
       "2       2797800564            181.0  PG-13              4   2019-04-24   \n",
       "\n",
       "                                       genres  \n",
       "1           ['Action', 'Adventure', 'Sci-Fi']  \n",
       "2  ['Action', 'Adventure', 'Drama', 'Sci-Fi']  "
      ]
     },
     "execution_count": 6,
     "metadata": {},
     "output_type": "execute_result"
    }
   ],
   "source": [
    "df.head(2)"
   ]
  },
  {
   "cell_type": "code",
   "execution_count": 7,
   "metadata": {},
   "outputs": [],
   "source": [
    "df.drop(['link_stub'], axis=1, inplace = True)"
   ]
  },
  {
   "cell_type": "code",
   "execution_count": 8,
   "metadata": {},
   "outputs": [
    {
     "data": {
      "text/html": [
       "<div>\n",
       "<style scoped>\n",
       "    .dataframe tbody tr th:only-of-type {\n",
       "        vertical-align: middle;\n",
       "    }\n",
       "\n",
       "    .dataframe tbody tr th {\n",
       "        vertical-align: top;\n",
       "    }\n",
       "\n",
       "    .dataframe thead th {\n",
       "        text-align: right;\n",
       "    }\n",
       "</style>\n",
       "<table border=\"1\" class=\"dataframe\">\n",
       "  <thead>\n",
       "    <tr style=\"text-align: right;\">\n",
       "      <th></th>\n",
       "      <th>movie_title</th>\n",
       "      <th>rank</th>\n",
       "      <th>title</th>\n",
       "      <th>domestic_gross_x</th>\n",
       "      <th>release_year</th>\n",
       "      <th>domestic_opening_gross</th>\n",
       "      <th>budget</th>\n",
       "      <th>domestic_gross_y</th>\n",
       "      <th>international_gross</th>\n",
       "      <th>worldwide_gross</th>\n",
       "      <th>runtime_minutes</th>\n",
       "      <th>rating</th>\n",
       "      <th>release_month</th>\n",
       "      <th>release_date</th>\n",
       "      <th>genres</th>\n",
       "    </tr>\n",
       "  </thead>\n",
       "  <tbody>\n",
       "    <tr>\n",
       "      <th>1</th>\n",
       "      <td>Star Wars: Episode VII - The Force Awakens</td>\n",
       "      <td>1</td>\n",
       "      <td>Star Wars: Episode VII - The Force Awakens</td>\n",
       "      <td>$936,662,225</td>\n",
       "      <td>2015</td>\n",
       "      <td>247966675</td>\n",
       "      <td>245000000</td>\n",
       "      <td>936662225</td>\n",
       "      <td>1131791908</td>\n",
       "      <td>2068454133</td>\n",
       "      <td>138.0</td>\n",
       "      <td>PG-13</td>\n",
       "      <td>12</td>\n",
       "      <td>2015-12-16</td>\n",
       "      <td>['Action', 'Adventure', 'Sci-Fi']</td>\n",
       "    </tr>\n",
       "    <tr>\n",
       "      <th>2</th>\n",
       "      <td>Avengers: Endgame</td>\n",
       "      <td>2</td>\n",
       "      <td>Avengers: Endgame</td>\n",
       "      <td>$858,373,000</td>\n",
       "      <td>2019</td>\n",
       "      <td>357115007</td>\n",
       "      <td>356000000</td>\n",
       "      <td>858373000</td>\n",
       "      <td>1939427564</td>\n",
       "      <td>2797800564</td>\n",
       "      <td>181.0</td>\n",
       "      <td>PG-13</td>\n",
       "      <td>4</td>\n",
       "      <td>2019-04-24</td>\n",
       "      <td>['Action', 'Adventure', 'Drama', 'Sci-Fi']</td>\n",
       "    </tr>\n",
       "  </tbody>\n",
       "</table>\n",
       "</div>"
      ],
      "text/plain": [
       "                                  movie_title rank  \\\n",
       "1  Star Wars: Episode VII - The Force Awakens    1   \n",
       "2                           Avengers: Endgame    2   \n",
       "\n",
       "                                        title domestic_gross_x  release_year  \\\n",
       "1  Star Wars: Episode VII - The Force Awakens     $936,662,225          2015   \n",
       "2                           Avengers: Endgame     $858,373,000          2019   \n",
       "\n",
       "   domestic_opening_gross     budget  domestic_gross_y  international_gross  \\\n",
       "1               247966675  245000000         936662225           1131791908   \n",
       "2               357115007  356000000         858373000           1939427564   \n",
       "\n",
       "   worldwide_gross  runtime_minutes rating  release_month release_date  \\\n",
       "1       2068454133            138.0  PG-13             12   2015-12-16   \n",
       "2       2797800564            181.0  PG-13              4   2019-04-24   \n",
       "\n",
       "                                       genres  \n",
       "1           ['Action', 'Adventure', 'Sci-Fi']  \n",
       "2  ['Action', 'Adventure', 'Drama', 'Sci-Fi']  "
      ]
     },
     "execution_count": 8,
     "metadata": {},
     "output_type": "execute_result"
    }
   ],
   "source": [
    "df.head(2)"
   ]
  },
  {
   "cell_type": "code",
   "execution_count": 9,
   "metadata": {},
   "outputs": [],
   "source": [
    "df.drop(['domestic_gross_x'], axis=1, inplace = True)"
   ]
  },
  {
   "cell_type": "code",
   "execution_count": 10,
   "metadata": {},
   "outputs": [
    {
     "data": {
      "text/html": [
       "<div>\n",
       "<style scoped>\n",
       "    .dataframe tbody tr th:only-of-type {\n",
       "        vertical-align: middle;\n",
       "    }\n",
       "\n",
       "    .dataframe tbody tr th {\n",
       "        vertical-align: top;\n",
       "    }\n",
       "\n",
       "    .dataframe thead th {\n",
       "        text-align: right;\n",
       "    }\n",
       "</style>\n",
       "<table border=\"1\" class=\"dataframe\">\n",
       "  <thead>\n",
       "    <tr style=\"text-align: right;\">\n",
       "      <th></th>\n",
       "      <th>movie_title</th>\n",
       "      <th>rank</th>\n",
       "      <th>title</th>\n",
       "      <th>release_year</th>\n",
       "      <th>domestic_opening_gross</th>\n",
       "      <th>budget</th>\n",
       "      <th>domestic_gross_y</th>\n",
       "      <th>international_gross</th>\n",
       "      <th>worldwide_gross</th>\n",
       "      <th>runtime_minutes</th>\n",
       "      <th>rating</th>\n",
       "      <th>release_month</th>\n",
       "      <th>release_date</th>\n",
       "      <th>genres</th>\n",
       "    </tr>\n",
       "  </thead>\n",
       "  <tbody>\n",
       "    <tr>\n",
       "      <th>1</th>\n",
       "      <td>Star Wars: Episode VII - The Force Awakens</td>\n",
       "      <td>1</td>\n",
       "      <td>Star Wars: Episode VII - The Force Awakens</td>\n",
       "      <td>2015</td>\n",
       "      <td>247966675</td>\n",
       "      <td>245000000</td>\n",
       "      <td>936662225</td>\n",
       "      <td>1131791908</td>\n",
       "      <td>2068454133</td>\n",
       "      <td>138.0</td>\n",
       "      <td>PG-13</td>\n",
       "      <td>12</td>\n",
       "      <td>2015-12-16</td>\n",
       "      <td>['Action', 'Adventure', 'Sci-Fi']</td>\n",
       "    </tr>\n",
       "    <tr>\n",
       "      <th>2</th>\n",
       "      <td>Avengers: Endgame</td>\n",
       "      <td>2</td>\n",
       "      <td>Avengers: Endgame</td>\n",
       "      <td>2019</td>\n",
       "      <td>357115007</td>\n",
       "      <td>356000000</td>\n",
       "      <td>858373000</td>\n",
       "      <td>1939427564</td>\n",
       "      <td>2797800564</td>\n",
       "      <td>181.0</td>\n",
       "      <td>PG-13</td>\n",
       "      <td>4</td>\n",
       "      <td>2019-04-24</td>\n",
       "      <td>['Action', 'Adventure', 'Drama', 'Sci-Fi']</td>\n",
       "    </tr>\n",
       "  </tbody>\n",
       "</table>\n",
       "</div>"
      ],
      "text/plain": [
       "                                  movie_title rank  \\\n",
       "1  Star Wars: Episode VII - The Force Awakens    1   \n",
       "2                           Avengers: Endgame    2   \n",
       "\n",
       "                                        title  release_year  \\\n",
       "1  Star Wars: Episode VII - The Force Awakens          2015   \n",
       "2                           Avengers: Endgame          2019   \n",
       "\n",
       "   domestic_opening_gross     budget  domestic_gross_y  international_gross  \\\n",
       "1               247966675  245000000         936662225           1131791908   \n",
       "2               357115007  356000000         858373000           1939427564   \n",
       "\n",
       "   worldwide_gross  runtime_minutes rating  release_month release_date  \\\n",
       "1       2068454133            138.0  PG-13             12   2015-12-16   \n",
       "2       2797800564            181.0  PG-13              4   2019-04-24   \n",
       "\n",
       "                                       genres  \n",
       "1           ['Action', 'Adventure', 'Sci-Fi']  \n",
       "2  ['Action', 'Adventure', 'Drama', 'Sci-Fi']  "
      ]
     },
     "execution_count": 10,
     "metadata": {},
     "output_type": "execute_result"
    }
   ],
   "source": [
    "df.head(2)"
   ]
  },
  {
   "cell_type": "code",
   "execution_count": 11,
   "metadata": {},
   "outputs": [],
   "source": [
    "df.drop(['title'], axis=1, inplace = True)"
   ]
  },
  {
   "cell_type": "code",
   "execution_count": 12,
   "metadata": {},
   "outputs": [
    {
     "data": {
      "text/html": [
       "<div>\n",
       "<style scoped>\n",
       "    .dataframe tbody tr th:only-of-type {\n",
       "        vertical-align: middle;\n",
       "    }\n",
       "\n",
       "    .dataframe tbody tr th {\n",
       "        vertical-align: top;\n",
       "    }\n",
       "\n",
       "    .dataframe thead th {\n",
       "        text-align: right;\n",
       "    }\n",
       "</style>\n",
       "<table border=\"1\" class=\"dataframe\">\n",
       "  <thead>\n",
       "    <tr style=\"text-align: right;\">\n",
       "      <th></th>\n",
       "      <th>movie_title</th>\n",
       "      <th>rank</th>\n",
       "      <th>release_year</th>\n",
       "      <th>domestic_opening_gross</th>\n",
       "      <th>budget</th>\n",
       "      <th>domestic_gross_y</th>\n",
       "      <th>international_gross</th>\n",
       "      <th>worldwide_gross</th>\n",
       "      <th>runtime_minutes</th>\n",
       "      <th>rating</th>\n",
       "      <th>release_month</th>\n",
       "      <th>release_date</th>\n",
       "      <th>genres</th>\n",
       "    </tr>\n",
       "  </thead>\n",
       "  <tbody>\n",
       "    <tr>\n",
       "      <th>1</th>\n",
       "      <td>Star Wars: Episode VII - The Force Awakens</td>\n",
       "      <td>1</td>\n",
       "      <td>2015</td>\n",
       "      <td>247966675</td>\n",
       "      <td>245000000</td>\n",
       "      <td>936662225</td>\n",
       "      <td>1131791908</td>\n",
       "      <td>2068454133</td>\n",
       "      <td>138.0</td>\n",
       "      <td>PG-13</td>\n",
       "      <td>12</td>\n",
       "      <td>2015-12-16</td>\n",
       "      <td>['Action', 'Adventure', 'Sci-Fi']</td>\n",
       "    </tr>\n",
       "    <tr>\n",
       "      <th>2</th>\n",
       "      <td>Avengers: Endgame</td>\n",
       "      <td>2</td>\n",
       "      <td>2019</td>\n",
       "      <td>357115007</td>\n",
       "      <td>356000000</td>\n",
       "      <td>858373000</td>\n",
       "      <td>1939427564</td>\n",
       "      <td>2797800564</td>\n",
       "      <td>181.0</td>\n",
       "      <td>PG-13</td>\n",
       "      <td>4</td>\n",
       "      <td>2019-04-24</td>\n",
       "      <td>['Action', 'Adventure', 'Drama', 'Sci-Fi']</td>\n",
       "    </tr>\n",
       "  </tbody>\n",
       "</table>\n",
       "</div>"
      ],
      "text/plain": [
       "                                  movie_title rank  release_year  \\\n",
       "1  Star Wars: Episode VII - The Force Awakens    1          2015   \n",
       "2                           Avengers: Endgame    2          2019   \n",
       "\n",
       "   domestic_opening_gross     budget  domestic_gross_y  international_gross  \\\n",
       "1               247966675  245000000         936662225           1131791908   \n",
       "2               357115007  356000000         858373000           1939427564   \n",
       "\n",
       "   worldwide_gross  runtime_minutes rating  release_month release_date  \\\n",
       "1       2068454133            138.0  PG-13             12   2015-12-16   \n",
       "2       2797800564            181.0  PG-13              4   2019-04-24   \n",
       "\n",
       "                                       genres  \n",
       "1           ['Action', 'Adventure', 'Sci-Fi']  \n",
       "2  ['Action', 'Adventure', 'Drama', 'Sci-Fi']  "
      ]
     },
     "execution_count": 12,
     "metadata": {},
     "output_type": "execute_result"
    }
   ],
   "source": [
    "df.head(2)"
   ]
  },
  {
   "cell_type": "code",
   "execution_count": 13,
   "metadata": {},
   "outputs": [],
   "source": [
    "df.rename( columns={'domestic_gross_y':'domestic_gross'}, inplace=True )"
   ]
  },
  {
   "cell_type": "code",
   "execution_count": 14,
   "metadata": {},
   "outputs": [
    {
     "data": {
      "text/html": [
       "<div>\n",
       "<style scoped>\n",
       "    .dataframe tbody tr th:only-of-type {\n",
       "        vertical-align: middle;\n",
       "    }\n",
       "\n",
       "    .dataframe tbody tr th {\n",
       "        vertical-align: top;\n",
       "    }\n",
       "\n",
       "    .dataframe thead th {\n",
       "        text-align: right;\n",
       "    }\n",
       "</style>\n",
       "<table border=\"1\" class=\"dataframe\">\n",
       "  <thead>\n",
       "    <tr style=\"text-align: right;\">\n",
       "      <th></th>\n",
       "      <th>movie_title</th>\n",
       "      <th>rank</th>\n",
       "      <th>release_year</th>\n",
       "      <th>domestic_opening_gross</th>\n",
       "      <th>budget</th>\n",
       "      <th>domestic_gross</th>\n",
       "      <th>international_gross</th>\n",
       "      <th>worldwide_gross</th>\n",
       "      <th>runtime_minutes</th>\n",
       "      <th>rating</th>\n",
       "      <th>release_month</th>\n",
       "      <th>release_date</th>\n",
       "      <th>genres</th>\n",
       "    </tr>\n",
       "  </thead>\n",
       "  <tbody>\n",
       "    <tr>\n",
       "      <th>1</th>\n",
       "      <td>Star Wars: Episode VII - The Force Awakens</td>\n",
       "      <td>1</td>\n",
       "      <td>2015</td>\n",
       "      <td>247966675</td>\n",
       "      <td>245000000</td>\n",
       "      <td>936662225</td>\n",
       "      <td>1131791908</td>\n",
       "      <td>2068454133</td>\n",
       "      <td>138.0</td>\n",
       "      <td>PG-13</td>\n",
       "      <td>12</td>\n",
       "      <td>2015-12-16</td>\n",
       "      <td>['Action', 'Adventure', 'Sci-Fi']</td>\n",
       "    </tr>\n",
       "    <tr>\n",
       "      <th>2</th>\n",
       "      <td>Avengers: Endgame</td>\n",
       "      <td>2</td>\n",
       "      <td>2019</td>\n",
       "      <td>357115007</td>\n",
       "      <td>356000000</td>\n",
       "      <td>858373000</td>\n",
       "      <td>1939427564</td>\n",
       "      <td>2797800564</td>\n",
       "      <td>181.0</td>\n",
       "      <td>PG-13</td>\n",
       "      <td>4</td>\n",
       "      <td>2019-04-24</td>\n",
       "      <td>['Action', 'Adventure', 'Drama', 'Sci-Fi']</td>\n",
       "    </tr>\n",
       "    <tr>\n",
       "      <th>3</th>\n",
       "      <td>Avatar</td>\n",
       "      <td>3</td>\n",
       "      <td>2009</td>\n",
       "      <td>77025481</td>\n",
       "      <td>237000000</td>\n",
       "      <td>760507625</td>\n",
       "      <td>2029931467</td>\n",
       "      <td>2790439092</td>\n",
       "      <td>162.0</td>\n",
       "      <td>PG-13</td>\n",
       "      <td>12</td>\n",
       "      <td>2009-12-16</td>\n",
       "      <td>['Action', 'Adventure', 'Fantasy', 'Sci-Fi']</td>\n",
       "    </tr>\n",
       "    <tr>\n",
       "      <th>4</th>\n",
       "      <td>Black Panther</td>\n",
       "      <td>4</td>\n",
       "      <td>2018</td>\n",
       "      <td>202003951</td>\n",
       "      <td>0</td>\n",
       "      <td>700426566</td>\n",
       "      <td>647171407</td>\n",
       "      <td>1347597973</td>\n",
       "      <td>134.0</td>\n",
       "      <td>PG-13</td>\n",
       "      <td>2</td>\n",
       "      <td>2018-02-13</td>\n",
       "      <td>['Action', 'Adventure', 'Sci-Fi']</td>\n",
       "    </tr>\n",
       "    <tr>\n",
       "      <th>5</th>\n",
       "      <td>Avengers: Infinity War</td>\n",
       "      <td>5</td>\n",
       "      <td>2018</td>\n",
       "      <td>257698183</td>\n",
       "      <td>0</td>\n",
       "      <td>678815482</td>\n",
       "      <td>1369544272</td>\n",
       "      <td>2048359754</td>\n",
       "      <td>149.0</td>\n",
       "      <td>PG-13</td>\n",
       "      <td>4</td>\n",
       "      <td>2018-04-25</td>\n",
       "      <td>['Action', 'Adventure', 'Sci-Fi']</td>\n",
       "    </tr>\n",
       "  </tbody>\n",
       "</table>\n",
       "</div>"
      ],
      "text/plain": [
       "                                  movie_title rank  release_year  \\\n",
       "1  Star Wars: Episode VII - The Force Awakens    1          2015   \n",
       "2                           Avengers: Endgame    2          2019   \n",
       "3                                      Avatar    3          2009   \n",
       "4                               Black Panther    4          2018   \n",
       "5                      Avengers: Infinity War    5          2018   \n",
       "\n",
       "   domestic_opening_gross     budget  domestic_gross  international_gross  \\\n",
       "1               247966675  245000000       936662225           1131791908   \n",
       "2               357115007  356000000       858373000           1939427564   \n",
       "3                77025481  237000000       760507625           2029931467   \n",
       "4               202003951          0       700426566            647171407   \n",
       "5               257698183          0       678815482           1369544272   \n",
       "\n",
       "   worldwide_gross  runtime_minutes rating  release_month release_date  \\\n",
       "1       2068454133            138.0  PG-13             12   2015-12-16   \n",
       "2       2797800564            181.0  PG-13              4   2019-04-24   \n",
       "3       2790439092            162.0  PG-13             12   2009-12-16   \n",
       "4       1347597973            134.0  PG-13              2   2018-02-13   \n",
       "5       2048359754            149.0  PG-13              4   2018-04-25   \n",
       "\n",
       "                                         genres  \n",
       "1             ['Action', 'Adventure', 'Sci-Fi']  \n",
       "2    ['Action', 'Adventure', 'Drama', 'Sci-Fi']  \n",
       "3  ['Action', 'Adventure', 'Fantasy', 'Sci-Fi']  \n",
       "4             ['Action', 'Adventure', 'Sci-Fi']  \n",
       "5             ['Action', 'Adventure', 'Sci-Fi']  "
      ]
     },
     "execution_count": 14,
     "metadata": {},
     "output_type": "execute_result"
    }
   ],
   "source": [
    "df.head()"
   ]
  },
  {
   "cell_type": "code",
   "execution_count": 15,
   "metadata": {},
   "outputs": [],
   "source": [
    "df.rename( columns={'runtime_minutes':'runtime'}, inplace=True )"
   ]
  },
  {
   "cell_type": "code",
   "execution_count": 16,
   "metadata": {},
   "outputs": [
    {
     "data": {
      "text/plain": [
       "(996, 13)"
      ]
     },
     "execution_count": 16,
     "metadata": {},
     "output_type": "execute_result"
    }
   ],
   "source": [
    "df.shape"
   ]
  },
  {
   "cell_type": "code",
   "execution_count": 17,
   "metadata": {},
   "outputs": [],
   "source": [
    "movies = df.replace('?', np.NaN).dropna().reset_index(drop=True)"
   ]
  },
  {
   "cell_type": "code",
   "execution_count": 18,
   "metadata": {},
   "outputs": [
    {
     "data": {
      "text/plain": [
       "(850, 13)"
      ]
     },
     "execution_count": 18,
     "metadata": {},
     "output_type": "execute_result"
    }
   ],
   "source": [
    "movies.shape"
   ]
  },
  {
   "cell_type": "code",
   "execution_count": 19,
   "metadata": {},
   "outputs": [],
   "source": [
    "movies.drop(movies[movies['release_year'] < 2000].index, inplace = True)"
   ]
  },
  {
   "cell_type": "code",
   "execution_count": 20,
   "metadata": {
    "scrolled": true
   },
   "outputs": [
    {
     "data": {
      "text/plain": [
       "(690, 13)"
      ]
     },
     "execution_count": 20,
     "metadata": {},
     "output_type": "execute_result"
    }
   ],
   "source": [
    "movies.shape"
   ]
  },
  {
   "cell_type": "code",
   "execution_count": 21,
   "metadata": {},
   "outputs": [
    {
     "data": {
      "text/plain": [
       "356000000"
      ]
     },
     "execution_count": 21,
     "metadata": {},
     "output_type": "execute_result"
    }
   ],
   "source": [
    "movies['budget'].max()"
   ]
  },
  {
   "cell_type": "code",
   "execution_count": 22,
   "metadata": {},
   "outputs": [
    {
     "data": {
      "text/plain": [
       "0"
      ]
     },
     "execution_count": 22,
     "metadata": {},
     "output_type": "execute_result"
    }
   ],
   "source": [
    "movies['budget'].min()"
   ]
  },
  {
   "cell_type": "code",
   "execution_count": null,
   "metadata": {},
   "outputs": [],
   "source": [
    "#dropna didnt't address the null values in budget"
   ]
  },
  {
   "cell_type": "code",
   "execution_count": 23,
   "metadata": {},
   "outputs": [],
   "source": [
    "movies.drop(movies[movies['budget'] == 0].index, inplace = True)"
   ]
  },
  {
   "cell_type": "code",
   "execution_count": 24,
   "metadata": {},
   "outputs": [
    {
     "data": {
      "text/plain": [
       "2797800564"
      ]
     },
     "execution_count": 24,
     "metadata": {},
     "output_type": "execute_result"
    }
   ],
   "source": [
    "movies['worldwide_gross'].max()"
   ]
  },
  {
   "cell_type": "code",
   "execution_count": 25,
   "metadata": {},
   "outputs": [
    {
     "data": {
      "text/plain": [
       "86086881"
      ]
     },
     "execution_count": 25,
     "metadata": {},
     "output_type": "execute_result"
    }
   ],
   "source": [
    "movies['worldwide_gross'].min()"
   ]
  },
  {
   "cell_type": "code",
   "execution_count": 26,
   "metadata": {},
   "outputs": [
    {
     "data": {
      "text/plain": [
       "(637, 13)"
      ]
     },
     "execution_count": 26,
     "metadata": {},
     "output_type": "execute_result"
    }
   ],
   "source": [
    "movies.shape"
   ]
  },
  {
   "cell_type": "code",
   "execution_count": 27,
   "metadata": {},
   "outputs": [
    {
     "data": {
      "text/html": [
       "<div>\n",
       "<style scoped>\n",
       "    .dataframe tbody tr th:only-of-type {\n",
       "        vertical-align: middle;\n",
       "    }\n",
       "\n",
       "    .dataframe tbody tr th {\n",
       "        vertical-align: top;\n",
       "    }\n",
       "\n",
       "    .dataframe thead th {\n",
       "        text-align: right;\n",
       "    }\n",
       "</style>\n",
       "<table border=\"1\" class=\"dataframe\">\n",
       "  <thead>\n",
       "    <tr style=\"text-align: right;\">\n",
       "      <th></th>\n",
       "      <th>movie_title</th>\n",
       "      <th>rank</th>\n",
       "      <th>release_year</th>\n",
       "      <th>domestic_opening_gross</th>\n",
       "      <th>budget</th>\n",
       "      <th>domestic_gross</th>\n",
       "      <th>international_gross</th>\n",
       "      <th>worldwide_gross</th>\n",
       "      <th>runtime</th>\n",
       "      <th>rating</th>\n",
       "      <th>release_month</th>\n",
       "      <th>release_date</th>\n",
       "      <th>genres</th>\n",
       "    </tr>\n",
       "  </thead>\n",
       "  <tbody>\n",
       "    <tr>\n",
       "      <th>0</th>\n",
       "      <td>Star Wars: Episode VII - The Force Awakens</td>\n",
       "      <td>1</td>\n",
       "      <td>2015</td>\n",
       "      <td>247966675</td>\n",
       "      <td>245000000</td>\n",
       "      <td>936662225</td>\n",
       "      <td>1131791908</td>\n",
       "      <td>2068454133</td>\n",
       "      <td>138.0</td>\n",
       "      <td>PG-13</td>\n",
       "      <td>12</td>\n",
       "      <td>2015-12-16</td>\n",
       "      <td>['Action', 'Adventure', 'Sci-Fi']</td>\n",
       "    </tr>\n",
       "    <tr>\n",
       "      <th>1</th>\n",
       "      <td>Avengers: Endgame</td>\n",
       "      <td>2</td>\n",
       "      <td>2019</td>\n",
       "      <td>357115007</td>\n",
       "      <td>356000000</td>\n",
       "      <td>858373000</td>\n",
       "      <td>1939427564</td>\n",
       "      <td>2797800564</td>\n",
       "      <td>181.0</td>\n",
       "      <td>PG-13</td>\n",
       "      <td>4</td>\n",
       "      <td>2019-04-24</td>\n",
       "      <td>['Action', 'Adventure', 'Drama', 'Sci-Fi']</td>\n",
       "    </tr>\n",
       "  </tbody>\n",
       "</table>\n",
       "</div>"
      ],
      "text/plain": [
       "                                  movie_title rank  release_year  \\\n",
       "0  Star Wars: Episode VII - The Force Awakens    1          2015   \n",
       "1                           Avengers: Endgame    2          2019   \n",
       "\n",
       "   domestic_opening_gross     budget  domestic_gross  international_gross  \\\n",
       "0               247966675  245000000       936662225           1131791908   \n",
       "1               357115007  356000000       858373000           1939427564   \n",
       "\n",
       "   worldwide_gross  runtime rating  release_month release_date  \\\n",
       "0       2068454133    138.0  PG-13             12   2015-12-16   \n",
       "1       2797800564    181.0  PG-13              4   2019-04-24   \n",
       "\n",
       "                                       genres  \n",
       "0           ['Action', 'Adventure', 'Sci-Fi']  \n",
       "1  ['Action', 'Adventure', 'Drama', 'Sci-Fi']  "
      ]
     },
     "execution_count": 27,
     "metadata": {},
     "output_type": "execute_result"
    }
   ],
   "source": [
    "movies.head(2)"
   ]
  },
  {
   "cell_type": "code",
   "execution_count": null,
   "metadata": {},
   "outputs": [],
   "source": [
    "action = ['Action', 'Sport','Adventure']\n",
    "family = ['Family', 'Drama', 'Commedy', 'Romance']\n",
    "documentary = ['History','Documentary','Biography']\n",
    "crime_thriller = ['crime', 'thriller']\n",
    "fantasy = ['fantasy', 'Sci-Fi']\n",
    "animation = ['Animation']\n",
    "others = ['others']\n",
    "def genre(c)\n",
    "    for g in movies['genres']:\n",
    "        if g in action:\n",
    "            return 'Action'\n",
    "        if g in family:\n",
    "            return 'Family'\n",
    "        if g in documentary:\n",
    "            return 'Documentary'\n",
    "        if g in crime_thriller:\n",
    "            return 'Crime'\n",
    "        if g in fantasy:\n",
    "            return 'Fantasy'\n",
    "        if g in animation:\n",
    "            return 'Animation'\n",
    "        else:\n",
    "            return 'Others'"
   ]
  },
  {
   "cell_type": "code",
   "execution_count": 39,
   "metadata": {},
   "outputs": [
    {
     "ename": "SyntaxError",
     "evalue": "invalid syntax (<ipython-input-39-3f57cbbf23f3>, line 8)",
     "output_type": "error",
     "traceback": [
      "\u001b[0;36m  File \u001b[0;32m\"<ipython-input-39-3f57cbbf23f3>\"\u001b[0;36m, line \u001b[0;32m8\u001b[0m\n\u001b[0;31m    for row in movies[:,axis = 0]:\u001b[0m\n\u001b[0m                             ^\u001b[0m\n\u001b[0;31mSyntaxError\u001b[0m\u001b[0;31m:\u001b[0m invalid syntax\n"
     ]
    }
   ],
   "source": [
    "action = ['Action', 'Sport','Adventure']\n",
    "family = ['Family', 'Drama', 'Commedy', 'Romance']\n",
    "documentary = ['History','Documentary','Biography']\n",
    "crime_thriller = ['crime', 'thriller']\n",
    "fantasy = ['fantasy', 'Sci-Fi']\n",
    "animation = ['Animation']\n",
    "others = ['others']\n",
    "def genre(c)\n",
    "    for g in movies['genres']:\n",
    "        if g in action:\n",
    "            movies['genre'].append(g)\n",
    "        if g in family:\n",
    "            movies['genre'].append(g)\n",
    "        if g in documentary:\n",
    "            movies['genre'].apppend(g)\n",
    "        if g in crime_thriller:\n",
    "            movies['genre'].append(g)\n",
    "        if g in fantasy:\n",
    "            movies['genre'].append(g)\n",
    "        if g in animation:\n",
    "            movies['genre'].append(g)\n",
    "        else:\n",
    "            movies['genre']+=['others']\n",
    "  "
   ]
  },
  {
   "cell_type": "code",
   "execution_count": 38,
   "metadata": {},
   "outputs": [
    {
     "data": {
      "text/html": [
       "<div>\n",
       "<style scoped>\n",
       "    .dataframe tbody tr th:only-of-type {\n",
       "        vertical-align: middle;\n",
       "    }\n",
       "\n",
       "    .dataframe tbody tr th {\n",
       "        vertical-align: top;\n",
       "    }\n",
       "\n",
       "    .dataframe thead th {\n",
       "        text-align: right;\n",
       "    }\n",
       "</style>\n",
       "<table border=\"1\" class=\"dataframe\">\n",
       "  <thead>\n",
       "    <tr style=\"text-align: right;\">\n",
       "      <th></th>\n",
       "      <th>movie_title</th>\n",
       "      <th>rank</th>\n",
       "      <th>release_year</th>\n",
       "      <th>domestic_opening_gross</th>\n",
       "      <th>budget</th>\n",
       "      <th>domestic_gross</th>\n",
       "      <th>international_gross</th>\n",
       "      <th>worldwide_gross</th>\n",
       "      <th>runtime</th>\n",
       "      <th>rating</th>\n",
       "      <th>release_month</th>\n",
       "      <th>release_date</th>\n",
       "      <th>genres</th>\n",
       "      <th>genre</th>\n",
       "    </tr>\n",
       "  </thead>\n",
       "  <tbody>\n",
       "    <tr>\n",
       "      <th>0</th>\n",
       "      <td>Star Wars: Episode VII - The Force Awakens</td>\n",
       "      <td>1</td>\n",
       "      <td>2015</td>\n",
       "      <td>247966675</td>\n",
       "      <td>245000000</td>\n",
       "      <td>936662225</td>\n",
       "      <td>1131791908</td>\n",
       "      <td>2068454133</td>\n",
       "      <td>138.0</td>\n",
       "      <td>PG-13</td>\n",
       "      <td>12</td>\n",
       "      <td>2015-12-16</td>\n",
       "      <td>['Action', 'Adventure', 'Sci-Fi']</td>\n",
       "      <td>othersothersothersothersothersothersothersothe...</td>\n",
       "    </tr>\n",
       "    <tr>\n",
       "      <th>1</th>\n",
       "      <td>Avengers: Endgame</td>\n",
       "      <td>2</td>\n",
       "      <td>2019</td>\n",
       "      <td>357115007</td>\n",
       "      <td>356000000</td>\n",
       "      <td>858373000</td>\n",
       "      <td>1939427564</td>\n",
       "      <td>2797800564</td>\n",
       "      <td>181.0</td>\n",
       "      <td>PG-13</td>\n",
       "      <td>4</td>\n",
       "      <td>2019-04-24</td>\n",
       "      <td>['Action', 'Adventure', 'Drama', 'Sci-Fi']</td>\n",
       "      <td>othersothersothersothersothersothersothersothe...</td>\n",
       "    </tr>\n",
       "    <tr>\n",
       "      <th>2</th>\n",
       "      <td>Avatar</td>\n",
       "      <td>3</td>\n",
       "      <td>2009</td>\n",
       "      <td>77025481</td>\n",
       "      <td>237000000</td>\n",
       "      <td>760507625</td>\n",
       "      <td>2029931467</td>\n",
       "      <td>2790439092</td>\n",
       "      <td>162.0</td>\n",
       "      <td>PG-13</td>\n",
       "      <td>12</td>\n",
       "      <td>2009-12-16</td>\n",
       "      <td>['Action', 'Adventure', 'Fantasy', 'Sci-Fi']</td>\n",
       "      <td>othersothersothersothersothersothersothersothe...</td>\n",
       "    </tr>\n",
       "    <tr>\n",
       "      <th>6</th>\n",
       "      <td>Jurassic World</td>\n",
       "      <td>7</td>\n",
       "      <td>2015</td>\n",
       "      <td>208806270</td>\n",
       "      <td>150000000</td>\n",
       "      <td>652295625</td>\n",
       "      <td>1018130819</td>\n",
       "      <td>1670426444</td>\n",
       "      <td>124.0</td>\n",
       "      <td>PG-13</td>\n",
       "      <td>6</td>\n",
       "      <td>2015-06-10</td>\n",
       "      <td>['Action', 'Adventure', 'Sci-Fi']</td>\n",
       "      <td>othersothersothersothersothersothersothersothe...</td>\n",
       "    </tr>\n",
       "    <tr>\n",
       "      <th>7</th>\n",
       "      <td>The Avengers</td>\n",
       "      <td>8</td>\n",
       "      <td>2012</td>\n",
       "      <td>207438708</td>\n",
       "      <td>220000000</td>\n",
       "      <td>623357910</td>\n",
       "      <td>895457605</td>\n",
       "      <td>1518815515</td>\n",
       "      <td>143.0</td>\n",
       "      <td>PG-13</td>\n",
       "      <td>4</td>\n",
       "      <td>2012-04-25</td>\n",
       "      <td>['Action', 'Adventure', 'Sci-Fi']</td>\n",
       "      <td>othersothersothersothersothersothersothersothe...</td>\n",
       "    </tr>\n",
       "  </tbody>\n",
       "</table>\n",
       "</div>"
      ],
      "text/plain": [
       "                                  movie_title rank  release_year  \\\n",
       "0  Star Wars: Episode VII - The Force Awakens    1          2015   \n",
       "1                           Avengers: Endgame    2          2019   \n",
       "2                                      Avatar    3          2009   \n",
       "6                              Jurassic World    7          2015   \n",
       "7                                The Avengers    8          2012   \n",
       "\n",
       "   domestic_opening_gross     budget  domestic_gross  international_gross  \\\n",
       "0               247966675  245000000       936662225           1131791908   \n",
       "1               357115007  356000000       858373000           1939427564   \n",
       "2                77025481  237000000       760507625           2029931467   \n",
       "6               208806270  150000000       652295625           1018130819   \n",
       "7               207438708  220000000       623357910            895457605   \n",
       "\n",
       "   worldwide_gross  runtime rating  release_month release_date  \\\n",
       "0       2068454133    138.0  PG-13             12   2015-12-16   \n",
       "1       2797800564    181.0  PG-13              4   2019-04-24   \n",
       "2       2790439092    162.0  PG-13             12   2009-12-16   \n",
       "6       1670426444    124.0  PG-13              6   2015-06-10   \n",
       "7       1518815515    143.0  PG-13              4   2012-04-25   \n",
       "\n",
       "                                         genres  \\\n",
       "0             ['Action', 'Adventure', 'Sci-Fi']   \n",
       "1    ['Action', 'Adventure', 'Drama', 'Sci-Fi']   \n",
       "2  ['Action', 'Adventure', 'Fantasy', 'Sci-Fi']   \n",
       "6             ['Action', 'Adventure', 'Sci-Fi']   \n",
       "7             ['Action', 'Adventure', 'Sci-Fi']   \n",
       "\n",
       "                                               genre  \n",
       "0  othersothersothersothersothersothersothersothe...  \n",
       "1  othersothersothersothersothersothersothersothe...  \n",
       "2  othersothersothersothersothersothersothersothe...  \n",
       "6  othersothersothersothersothersothersothersothe...  \n",
       "7  othersothersothersothersothersothersothersothe...  "
      ]
     },
     "execution_count": 38,
     "metadata": {},
     "output_type": "execute_result"
    }
   ],
   "source": [
    "movies.head()"
   ]
  },
  {
   "cell_type": "markdown",
   "metadata": {},
   "source": [
    "# Initial assessments and visualizing using statsmodels, matplotlib and Seaborn"
   ]
  },
  {
   "cell_type": "code",
   "execution_count": null,
   "metadata": {},
   "outputs": [],
   "source": [
    "sns.heatmap(movies.corr(), cmap='seismic', annot = True, vmin = -1, vmax = 1)"
   ]
  },
  {
   "cell_type": "code",
   "execution_count": null,
   "metadata": {},
   "outputs": [],
   "source": [
    "sns.pairplot(movies, plot_kws=dict(alpha=0.1, edgecolor='none'))"
   ]
  },
  {
   "cell_type": "markdown",
   "metadata": {},
   "source": [
    "For this project I would like to predict movie worldwide revenue, at the time we know the revenues from the domestic opening. I take the total domestic revenue and international revenues out from the dataset  as those data won't be available at upon domestic opening.  "
   ]
  },
  {
   "cell_type": "code",
   "execution_count": null,
   "metadata": {},
   "outputs": [],
   "source": [
    "lm = smf.ols('worldwide_gross ~ release_year + domestic_opening_gross + budget  + runtime_minutes + release_month', data = movies)\n",
    "fit = lm.fit()\n",
    "fit.summary()\n",
    "        "
   ]
  },
  {
   "cell_type": "markdown",
   "metadata": {},
   "source": [
    "Is this a good R^2 for movie industry? Notice the significant negative intercept. Is this correlation distorted by outliers such as may be movies that make huge losses?"
   ]
  },
  {
   "cell_type": "code",
   "execution_count": null,
   "metadata": {},
   "outputs": [],
   "source": [
    "min(movies['worldwide_gross'] - movies['budget'])"
   ]
  },
  {
   "cell_type": "markdown",
   "metadata": {},
   "source": [
    "Among the features, release year and month yield the highest standard errors followed by runtime. However if I take those out from the feature variables, I'll be left only with purely financial features budget and the revenu from the domestic opening. Let's see by taking out those features, one at a time."
   ]
  },
  {
   "cell_type": "code",
   "execution_count": null,
   "metadata": {},
   "outputs": [],
   "source": [
    "# Whithout release month:\n",
    "\n",
    "lm = smf.ols('worldwide_gross ~ release_year + domestic_opening_gross + budget  + runtime_minutes', data = movies)\n",
    "fit1 = lm.fit()\n",
    "fit1.summary()"
   ]
  },
  {
   "cell_type": "raw",
   "metadata": {},
   "source": [
    "Although on the heatmap the release month shows the weakest correlation witht the worldwide revenue, taking out the 'release_month' resulted in worst R^2. "
   ]
  },
  {
   "cell_type": "code",
   "execution_count": null,
   "metadata": {},
   "outputs": [],
   "source": [
    "#Putting back the release month and taking out the release year:\n",
    "\n",
    "lm = smf.ols('worldwide_gross ~ release_month + domestic_opening_gross + budget  + runtime_minutes', data = movies)\n",
    "fit2 = lm.fit()\n",
    "fit2.summary()"
   ]
  },
  {
   "cell_type": "code",
   "execution_count": null,
   "metadata": {},
   "outputs": [],
   "source": [
    "#Putting back the release month and taking out the running tme:\n",
    "\n",
    "lm = smf.ols('worldwide_gross ~ release_year + domestic_opening_gross + budget  + release_month', data = movies)\n",
    "fit3 = lm.fit()\n",
    "fit3.summary()"
   ]
  },
  {
   "cell_type": "markdown",
   "metadata": {},
   "source": [
    "Taking out the time features resulted in worst R^2 so I keep them all for further analysis. I will adding a new random variable 'rand'"
   ]
  },
  {
   "cell_type": "code",
   "execution_count": null,
   "metadata": {},
   "outputs": [],
   "source": [
    "movies['rand'] = np.randint[1:1000000]"
   ]
  },
  {
   "cell_type": "code",
   "execution_count": null,
   "metadata": {},
   "outputs": [],
   "source": [
    "plt.figure(figsize=(12,8))\n",
    "plt.scatter(fit.predict(),fit.resid);\n",
    "fit.resid.plot(style = 'o', figsize=(10,6));"
   ]
  },
  {
   "cell_type": "markdown",
   "metadata": {},
   "source": [
    "# Regression with sklearn"
   ]
  },
  {
   "cell_type": "code",
   "execution_count": null,
   "metadata": {},
   "outputs": [],
   "source": [
    "lr = LinearRegression()\n",
    "X = movies[['release_year', 'domestic_opening_gross', 'budget', 'runtime_minutes', 'release_month']]\n",
    "y = movies[['worldwide_gross']]\n",
    "lr.fit(X, y)\n"
   ]
  },
  {
   "cell_type": "code",
   "execution_count": null,
   "metadata": {},
   "outputs": [],
   "source": [
    "sns.pairplot(smaller_df, plot_kws=dict(alpha=0.1, edgecolor='none'))"
   ]
  },
  {
   "cell_type": "code",
   "execution_count": null,
   "metadata": {},
   "outputs": [],
   "source": [
    "lr.score(X, y)\n",
    "print(f\"R^2 = {lr.score(X,y)}\")"
   ]
  },
  {
   "cell_type": "code",
   "execution_count": null,
   "metadata": {},
   "outputs": [],
   "source": [
    "adj_R2 = 1 - (1 - lr.score(X, y))*(len(y) - 1)/(len(y) - X.shape[1]-1)\n",
    "print(f\"Adjusted R^2 = {adj_R2}\")"
   ]
  },
  {
   "cell_type": "code",
   "execution_count": null,
   "metadata": {},
   "outputs": [],
   "source": [
    "print(f\"Intercept : {lr.intercept_}\")"
   ]
  },
  {
   "cell_type": "code",
   "execution_count": null,
   "metadata": {},
   "outputs": [],
   "source": [
    "print(f\"Other coefficients : {lr.coef_}\")"
   ]
  },
  {
   "cell_type": "code",
   "execution_count": null,
   "metadata": {},
   "outputs": [],
   "source": [
    "fit.save('movie_data_sm_model.pkl')"
   ]
  },
  {
   "cell_type": "markdown",
   "metadata": {},
   "source": [
    "Let's first try applying some function to the target feature:"
   ]
  },
  {
   "cell_type": "code",
   "execution_count": null,
   "metadata": {},
   "outputs": [],
   "source": [
    "movies['log_revenue'] = np.log(movies.worldwide_gross)\n",
    "lsm = smf.ols('log_revenue ~ release_year + domestic_opening_gross + budget  + runtime_minutes + release_month', data = movies)\n",
    "fit1 = lsm.fit()\n",
    "fit1.summary()"
   ]
  },
  {
   "cell_type": "code",
   "execution_count": null,
   "metadata": {},
   "outputs": [],
   "source": [
    "movies['sq_revenue'] = np.square(movies.worldwide_gross)\n",
    "lsm = smf.ols('sq_revenue ~ release_year + domestic_opening_gross + budget  + runtime_minutes + release_month', data = movies)\n",
    "fit2 = lsm.fit()\n",
    "fit2.summary()"
   ]
  },
  {
   "cell_type": "code",
   "execution_count": null,
   "metadata": {},
   "outputs": [],
   "source": [
    "movies['sq_budget'] = np.square(movies.budget)\n",
    "lsm = smf.ols('worldwide_gross ~ + sq_budget + release_year + domestic_opening_gross + runtime_minutes', data = movies)\n",
    "fit3 = lsm.fit()\n",
    "fit3.summary()"
   ]
  },
  {
   "cell_type": "code",
   "execution_count": null,
   "metadata": {},
   "outputs": [],
   "source": [
    "movies['sin_budget'] = np.sin(movies.budget)\n",
    "lsm = smf.ols('worldwide_gross ~ + sin_budget + release_year + domestic_opening_gross + runtime_minutes +release_month', data = movies)\n",
    "fit4 = lsm.fit()\n",
    "fit4.summary()"
   ]
  },
  {
   "cell_type": "code",
   "execution_count": null,
   "metadata": {},
   "outputs": [],
   "source": [
    "movies['sq_opening'] = np.square(movies.domestic_opening_gross)\n",
    "lsm = smf.ols('worldwide_gross ~ sq_opening + budget + release_year + runtime_minutes + release_month', data = movies)\n",
    "fit5 = lsm.fit()\n",
    "fit5.summary()"
   ]
  },
  {
   "cell_type": "markdown",
   "metadata": {},
   "source": [
    "So far no luck with the financial features..."
   ]
  },
  {
   "cell_type": "code",
   "execution_count": null,
   "metadata": {},
   "outputs": [],
   "source": [
    "movies['d2k_year'] = 2000/(movies.release_year)\n",
    "lsm = smf.ols('worldwide_gross ~ d2k_year + domestic_opening_gross + budget + runtime_minutes + release_month', data = movies)\n",
    "fit6 = lsm.fit()\n",
    "fit6.summary()"
   ]
  },
  {
   "cell_type": "code",
   "execution_count": null,
   "metadata": {},
   "outputs": [],
   "source": [
    "movies['sq_month'] = np.square(movies.release_month)\n",
    "lsm = smf.ols('worldwide_gross ~ sq_month + release_year + domestic_opening_gross + budget + runtime_minutes', data = movies)\n",
    "fit7 = lsm.fit()\n",
    "fit7.summary()"
   ]
  },
  {
   "cell_type": "code",
   "execution_count": null,
   "metadata": {},
   "outputs": [],
   "source": [
    "movies['sq_runtime'] = np.square(movies.runtime_minutes)\n",
    "lsm = smf.ols('worldwide_gross ~ sq_runtime + domestic_opening_gross + budget + release_year + release_month', data = movies)\n",
    "fit6 = lsm.fit()\n",
    "fit6.summary()"
   ]
  },
  {
   "cell_type": "markdown",
   "metadata": {},
   "source": [
    "## Fitting polynomial functions"
   ]
  },
  {
   "cell_type": "markdown",
   "metadata": {},
   "source": [
    "### Generating random data"
   ]
  },
  {
   "cell_type": "code",
   "execution_count": null,
   "metadata": {},
   "outputs": [],
   "source": [
    "from IPython.core.pylabtools import figsize\n",
    "figsize(5,5)\n",
    "plt.style.use('fivethirtyeight')\n",
    "\n",
    "np.random.seed(9)\n",
    "\n",
    "def f(x):\n",
    "    ''' this is a function to generate random number '''\n",
    "    return np.sin(2* np.pi * x)\n",
    "\n",
    "x_plot = np.linspace(0, 1, 100)\n",
    "n_samples = 100\n",
    "X = np.random.uniform(0, 1, size=n_samples)[:, np.newaxis]\n",
    "y = f(X) + np.random.normal(scale=0.3, size=n_samples)[:, np.newaxis]\n",
    "\n",
    "fig,ax = plt.subplots(1,1);\n",
    "ax.plot(x_plot, f(x_plot), label='ground thruth', color='green')\n",
    "ax.scatter(X, y, label='data', s=100)\n",
    "ax.set_ylim(-2,2)\n",
    "ax.set_xlim(0,1)\n",
    "ax.set_ylabel('y')\n",
    "ax.set_xlabel('x')\n",
    "ax.legend();\n"
   ]
  },
  {
   "cell_type": "code",
   "execution_count": null,
   "metadata": {},
   "outputs": [],
   "source": [
    "def plot_approximation(est, ax, label = None):\n",
    "    \n",
    "    \"\"\" Plot the approximation of ``est`` on axis ``ax``.\"\"\"\n",
    "    \n",
    "    ax.plot(x_plot, f(x_plot),label = 'ground truth', color='green')\n",
    "    ax.scatter(X, y, s=100)\n",
    "    ax.plot(x_plot, est.predict(x_plot[:, np.newaxis]), color='red', label=label)\n",
    "    ax.set_ylim((-2,2))\n",
    "    ax.set_xlim((0,1))\n",
    "    ax.set_ylabel('y')\n",
    "    ax.set_xlabel('x')\n",
    "    ax.legend(loc='upper right', frameon=True)\n",
    "    \n",
    "fig, ax = plt.subplots(1,1)\n",
    "degree =3\n",
    "\n",
    "est = make_pipeline(PolynomialFeatures(degree), LinearRegression())\n",
    "est.fit(X,y)\n",
    "plot_approximation(est, ax, label='degree=%d'% degree)\n",
    "    "
   ]
  },
  {
   "cell_type": "code",
   "execution_count": null,
   "metadata": {},
   "outputs": [],
   "source": [
    "fig, ax = plt.subplots(1,1)\n",
    "degree = 9\n",
    "est = make_pipeline(PolynomialFeatures(degree), LinearRegression())\n",
    "est.fit(X,y)\n",
    "plot_approximation(est, ax, label='degree=%d' % degree)"
   ]
  },
  {
   "cell_type": "code",
   "execution_count": null,
   "metadata": {},
   "outputs": [],
   "source": [
    "fig, ax_rows = plt.subplots(5, 2, figsize=(15, 20))\n",
    "for degree in range(10):\n",
    "    est = make_pipeline(PolynomialFeatures(degree), LinearRegression())\n",
    "    est.fit(X, y)\n",
    "    # This sets the appropriate axis for each degree (KEEP)\n",
    "    ax_row_left, ax_row_right = ax_rows[degree//2]\n",
    "    if degree%2 == 0:\n",
    "        ax = ax_row_left\n",
    "    else:\n",
    "        ax = ax_row_right\n",
    "    plot_approximation(est, ax, label='degree=%d' % degree)"
   ]
  },
  {
   "cell_type": "code",
   "execution_count": null,
   "metadata": {},
   "outputs": [],
   "source": [
    "np.savez('poly_data.npz', X, y)"
   ]
  },
  {
   "cell_type": "code",
   "execution_count": null,
   "metadata": {},
   "outputs": [],
   "source": []
  }
 ],
 "metadata": {
  "kernelspec": {
   "display_name": "Python 3",
   "language": "python",
   "name": "python3"
  },
  "language_info": {
   "codemirror_mode": {
    "name": "ipython",
    "version": 3
   },
   "file_extension": ".py",
   "mimetype": "text/x-python",
   "name": "python",
   "nbconvert_exporter": "python",
   "pygments_lexer": "ipython3",
   "version": "3.8.3"
  }
 },
 "nbformat": 4,
 "nbformat_minor": 4
}
