{
 "cells": [
  {
   "cell_type": "markdown",
   "metadata": {},
   "source": [
    "# PROJECT - 2"
   ]
  },
  {
   "cell_type": "code",
   "execution_count": 1,
   "metadata": {},
   "outputs": [],
   "source": [
    "from bs4 import BeautifulSoup\n",
    "import requests\n",
    "import pandas as pd\n",
    "import re\n",
    "import dateutil.parser"
   ]
  },
  {
   "cell_type": "markdown",
   "metadata": {},
   "source": [
    "### Getting  information from a movie page"
   ]
  },
  {
   "cell_type": "code",
   "execution_count": 2,
   "metadata": {},
   "outputs": [],
   "source": [
    "url = 'https://www.boxofficemojo.com/title/tt2488496/?ref_=bo_cso_table_1'\n",
    "response = requests.get(url)\n",
    "page = response.text\n",
    "soup = BeautifulSoup(page, 'lxml')\n",
    "# soup.prettify()"
   ]
  },
  {
   "cell_type": "markdown",
   "metadata": {},
   "source": [
    "#### Movie Title"
   ]
  },
  {
   "cell_type": "code",
   "execution_count": 3,
   "metadata": {},
   "outputs": [
    {
     "data": {
      "text/plain": [
       "'Star Wars: Episode VII - The Force Awakens - Box Office Mojo'"
      ]
     },
     "execution_count": 3,
     "metadata": {},
     "output_type": "execute_result"
    }
   ],
   "source": [
    "soup.find('title').text\n",
    "title_string = soup.find('title').text\n",
    "title_string"
   ]
  },
  {
   "cell_type": "code",
   "execution_count": 4,
   "metadata": {},
   "outputs": [
    {
     "data": {
      "text/plain": [
       "'Star Wars: Episode VII - The Force Awakens'"
      ]
     },
     "execution_count": 4,
     "metadata": {},
     "output_type": "execute_result"
    }
   ],
   "source": [
    "title = title_string[:-18]\n",
    "title"
   ]
  },
  {
   "cell_type": "markdown",
   "metadata": {},
   "source": [
    "#### Domestic Gross"
   ]
  },
  {
   "cell_type": "code",
   "execution_count": 5,
   "metadata": {},
   "outputs": [
    {
     "data": {
      "text/plain": [
       "[<span class=\"money\">$936,662,225</span>,\n",
       " <span class=\"money\">$1,131,791,908</span>,\n",
       " <span class=\"money\">$2,068,454,133</span>]"
      ]
     },
     "execution_count": 5,
     "metadata": {},
     "output_type": "execute_result"
    }
   ],
   "source": [
    "soup.find(class_='mojo-performance-summary-table').find_all('span',class_='money')"
   ]
  },
  {
   "cell_type": "code",
   "execution_count": 6,
   "metadata": {},
   "outputs": [
    {
     "data": {
      "text/plain": [
       "'$936,662,225'"
      ]
     },
     "execution_count": 6,
     "metadata": {},
     "output_type": "execute_result"
    }
   ],
   "source": [
    "dom_gross = soup.find(class_='mojo-performance-summary-table').find_all('span',class_='money')[0].text\n",
    "dom_gross"
   ]
  },
  {
   "cell_type": "markdown",
   "metadata": {},
   "source": [
    "#### International Gross"
   ]
  },
  {
   "cell_type": "code",
   "execution_count": 7,
   "metadata": {},
   "outputs": [
    {
     "data": {
      "text/plain": [
       "'$1,131,791,908'"
      ]
     },
     "execution_count": 7,
     "metadata": {},
     "output_type": "execute_result"
    }
   ],
   "source": [
    "intl_gross = soup.find(class_='mojo-performance-summary-table').find_all('span',class_='money')[1].text\n",
    "intl_gross"
   ]
  },
  {
   "cell_type": "markdown",
   "metadata": {},
   "source": [
    "#### Worldwide Gross"
   ]
  },
  {
   "cell_type": "code",
   "execution_count": 8,
   "metadata": {},
   "outputs": [
    {
     "data": {
      "text/plain": [
       "'$2,068,454,133'"
      ]
     },
     "execution_count": 8,
     "metadata": {},
     "output_type": "execute_result"
    }
   ],
   "source": [
    "world_gross = soup.find(class_='mojo-performance-summary-table').find_all('span',class_='money')[2].text\n",
    "world_gross"
   ]
  },
  {
   "cell_type": "markdown",
   "metadata": {},
   "source": [
    "#### Domestic Distributor"
   ]
  },
  {
   "cell_type": "code",
   "execution_count": 9,
   "metadata": {},
   "outputs": [
    {
     "data": {
      "text/plain": [
       "[<span class=\"money\">$247,966,675</span>,\n",
       " <span class=\"money\">$245,000,000</span>]"
      ]
     },
     "execution_count": 9,
     "metadata": {},
     "output_type": "execute_result"
    }
   ],
   "source": [
    "soup.find(class_='mojo-summary-values').find_all('span', class_ = 'money')"
   ]
  },
  {
   "cell_type": "code",
   "execution_count": 14,
   "metadata": {},
   "outputs": [
    {
     "data": {
      "text/plain": [
       "'Domestic Distributor'"
      ]
     },
     "execution_count": 14,
     "metadata": {},
     "output_type": "execute_result"
    }
   ],
   "source": [
    "distributor_reggex = re.compile('Distributor')\n",
    "soup.find(text=distributor_reggex)"
   ]
  },
  {
   "cell_type": "code",
   "execution_count": 16,
   "metadata": {},
   "outputs": [
    {
     "ename": "NameError",
     "evalue": "name 'find' is not defined",
     "output_type": "error",
     "traceback": [
      "\u001b[0;31m---------------------------------------------------------------------------\u001b[0m",
      "\u001b[0;31mNameError\u001b[0m                                 Traceback (most recent call last)",
      "\u001b[0;32m<ipython-input-16-6c59da8698ec>\u001b[0m in \u001b[0;36m<module>\u001b[0;34m\u001b[0m\n\u001b[0;32m----> 1\u001b[0;31m \u001b[0mdistr_string\u001b[0m \u001b[0;34m=\u001b[0m \u001b[0mfind\u001b[0m\u001b[0;34m(\u001b[0m\u001b[0mtext\u001b[0m\u001b[0;34m=\u001b[0m\u001b[0mdistributor_reggex\u001b[0m\u001b[0;34m)\u001b[0m\u001b[0;34m.\u001b[0m\u001b[0mfindNext\u001b[0m\u001b[0;34m(\u001b[0m\u001b[0;34m'span'\u001b[0m\u001b[0;34m)\u001b[0m\u001b[0;34m.\u001b[0m\u001b[0mtext\u001b[0m\u001b[0;34m\u001b[0m\u001b[0;34m\u001b[0m\u001b[0m\n\u001b[0m",
      "\u001b[0;31mNameError\u001b[0m: name 'find' is not defined"
     ]
    }
   ],
   "source": [
    "distr_string = find(text=distributor_reggex).findNext('span').text"
   ]
  },
  {
   "cell_type": "code",
   "execution_count": 23,
   "metadata": {},
   "outputs": [
    {
     "data": {
      "text/plain": [
       "'Walt Disney Studio'"
      ]
     },
     "execution_count": 23,
     "metadata": {},
     "output_type": "execute_result"
    }
   ],
   "source": [
    "dist_string = soup.find(text=distributor_reggex).findNext('span').text[:18]\n",
    "dom_dist = dist_string\n",
    "dom_dist"
   ]
  },
  {
   "cell_type": "markdown",
   "metadata": {},
   "source": [
    "#### Domestic Opening Gross"
   ]
  },
  {
   "cell_type": "code",
   "execution_count": 24,
   "metadata": {},
   "outputs": [
    {
     "data": {
      "text/plain": [
       "'Domestic Opening'"
      ]
     },
     "execution_count": 24,
     "metadata": {},
     "output_type": "execute_result"
    }
   ],
   "source": [
    "dom_open_gross = soup.find(class_='mojo-summary-values').find_all('span', class_ = 'money')\n",
    "domopening_reggex = re.compile('Domestic Open')\n",
    "soup.find(text=domopening_reggex)"
   ]
  },
  {
   "cell_type": "code",
   "execution_count": 25,
   "metadata": {},
   "outputs": [
    {
     "data": {
      "text/plain": [
       "'$247,966,675'"
      ]
     },
     "execution_count": 25,
     "metadata": {},
     "output_type": "execute_result"
    }
   ],
   "source": [
    "dom_opening_gross = soup.find(text=domopening_reggex).findNext(class_='money').text\n",
    "dom_opening_gross"
   ]
  },
  {
   "cell_type": "markdown",
   "metadata": {},
   "source": [
    "#### Budget"
   ]
  },
  {
   "cell_type": "code",
   "execution_count": null,
   "metadata": {},
   "outputs": [],
   "source": []
  },
  {
   "cell_type": "markdown",
   "metadata": {},
   "source": [
    "#### Running Time - change func"
   ]
  },
  {
   "cell_type": "code",
   "execution_count": 26,
   "metadata": {},
   "outputs": [],
   "source": [
    "#runtime_reggex = re.compile('Run')\n",
    "#rt = soup.find(text=runtime_reggex).findNext('span').text.split()\n",
    "#runtime_minutes = int(rt[0])*60 + int(rt[2])\n",
    "#runtime_minutes"
   ]
  },
  {
   "cell_type": "code",
   "execution_count": 27,
   "metadata": {},
   "outputs": [],
   "source": [
    "#rating_reggex = re.compile('MPAA')\n",
    "#rating = soup.find(text=rating_reggex).findNext('span').text\n",
    "#rating"
   ]
  },
  {
   "cell_type": "markdown",
   "metadata": {},
   "source": [
    "####  Release Month"
   ]
  },
  {
   "cell_type": "code",
   "execution_count": 28,
   "metadata": {},
   "outputs": [
    {
     "data": {
      "text/plain": [
       "'December'"
      ]
     },
     "execution_count": 28,
     "metadata": {},
     "output_type": "execute_result"
    }
   ],
   "source": [
    "release_reggex = re.compile('Release Date')\n",
    "soup.find(text=release_reggex).findNext().text.split()[0]\n",
    "release_month = soup.find(text=release_reggex).findNext().text.split()[0]\n",
    "release_month"
   ]
  },
  {
   "cell_type": "markdown",
   "metadata": {},
   "source": [
    "#### Get Movie Values"
   ]
  },
  {
   "cell_type": "markdown",
   "metadata": {},
   "source": [
    "#### Getting findNext object value "
   ]
  },
  {
   "cell_type": "code",
   "execution_count": 29,
   "metadata": {},
   "outputs": [],
   "source": [
    "def get_movie_value(soup, field_name):\n",
    "    \n",
    "    \"\"\"\n",
    "    Get a value fro the movie page and take the string attribute of a movie on the page and return\n",
    "    the value of the next sibling object or None if nothing is found.\n",
    "    \n",
    "    \"\"\"\n",
    "    obj = soup.find(text=re.compile(field_name))\n",
    "    if not obj:\n",
    "        return None\n",
    "    next_element = obj.findNext()\n",
    "    \n",
    "    if next_element:\n",
    "        return next_element.text\n",
    "    else:\n",
    "        return None\n",
    "    "
   ]
  },
  {
   "cell_type": "code",
   "execution_count": 30,
   "metadata": {},
   "outputs": [
    {
     "name": "stdout",
     "output_type": "stream",
     "text": [
      "$247,966,675\n"
     ]
    }
   ],
   "source": [
    "dom_open_gross = get_movie_value(soup,'Domestic Open')\n",
    "print(dom_open_gross)"
   ]
  },
  {
   "cell_type": "code",
   "execution_count": 31,
   "metadata": {},
   "outputs": [
    {
     "name": "stdout",
     "output_type": "stream",
     "text": [
      "2 hr 18 min\n"
     ]
    }
   ],
   "source": [
    "runtime = get_movie_value(soup, 'Running')\n",
    "print(runtime)"
   ]
  },
  {
   "cell_type": "code",
   "execution_count": 32,
   "metadata": {},
   "outputs": [
    {
     "name": "stdout",
     "output_type": "stream",
     "text": [
      "PG-13\n"
     ]
    }
   ],
   "source": [
    "rating = get_movie_value(soup, 'MPAA')\n",
    "print(rating)"
   ]
  },
  {
   "cell_type": "code",
   "execution_count": 33,
   "metadata": {},
   "outputs": [
    {
     "name": "stdout",
     "output_type": "stream",
     "text": [
      "December 16, 2015\n",
      "            (EMEA, APAC)\n"
     ]
    }
   ],
   "source": [
    "rel_date = get_movie_value(soup, 'Release Date')\n",
    "print(rel_date)"
   ]
  },
  {
   "cell_type": "code",
   "execution_count": 34,
   "metadata": {},
   "outputs": [
    {
     "data": {
      "text/plain": [
       "['Action', 'Adventure', 'Sci-Fi']"
      ]
     },
     "execution_count": 34,
     "metadata": {},
     "output_type": "execute_result"
    }
   ],
   "source": [
    "genres = get_movie_value(soup, 'Genres').split()\n",
    "genres"
   ]
  },
  {
   "cell_type": "code",
   "execution_count": 35,
   "metadata": {},
   "outputs": [
    {
     "data": {
      "text/plain": [
       "'Walt Disney Studios Motion Pictures'"
      ]
     },
     "execution_count": 35,
     "metadata": {},
     "output_type": "execute_result"
    }
   ],
   "source": [
    "distributor = get_movie_value(soup, 'Distributor')[:35]\n",
    "distributor"
   ]
  },
  {
   "cell_type": "code",
   "execution_count": 36,
   "metadata": {},
   "outputs": [],
   "source": [
    "def money_to_int(moneystring):\n",
    "    \n",
    "    \"\"\"\n",
    "    replaces the $ sign and removing the comma separator from the money string\n",
    "    returns the integer value\n",
    "    \"\"\"\n",
    "    \n",
    "    moneystring = moneystring.replace('$', '').replace(',', '')\n",
    "    return int(moneystring)\n",
    "\n",
    "def runtime_to_minutes(runtimestring):\n",
    "    \n",
    "    \"\"\"\n",
    "    takes runtimestring in _hr_min format and returns it's value in number of minutes\n",
    "    \"\"\"\n",
    "    \n",
    "    runtime = runtimestring.split()\n",
    "    try:\n",
    "        minutes = int(runtime[0]) * 60 + int(runtime[2])\n",
    "        return minutes\n",
    "    except:\n",
    "        return None\n",
    "\n",
    "def to_date(datestring):\n",
    "    \n",
    "    \"\"\"\n",
    "    \"\"\"\n",
    "    \n",
    "    date = dateutil.parser.parse(datestring)\n",
    "    return date"
   ]
  },
  {
   "cell_type": "code",
   "execution_count": 38,
   "metadata": {},
   "outputs": [],
   "source": [
    "raw_dom_gross = dom_gross\n",
    "domestic_gross = money_to_int(raw_dom_gross)\n",
    "\n",
    "raw_intl_gross = intl_gross\n",
    "international_gross = money_to_int(raw_intl_gross)\n",
    "\n",
    "raw_world_gross = world_gross\n",
    "worldwide_gross = money_to_int(raw_world_gross)\n",
    "\n",
    "raw_opening_gross = dom_opening_gross\n",
    "domestic_opening_gross = money_to_int(raw_opening_gross)\n"
   ]
  },
  {
   "cell_type": "code",
   "execution_count": 39,
   "metadata": {},
   "outputs": [
    {
     "data": {
      "text/plain": [
       "138"
      ]
     },
     "execution_count": 39,
     "metadata": {},
     "output_type": "execute_result"
    }
   ],
   "source": [
    "raw_runtime = get_movie_value(soup, 'Running')\n",
    "runtime_minutes = runtime_to_minutes(raw_runtime)\n",
    "runtime_minutes"
   ]
  },
  {
   "cell_type": "code",
   "execution_count": 40,
   "metadata": {},
   "outputs": [
    {
     "data": {
      "text/plain": [
       "'December'"
      ]
     },
     "execution_count": 40,
     "metadata": {},
     "output_type": "execute_result"
    }
   ],
   "source": [
    "release_month = rel_date.split()[0]\n",
    "release_month"
   ]
  },
  {
   "cell_type": "markdown",
   "metadata": {},
   "source": [
    "#### Genres"
   ]
  },
  {
   "cell_type": "code",
   "execution_count": 41,
   "metadata": {},
   "outputs": [],
   "source": [
    "#genres_reggex = re.compile('Genres')\n",
    "#genres = soup.find(text=genres_reggex).findNext('span').text.split()\n",
    "#genres"
   ]
  },
  {
   "cell_type": "code",
   "execution_count": 42,
   "metadata": {},
   "outputs": [
    {
     "data": {
      "text/plain": [
       "[{'movie title': 'Star Wars: Episode VII - The Force Awakens',\n",
       "  'domestic total gross': 936662225,\n",
       "  'international total gross': 1131791908,\n",
       "  'domestic opening gross': 247966675,\n",
       "  'runtime (mins)': 138,\n",
       "  'rating': 'PG-13',\n",
       "  'release month': 'December',\n",
       "  'genre': ['Action', 'Adventure', 'Sci-Fi']}]"
      ]
     },
     "execution_count": 42,
     "metadata": {},
     "output_type": "execute_result"
    }
   ],
   "source": [
    "headers = ['movie title', 'domestic total gross', 'international total gross','domestic opening gross','runtime (mins)',\n",
    "           'rating', 'release month', 'genre']\n",
    "\n",
    "movie_data = []\n",
    "movie_dict = dict(zip(headers,[title,\n",
    "                               domestic_gross,\n",
    "                               international_gross,\n",
    "                               domestic_opening_gross,\n",
    "                               runtime_minutes,\n",
    "                               rating,\n",
    "                               release_month,\n",
    "                               genres]))\n",
    "movie_data.append(movie_dict)\n",
    "movie_data"
   ]
  },
  {
   "cell_type": "markdown",
   "metadata": {},
   "source": [
    "### Getting the lifetime ranking table"
   ]
  },
  {
   "cell_type": "code",
   "execution_count": 43,
   "metadata": {},
   "outputs": [],
   "source": [
    "url = 'https://www.boxofficemojo.com/chart/top_lifetime_gross/'\n",
    "response = requests.get(url)\n",
    "page = response.text\n",
    "soup = BeautifulSoup(page, 'lxml')\n",
    "# print(soup.prettify())"
   ]
  },
  {
   "cell_type": "code",
   "execution_count": 44,
   "metadata": {},
   "outputs": [],
   "source": [
    "# finding the table\n",
    "table = soup.find('table')\n",
    "# table"
   ]
  },
  {
   "cell_type": "code",
   "execution_count": 45,
   "metadata": {},
   "outputs": [
    {
     "data": {
      "text/plain": [
       "[<td class=\"a-text-right mojo-header-column mojo-truncate mojo-field-type-rank\">1</td>,\n",
       " <td class=\"a-text-left mojo-field-type-title\"><a class=\"a-link-normal\" href=\"/title/tt2488496/?ref_=bo_cso_table_1\">Star Wars: Episode VII - The Force Awakens</a></td>,\n",
       " <td class=\"a-text-right mojo-field-type-money\">$936,662,225</td>,\n",
       " <td class=\"a-text-left mojo-field-type-year\"><a class=\"a-link-normal\" href=\"/year/2015/?ref_=bo_cso_table_1\">2015</a></td>]"
      ]
     },
     "execution_count": 45,
     "metadata": {},
     "output_type": "execute_result"
    }
   ],
   "source": [
    "rows = [row for row in table.find_all('tr')]\n",
    "rows[1].find_all('td')"
   ]
  },
  {
   "cell_type": "code",
   "execution_count": 46,
   "metadata": {},
   "outputs": [
    {
     "data": {
      "text/plain": [
       "'/title/tt2488496/?ref_=bo_cso_table_1'"
      ]
     },
     "execution_count": 46,
     "metadata": {},
     "output_type": "execute_result"
    }
   ],
   "source": [
    "rows[1].find_all('td')[1].find('a')['href']"
   ]
  },
  {
   "cell_type": "code",
   "execution_count": 55,
   "metadata": {},
   "outputs": [
    {
     "data": {
      "text/plain": [
       "{'Star Wars: Episode VII - The Force Awakens': ['/title/tt2488496/?ref_=bo_cso_table_1',\n",
       "  '1',\n",
       "  'Star Wars: Episode VII - The Force Awakens',\n",
       "  '$936,662,225',\n",
       "  '2015'],\n",
       " 'Avengers: Endgame': ['/title/tt4154796/?ref_=bo_cso_table_2',\n",
       "  '2',\n",
       "  'Avengers: Endgame',\n",
       "  '$858,373,000',\n",
       "  '2019'],\n",
       " 'Avatar': ['/title/tt0499549/?ref_=bo_cso_table_3',\n",
       "  '3',\n",
       "  'Avatar',\n",
       "  '$760,507,625',\n",
       "  '2009'],\n",
       " 'Black Panther': ['/title/tt1825683/?ref_=bo_cso_table_4',\n",
       "  '4',\n",
       "  'Black Panther',\n",
       "  '$700,426,566',\n",
       "  '2018']}"
      ]
     },
     "execution_count": 55,
     "metadata": {},
     "output_type": "execute_result"
    }
   ],
   "source": [
    "movies = {}\n",
    "\n",
    "for row in rows[1:5]:\n",
    "    items = row.find_all('td')\n",
    "    link = items[1].find('a')\n",
    "    title = link.text\n",
    "    url = link['href']\n",
    "    movies[title] = [url]+ [i.text for i in items]\n",
    "\n",
    "movies"
   ]
  },
  {
   "cell_type": "code",
   "execution_count": 56,
   "metadata": {},
   "outputs": [
    {
     "data": {
      "text/html": [
       "<div>\n",
       "<style scoped>\n",
       "    .dataframe tbody tr th:only-of-type {\n",
       "        vertical-align: middle;\n",
       "    }\n",
       "\n",
       "    .dataframe tbody tr th {\n",
       "        vertical-align: top;\n",
       "    }\n",
       "\n",
       "    .dataframe thead th {\n",
       "        text-align: right;\n",
       "    }\n",
       "</style>\n",
       "<table border=\"1\" class=\"dataframe\">\n",
       "  <thead>\n",
       "    <tr style=\"text-align: right;\">\n",
       "      <th></th>\n",
       "      <th>link_stub</th>\n",
       "      <th>rank</th>\n",
       "      <th>title</th>\n",
       "      <th>lifetime_gross</th>\n",
       "      <th>release_year</th>\n",
       "    </tr>\n",
       "  </thead>\n",
       "  <tbody>\n",
       "    <tr>\n",
       "      <th>Star Wars: Episode VII - The Force Awakens</th>\n",
       "      <td>/title/tt2488496/?ref_=bo_cso_table_1</td>\n",
       "      <td>1</td>\n",
       "      <td>Star Wars: Episode VII - The Force Awakens</td>\n",
       "      <td>$936,662,225</td>\n",
       "      <td>2015</td>\n",
       "    </tr>\n",
       "    <tr>\n",
       "      <th>Avengers: Endgame</th>\n",
       "      <td>/title/tt4154796/?ref_=bo_cso_table_2</td>\n",
       "      <td>2</td>\n",
       "      <td>Avengers: Endgame</td>\n",
       "      <td>$858,373,000</td>\n",
       "      <td>2019</td>\n",
       "    </tr>\n",
       "    <tr>\n",
       "      <th>Avatar</th>\n",
       "      <td>/title/tt0499549/?ref_=bo_cso_table_3</td>\n",
       "      <td>3</td>\n",
       "      <td>Avatar</td>\n",
       "      <td>$760,507,625</td>\n",
       "      <td>2009</td>\n",
       "    </tr>\n",
       "    <tr>\n",
       "      <th>Black Panther</th>\n",
       "      <td>/title/tt1825683/?ref_=bo_cso_table_4</td>\n",
       "      <td>4</td>\n",
       "      <td>Black Panther</td>\n",
       "      <td>$700,426,566</td>\n",
       "      <td>2018</td>\n",
       "    </tr>\n",
       "  </tbody>\n",
       "</table>\n",
       "</div>"
      ],
      "text/plain": [
       "                                                                        link_stub  \\\n",
       "Star Wars: Episode VII - The Force Awakens  /title/tt2488496/?ref_=bo_cso_table_1   \n",
       "Avengers: Endgame                           /title/tt4154796/?ref_=bo_cso_table_2   \n",
       "Avatar                                      /title/tt0499549/?ref_=bo_cso_table_3   \n",
       "Black Panther                               /title/tt1825683/?ref_=bo_cso_table_4   \n",
       "\n",
       "                                           rank  \\\n",
       "Star Wars: Episode VII - The Force Awakens    1   \n",
       "Avengers: Endgame                             2   \n",
       "Avatar                                        3   \n",
       "Black Panther                                 4   \n",
       "\n",
       "                                                                                 title  \\\n",
       "Star Wars: Episode VII - The Force Awakens  Star Wars: Episode VII - The Force Awakens   \n",
       "Avengers: Endgame                                                    Avengers: Endgame   \n",
       "Avatar                                                                          Avatar   \n",
       "Black Panther                                                            Black Panther   \n",
       "\n",
       "                                           lifetime_gross release_year  \n",
       "Star Wars: Episode VII - The Force Awakens   $936,662,225         2015  \n",
       "Avengers: Endgame                            $858,373,000         2019  \n",
       "Avatar                                       $760,507,625         2009  \n",
       "Black Panther                                $700,426,566         2018  "
      ]
     },
     "execution_count": 56,
     "metadata": {},
     "output_type": "execute_result"
    }
   ],
   "source": [
    "lifetime_movies = pd.DataFrame(movies).T\n",
    "lifetime_movies.columns = ['link_stub', 'rank', 'title', 'lifetime_gross', 'release_year']\n",
    "lifetime_movies.head()"
   ]
  },
  {
   "cell_type": "markdown",
   "metadata": {},
   "source": [
    "#### Director & Actors"
   ]
  },
  {
   "cell_type": "code",
   "execution_count": 57,
   "metadata": {},
   "outputs": [],
   "source": [
    "url = 'https://www.boxofficemojo.com/title/tt2488496/credits/?ref_=bo_tt_tab'\n",
    "response = requests.get(url)\n",
    "actor_page = response.text\n",
    "actor_soup = BeautifulSoup(actor_page, 'lxml')"
   ]
  },
  {
   "cell_type": "code",
   "execution_count": 58,
   "metadata": {},
   "outputs": [
    {
     "data": {
      "text/plain": [
       "['Daisy Ridley', 'John Boyega', 'Oscar Isaac', 'Domhnall Gleeson']"
      ]
     },
     "execution_count": 58,
     "metadata": {},
     "output_type": "execute_result"
    }
   ],
   "source": [
    "casts = actor_soup.find('table', id = 'principalCast').find_all('a', attrs={'class':'a-link-normal'})\n",
    "actors = []\n",
    "for cast in casts:\n",
    "    cast = cast.text.split('\\n')[0]\n",
    "    actors += [cast]\n",
    "actors"
   ]
  },
  {
   "cell_type": "code",
   "execution_count": 60,
   "metadata": {},
   "outputs": [],
   "source": [
    "def get_movie_dict(link):\n",
    "    \"\"\"\n",
    "    From BoxOfficeMojo link stub, request movie html, parse with BeautifulSoup, and\n",
    "    collect \n",
    "        - title \n",
    "        - domestic gross\n",
    "        - runtime \n",
    "        - MPAA rating\n",
    "        - full release date\n",
    "    Return information as a dictionary\n",
    "    \n",
    "    \"\"\"\n",
    "    \n",
    "    base_url = 'https://www.boxofficemojo.com'\n",
    "    \n",
    "    #Create full url to scrape\n",
    "    url = base_url + link\n",
    "    \n",
    "    #Request HTML and parse\n",
    "    response = requests.get(url)\n",
    "    page = response.text\n",
    "    soup = BeautifulSoup(page,\"lxml\")\n",
    "    \n",
    "    headers = ['title', 'domestic_gross', 'international_gross', 'domestic_opening_gross',\n",
    "               'runtime_minutes', 'rating', 'release_month', 'genres', 'actors']\n",
    "    \n",
    "    #Get title\n",
    "    title_string = soup.find('title').text\n",
    "    title = title_string[:-18]\n",
    "\n",
    "    #Get domestic gross\n",
    "    raw_dom_gross = soup.find(class_='mojo-performance-summary-table').find_all('span',class_='money')[0].text\n",
    "    domestic_gross = money_to_int(raw_dom_gross)\n",
    "    \n",
    "    #dom_gross = money_to_int(dom_gross)\n",
    "    \n",
    "    #Get international_gross\n",
    "    raw_intl_gross = soup.find(class_='mojo-performance-summary-table').find_all('span',class_='money')[1].text\n",
    "    international_gross = money_to_int(raw_intl_gross)\n",
    "    \n",
    "    #Get worldwide gross\n",
    "    raw_world_gross = soup.find(class_='mojo-performance-summary-table').find_all('span',class_='money')[2].text\n",
    "    worldwide_gross = money_to_int(raw_world_gross)\n",
    "    \n",
    "    #Get domestic opening gross\n",
    "    raw_opening_gross = dom_opening_gross\n",
    "    domestic_opening_gross = money_to_int(raw_opening_gross)\n",
    "    \n",
    "    #Get distributor\n",
    "    distributor = get_movie_value(soup, 'Distributor')[:18]\n",
    "    \n",
    "    #Get runtime\n",
    "    raw_runtime = get_movie_value(soup, 'Running')\n",
    "    runtime_minutes = runtime_to_minutes(raw_runtime)\n",
    "    \n",
    "    #Get rating\n",
    "    rating = get_movie_value(soup, 'MPAA')\n",
    "    \n",
    "    #Get genres\n",
    "    genres = get_movie_value(soup, 'Genres').split()\n",
    "    \n",
    "    #Get release month\n",
    "    rel_date = get_movie_value(soup, 'Release Date')\n",
    "    release_month = rel_date.split()[0]\n",
    "    \n",
    "    #Get actors\n",
    "    casts = actor_soup.find('table', id = 'principalCast').find_all('a', attrs={'class':'a-link-normal'})\n",
    "    actors = []\n",
    "    for cast in casts:\n",
    "        cast = cast.text.split('\\n')[0]\n",
    "        actors += [cast]\n",
    "    \n",
    "    #Create movie dictionary and return\n",
    "    movie_dict = dict(zip(headers, [title,\n",
    "                                    domestic_gross,\n",
    "                                    international_gross,\n",
    "                                    domestic_opening_gross,\n",
    "                                    runtime_minutes,\n",
    "                                    rating,\n",
    "                                    release_month,\n",
    "                                    genres,\n",
    "                                    actors]))\n",
    "\n",
    "    return movie_dict"
   ]
  },
  {
   "cell_type": "code",
   "execution_count": 61,
   "metadata": {},
   "outputs": [],
   "source": [
    "lifetime_movie_data = []\n",
    "for link in lifetime_movies.link_stub:\n",
    "    lifetime_movie_data.append(get_movie_dict(link))"
   ]
  },
  {
   "cell_type": "code",
   "execution_count": 62,
   "metadata": {},
   "outputs": [
    {
     "data": {
      "text/plain": [
       "[{'title': 'Star Wars: Episode VII - The Force Awakens',\n",
       "  'domestic_gross': 936662225,\n",
       "  'international_gross': 1131791908,\n",
       "  'domestic_opening_gross': 247966675,\n",
       "  'runtime_minutes': 138,\n",
       "  'rating': 'PG-13',\n",
       "  'release_month': 'December',\n",
       "  'genres': ['Action', 'Adventure', 'Sci-Fi'],\n",
       "  'actors': ['Daisy Ridley',\n",
       "   'John Boyega',\n",
       "   'Oscar Isaac',\n",
       "   'Domhnall Gleeson']},\n",
       " {'title': 'Avengers: Endgame',\n",
       "  'domestic_gross': 858373000,\n",
       "  'international_gross': 1939427564,\n",
       "  'domestic_opening_gross': 247966675,\n",
       "  'runtime_minutes': 181,\n",
       "  'rating': 'PG-13',\n",
       "  'release_month': 'April',\n",
       "  'genres': ['Action', 'Adventure', 'Drama', 'Sci-Fi'],\n",
       "  'actors': ['Daisy Ridley',\n",
       "   'John Boyega',\n",
       "   'Oscar Isaac',\n",
       "   'Domhnall Gleeson']},\n",
       " {'title': 'Avatar',\n",
       "  'domestic_gross': 760507625,\n",
       "  'international_gross': 2029931467,\n",
       "  'domestic_opening_gross': 247966675,\n",
       "  'runtime_minutes': 162,\n",
       "  'rating': 'PG-13',\n",
       "  'release_month': 'December',\n",
       "  'genres': ['Action', 'Adventure', 'Fantasy', 'Sci-Fi'],\n",
       "  'actors': ['Daisy Ridley',\n",
       "   'John Boyega',\n",
       "   'Oscar Isaac',\n",
       "   'Domhnall Gleeson']},\n",
       " {'title': 'Black Panther',\n",
       "  'domestic_gross': 700426566,\n",
       "  'international_gross': 647171407,\n",
       "  'domestic_opening_gross': 247966675,\n",
       "  'runtime_minutes': 134,\n",
       "  'rating': 'PG-13',\n",
       "  'release_month': 'February',\n",
       "  'genres': ['Action', 'Adventure', 'Sci-Fi'],\n",
       "  'actors': ['Daisy Ridley',\n",
       "   'John Boyega',\n",
       "   'Oscar Isaac',\n",
       "   'Domhnall Gleeson']}]"
      ]
     },
     "execution_count": 62,
     "metadata": {},
     "output_type": "execute_result"
    }
   ],
   "source": [
    "lifetime_movie_data"
   ]
  },
  {
   "cell_type": "code",
   "execution_count": 63,
   "metadata": {},
   "outputs": [],
   "source": [
    "lifetime_movies_info = pd.DataFrame(lifetime_movie_data)\n",
    "lifetime_movies_info.set_index('title', inplace = True)"
   ]
  },
  {
   "cell_type": "code",
   "execution_count": 65,
   "metadata": {},
   "outputs": [
    {
     "data": {
      "text/html": [
       "<div>\n",
       "<style scoped>\n",
       "    .dataframe tbody tr th:only-of-type {\n",
       "        vertical-align: middle;\n",
       "    }\n",
       "\n",
       "    .dataframe tbody tr th {\n",
       "        vertical-align: top;\n",
       "    }\n",
       "\n",
       "    .dataframe thead th {\n",
       "        text-align: right;\n",
       "    }\n",
       "</style>\n",
       "<table border=\"1\" class=\"dataframe\">\n",
       "  <thead>\n",
       "    <tr style=\"text-align: right;\">\n",
       "      <th></th>\n",
       "      <th>domestic_gross</th>\n",
       "      <th>international_gross</th>\n",
       "      <th>domestic_opening_gross</th>\n",
       "      <th>runtime_minutes</th>\n",
       "      <th>rating</th>\n",
       "      <th>release_month</th>\n",
       "      <th>genres</th>\n",
       "      <th>actors</th>\n",
       "    </tr>\n",
       "    <tr>\n",
       "      <th>title</th>\n",
       "      <th></th>\n",
       "      <th></th>\n",
       "      <th></th>\n",
       "      <th></th>\n",
       "      <th></th>\n",
       "      <th></th>\n",
       "      <th></th>\n",
       "      <th></th>\n",
       "    </tr>\n",
       "  </thead>\n",
       "  <tbody>\n",
       "    <tr>\n",
       "      <th>Star Wars: Episode VII - The Force Awakens</th>\n",
       "      <td>936662225</td>\n",
       "      <td>1131791908</td>\n",
       "      <td>247966675</td>\n",
       "      <td>138</td>\n",
       "      <td>PG-13</td>\n",
       "      <td>December</td>\n",
       "      <td>[Action, Adventure, Sci-Fi]</td>\n",
       "      <td>[Daisy Ridley, John Boyega, Oscar Isaac, Domhn...</td>\n",
       "    </tr>\n",
       "    <tr>\n",
       "      <th>Avengers: Endgame</th>\n",
       "      <td>858373000</td>\n",
       "      <td>1939427564</td>\n",
       "      <td>247966675</td>\n",
       "      <td>181</td>\n",
       "      <td>PG-13</td>\n",
       "      <td>April</td>\n",
       "      <td>[Action, Adventure, Drama, Sci-Fi]</td>\n",
       "      <td>[Daisy Ridley, John Boyega, Oscar Isaac, Domhn...</td>\n",
       "    </tr>\n",
       "    <tr>\n",
       "      <th>Avatar</th>\n",
       "      <td>760507625</td>\n",
       "      <td>2029931467</td>\n",
       "      <td>247966675</td>\n",
       "      <td>162</td>\n",
       "      <td>PG-13</td>\n",
       "      <td>December</td>\n",
       "      <td>[Action, Adventure, Fantasy, Sci-Fi]</td>\n",
       "      <td>[Daisy Ridley, John Boyega, Oscar Isaac, Domhn...</td>\n",
       "    </tr>\n",
       "    <tr>\n",
       "      <th>Black Panther</th>\n",
       "      <td>700426566</td>\n",
       "      <td>647171407</td>\n",
       "      <td>247966675</td>\n",
       "      <td>134</td>\n",
       "      <td>PG-13</td>\n",
       "      <td>February</td>\n",
       "      <td>[Action, Adventure, Sci-Fi]</td>\n",
       "      <td>[Daisy Ridley, John Boyega, Oscar Isaac, Domhn...</td>\n",
       "    </tr>\n",
       "  </tbody>\n",
       "</table>\n",
       "</div>"
      ],
      "text/plain": [
       "                                            domestic_gross  \\\n",
       "title                                                        \n",
       "Star Wars: Episode VII - The Force Awakens       936662225   \n",
       "Avengers: Endgame                                858373000   \n",
       "Avatar                                           760507625   \n",
       "Black Panther                                    700426566   \n",
       "\n",
       "                                            international_gross  \\\n",
       "title                                                             \n",
       "Star Wars: Episode VII - The Force Awakens           1131791908   \n",
       "Avengers: Endgame                                    1939427564   \n",
       "Avatar                                               2029931467   \n",
       "Black Panther                                         647171407   \n",
       "\n",
       "                                            domestic_opening_gross  \\\n",
       "title                                                                \n",
       "Star Wars: Episode VII - The Force Awakens               247966675   \n",
       "Avengers: Endgame                                        247966675   \n",
       "Avatar                                                   247966675   \n",
       "Black Panther                                            247966675   \n",
       "\n",
       "                                            runtime_minutes rating  \\\n",
       "title                                                                \n",
       "Star Wars: Episode VII - The Force Awakens              138  PG-13   \n",
       "Avengers: Endgame                                       181  PG-13   \n",
       "Avatar                                                  162  PG-13   \n",
       "Black Panther                                           134  PG-13   \n",
       "\n",
       "                                           release_month  \\\n",
       "title                                                      \n",
       "Star Wars: Episode VII - The Force Awakens      December   \n",
       "Avengers: Endgame                                  April   \n",
       "Avatar                                          December   \n",
       "Black Panther                                   February   \n",
       "\n",
       "                                                                          genres  \\\n",
       "title                                                                              \n",
       "Star Wars: Episode VII - The Force Awakens           [Action, Adventure, Sci-Fi]   \n",
       "Avengers: Endgame                             [Action, Adventure, Drama, Sci-Fi]   \n",
       "Avatar                                      [Action, Adventure, Fantasy, Sci-Fi]   \n",
       "Black Panther                                        [Action, Adventure, Sci-Fi]   \n",
       "\n",
       "                                                                                       actors  \n",
       "title                                                                                          \n",
       "Star Wars: Episode VII - The Force Awakens  [Daisy Ridley, John Boyega, Oscar Isaac, Domhn...  \n",
       "Avengers: Endgame                           [Daisy Ridley, John Boyega, Oscar Isaac, Domhn...  \n",
       "Avatar                                      [Daisy Ridley, John Boyega, Oscar Isaac, Domhn...  \n",
       "Black Panther                               [Daisy Ridley, John Boyega, Oscar Isaac, Domhn...  "
      ]
     },
     "execution_count": 65,
     "metadata": {},
     "output_type": "execute_result"
    }
   ],
   "source": [
    "lifetime_movies_info"
   ]
  },
  {
   "cell_type": "code",
   "execution_count": 66,
   "metadata": {},
   "outputs": [
    {
     "data": {
      "text/html": [
       "<div>\n",
       "<style scoped>\n",
       "    .dataframe tbody tr th:only-of-type {\n",
       "        vertical-align: middle;\n",
       "    }\n",
       "\n",
       "    .dataframe tbody tr th {\n",
       "        vertical-align: top;\n",
       "    }\n",
       "\n",
       "    .dataframe thead th {\n",
       "        text-align: right;\n",
       "    }\n",
       "</style>\n",
       "<table border=\"1\" class=\"dataframe\">\n",
       "  <thead>\n",
       "    <tr style=\"text-align: right;\">\n",
       "      <th></th>\n",
       "      <th>link_stub</th>\n",
       "      <th>rank</th>\n",
       "      <th>title</th>\n",
       "      <th>lifetime_gross</th>\n",
       "      <th>release_year</th>\n",
       "      <th>domestic_gross</th>\n",
       "      <th>international_gross</th>\n",
       "      <th>domestic_opening_gross</th>\n",
       "      <th>runtime_minutes</th>\n",
       "      <th>rating</th>\n",
       "      <th>release_month</th>\n",
       "      <th>genres</th>\n",
       "      <th>actors</th>\n",
       "    </tr>\n",
       "  </thead>\n",
       "  <tbody>\n",
       "    <tr>\n",
       "      <th>Star Wars: Episode VII - The Force Awakens</th>\n",
       "      <td>/title/tt2488496/?ref_=bo_cso_table_1</td>\n",
       "      <td>1</td>\n",
       "      <td>Star Wars: Episode VII - The Force Awakens</td>\n",
       "      <td>$936,662,225</td>\n",
       "      <td>2015</td>\n",
       "      <td>936662225</td>\n",
       "      <td>1131791908</td>\n",
       "      <td>247966675</td>\n",
       "      <td>138</td>\n",
       "      <td>PG-13</td>\n",
       "      <td>December</td>\n",
       "      <td>[Action, Adventure, Sci-Fi]</td>\n",
       "      <td>[Daisy Ridley, John Boyega, Oscar Isaac, Domhn...</td>\n",
       "    </tr>\n",
       "    <tr>\n",
       "      <th>Avengers: Endgame</th>\n",
       "      <td>/title/tt4154796/?ref_=bo_cso_table_2</td>\n",
       "      <td>2</td>\n",
       "      <td>Avengers: Endgame</td>\n",
       "      <td>$858,373,000</td>\n",
       "      <td>2019</td>\n",
       "      <td>858373000</td>\n",
       "      <td>1939427564</td>\n",
       "      <td>247966675</td>\n",
       "      <td>181</td>\n",
       "      <td>PG-13</td>\n",
       "      <td>April</td>\n",
       "      <td>[Action, Adventure, Drama, Sci-Fi]</td>\n",
       "      <td>[Daisy Ridley, John Boyega, Oscar Isaac, Domhn...</td>\n",
       "    </tr>\n",
       "    <tr>\n",
       "      <th>Avatar</th>\n",
       "      <td>/title/tt0499549/?ref_=bo_cso_table_3</td>\n",
       "      <td>3</td>\n",
       "      <td>Avatar</td>\n",
       "      <td>$760,507,625</td>\n",
       "      <td>2009</td>\n",
       "      <td>760507625</td>\n",
       "      <td>2029931467</td>\n",
       "      <td>247966675</td>\n",
       "      <td>162</td>\n",
       "      <td>PG-13</td>\n",
       "      <td>December</td>\n",
       "      <td>[Action, Adventure, Fantasy, Sci-Fi]</td>\n",
       "      <td>[Daisy Ridley, John Boyega, Oscar Isaac, Domhn...</td>\n",
       "    </tr>\n",
       "    <tr>\n",
       "      <th>Black Panther</th>\n",
       "      <td>/title/tt1825683/?ref_=bo_cso_table_4</td>\n",
       "      <td>4</td>\n",
       "      <td>Black Panther</td>\n",
       "      <td>$700,426,566</td>\n",
       "      <td>2018</td>\n",
       "      <td>700426566</td>\n",
       "      <td>647171407</td>\n",
       "      <td>247966675</td>\n",
       "      <td>134</td>\n",
       "      <td>PG-13</td>\n",
       "      <td>February</td>\n",
       "      <td>[Action, Adventure, Sci-Fi]</td>\n",
       "      <td>[Daisy Ridley, John Boyega, Oscar Isaac, Domhn...</td>\n",
       "    </tr>\n",
       "  </tbody>\n",
       "</table>\n",
       "</div>"
      ],
      "text/plain": [
       "                                                                        link_stub  \\\n",
       "Star Wars: Episode VII - The Force Awakens  /title/tt2488496/?ref_=bo_cso_table_1   \n",
       "Avengers: Endgame                           /title/tt4154796/?ref_=bo_cso_table_2   \n",
       "Avatar                                      /title/tt0499549/?ref_=bo_cso_table_3   \n",
       "Black Panther                               /title/tt1825683/?ref_=bo_cso_table_4   \n",
       "\n",
       "                                           rank  \\\n",
       "Star Wars: Episode VII - The Force Awakens    1   \n",
       "Avengers: Endgame                             2   \n",
       "Avatar                                        3   \n",
       "Black Panther                                 4   \n",
       "\n",
       "                                                                                 title  \\\n",
       "Star Wars: Episode VII - The Force Awakens  Star Wars: Episode VII - The Force Awakens   \n",
       "Avengers: Endgame                                                    Avengers: Endgame   \n",
       "Avatar                                                                          Avatar   \n",
       "Black Panther                                                            Black Panther   \n",
       "\n",
       "                                           lifetime_gross release_year  \\\n",
       "Star Wars: Episode VII - The Force Awakens   $936,662,225         2015   \n",
       "Avengers: Endgame                            $858,373,000         2019   \n",
       "Avatar                                       $760,507,625         2009   \n",
       "Black Panther                                $700,426,566         2018   \n",
       "\n",
       "                                            domestic_gross  \\\n",
       "Star Wars: Episode VII - The Force Awakens       936662225   \n",
       "Avengers: Endgame                                858373000   \n",
       "Avatar                                           760507625   \n",
       "Black Panther                                    700426566   \n",
       "\n",
       "                                            international_gross  \\\n",
       "Star Wars: Episode VII - The Force Awakens           1131791908   \n",
       "Avengers: Endgame                                    1939427564   \n",
       "Avatar                                               2029931467   \n",
       "Black Panther                                         647171407   \n",
       "\n",
       "                                            domestic_opening_gross  \\\n",
       "Star Wars: Episode VII - The Force Awakens               247966675   \n",
       "Avengers: Endgame                                        247966675   \n",
       "Avatar                                                   247966675   \n",
       "Black Panther                                            247966675   \n",
       "\n",
       "                                            runtime_minutes rating  \\\n",
       "Star Wars: Episode VII - The Force Awakens              138  PG-13   \n",
       "Avengers: Endgame                                       181  PG-13   \n",
       "Avatar                                                  162  PG-13   \n",
       "Black Panther                                           134  PG-13   \n",
       "\n",
       "                                           release_month  \\\n",
       "Star Wars: Episode VII - The Force Awakens      December   \n",
       "Avengers: Endgame                                  April   \n",
       "Avatar                                          December   \n",
       "Black Panther                                   February   \n",
       "\n",
       "                                                                          genres  \\\n",
       "Star Wars: Episode VII - The Force Awakens           [Action, Adventure, Sci-Fi]   \n",
       "Avengers: Endgame                             [Action, Adventure, Drama, Sci-Fi]   \n",
       "Avatar                                      [Action, Adventure, Fantasy, Sci-Fi]   \n",
       "Black Panther                                        [Action, Adventure, Sci-Fi]   \n",
       "\n",
       "                                                                                       actors  \n",
       "Star Wars: Episode VII - The Force Awakens  [Daisy Ridley, John Boyega, Oscar Isaac, Domhn...  \n",
       "Avengers: Endgame                           [Daisy Ridley, John Boyega, Oscar Isaac, Domhn...  \n",
       "Avatar                                      [Daisy Ridley, John Boyega, Oscar Isaac, Domhn...  \n",
       "Black Panther                               [Daisy Ridley, John Boyega, Oscar Isaac, Domhn...  "
      ]
     },
     "execution_count": 66,
     "metadata": {},
     "output_type": "execute_result"
    }
   ],
   "source": [
    "lifetime_movies = lifetime_movies.merge(lifetime_movies_info, left_index=True, right_index=True)\n",
    "\n",
    "lifetime_movies.head()"
   ]
  },
  {
   "cell_type": "code",
   "execution_count": null,
   "metadata": {},
   "outputs": [],
   "source": [
    "movies = pd.DataFrame(movies).T  #transpose\n",
    "movies.columns = ['link_stub', 'title', 'rank_g_movies', \n",
    "                    'lifetime_gross', 'rank_overall', 'year']\n",
    "\n",
    "g_movies.head()"
   ]
  },
  {
   "cell_type": "code",
   "execution_count": null,
   "metadata": {},
   "outputs": [],
   "source": [
    "g_movies_page_info_list = []\n",
    "\n",
    "for link in g_movies.link_stub:\n",
    "    g_movies_page_info_list.append(get_movie_dict(link))"
   ]
  },
  {
   "cell_type": "markdown",
   "metadata": {},
   "source": [
    "### IMDB Top 100 Actors 2018"
   ]
  },
  {
   "cell_type": "code",
   "execution_count": null,
   "metadata": {},
   "outputs": [],
   "source": [
    "url = 'https://www.imdb.com/list/ls023242359/'\n",
    "response = requests.get(url)\n",
    "page = response.text\n",
    "soup = BeautifulSoup(page, 'lxml')"
   ]
  },
  {
   "cell_type": "code",
   "execution_count": null,
   "metadata": {},
   "outputs": [],
   "source": [
    "soup.find_all('span', class_='lister-item-index')[0].text"
   ]
  },
  {
   "cell_type": "code",
   "execution_count": null,
   "metadata": {},
   "outputs": [],
   "source": [
    "soup.find('div', class_='lister-item-content').find_all('a')"
   ]
  },
  {
   "cell_type": "code",
   "execution_count": null,
   "metadata": {
    "scrolled": false
   },
   "outputs": [],
   "source": [
    "soup.find('div', class_='lister-item-content').find('a').text.split('\\n')[0]"
   ]
  },
  {
   "cell_type": "code",
   "execution_count": null,
   "metadata": {},
   "outputs": [],
   "source": [
    "top_list = soup.find('div', class_='lister-list').find_all('a')\n",
    "top_list"
   ]
  },
  {
   "cell_type": "code",
   "execution_count": null,
   "metadata": {},
   "outputs": [],
   "source": [
    "soup.find('div', class_='lister-list').find_all('a')[1].text.split('\\n')[0]"
   ]
  },
  {
   "cell_type": "code",
   "execution_count": null,
   "metadata": {},
   "outputs": [],
   "source": [
    "\n",
    "top_actor = []\n",
    "for top in top_list:\n",
    "    top = top.text.split('\\n')[0]\n",
    "    top_actor += [top]\n",
    "  \n",
    "top_actor"
   ]
  },
  {
   "cell_type": "code",
   "execution_count": null,
   "metadata": {},
   "outputs": [],
   "source": [
    "from selenium import webdriver\n",
    "from selenium.webdriver.common.keys import Keys\n",
    "\n",
    "# chromedriver = \"/Applications/chromedriver\" # path to the chromedriver executable\n",
    "os.environ[\"webdriver.chrome.driver\"] = chromedriver\n",
    "driver = webdriver.Chrome(chromedriver)\n",
    "driver.get('https://www.imdb.com/list/ls023242359/')\n",
    "\n",
    "assert \"imdb\" in driver.title\n",
    "\n",
    "continue_link = driver.find_element_by_tag_name('a')\n",
    "elem = driver.find_elements_by_xpath(\"//*[@href]/name*\")\n",
    "#x = str(continue_link)\n",
    "#print(continue_link)\n",
    "print(elem)"
   ]
  },
  {
   "cell_type": "code",
   "execution_count": null,
   "metadata": {},
   "outputs": [],
   "source": [
    "soup.find('div', class_='lister-list').find_all('a').get('href', ref_='nmls_hd')"
   ]
  },
  {
   "cell_type": "code",
   "execution_count": 69,
   "metadata": {},
   "outputs": [],
   "source": [
    "df1 = pd.read_csv('lifetime_movies.csv')\n",
    "df2 = pd.read_csv('lifetime_movies_2.csv')\n",
    "df3 = pd.read_csv('lifetime_movies_3.csv')\n",
    "df4 = pd.read_csv('lifetime_movies_4.csv')\n",
    "df5 = pd.read_csv('lifetime_movies_5.csv')\n",
    "frames = [df1, df2, df3, df4, df5]\n",
    "movie_list = pd.concat(frames)"
   ]
  },
  {
   "cell_type": "code",
   "execution_count": 71,
   "metadata": {},
   "outputs": [
    {
     "data": {
      "text/html": [
       "<div>\n",
       "<style scoped>\n",
       "    .dataframe tbody tr th:only-of-type {\n",
       "        vertical-align: middle;\n",
       "    }\n",
       "\n",
       "    .dataframe tbody tr th {\n",
       "        vertical-align: top;\n",
       "    }\n",
       "\n",
       "    .dataframe thead th {\n",
       "        text-align: right;\n",
       "    }\n",
       "</style>\n",
       "<table border=\"1\" class=\"dataframe\">\n",
       "  <thead>\n",
       "    <tr style=\"text-align: right;\">\n",
       "      <th></th>\n",
       "      <th>Unnamed: 0</th>\n",
       "      <th>link_stub</th>\n",
       "      <th>rank</th>\n",
       "      <th>title</th>\n",
       "      <th>domestic_gross_x</th>\n",
       "      <th>release_year</th>\n",
       "      <th>domestic_opening_gross</th>\n",
       "      <th>budget</th>\n",
       "      <th>domestic_gross_y</th>\n",
       "      <th>international_gross</th>\n",
       "      <th>worldwide_gross</th>\n",
       "      <th>runtime_minutes</th>\n",
       "      <th>rating</th>\n",
       "      <th>release_month</th>\n",
       "      <th>genres</th>\n",
       "    </tr>\n",
       "  </thead>\n",
       "  <tbody>\n",
       "    <tr>\n",
       "      <th>0</th>\n",
       "      <td>Star Wars: Episode VII - The Force Awakens</td>\n",
       "      <td>/title/tt2488496/?ref_=bo_cso_table_1</td>\n",
       "      <td>1</td>\n",
       "      <td>Star Wars: Episode VII - The Force Awakens</td>\n",
       "      <td>$936,662,225</td>\n",
       "      <td>2015</td>\n",
       "      <td>247966675</td>\n",
       "      <td>245000000</td>\n",
       "      <td>936662225</td>\n",
       "      <td>1131791908</td>\n",
       "      <td>2068454133</td>\n",
       "      <td>138.0</td>\n",
       "      <td>PG-13</td>\n",
       "      <td>December</td>\n",
       "      <td>['Action', 'Adventure', 'Sci-Fi']</td>\n",
       "    </tr>\n",
       "    <tr>\n",
       "      <th>1</th>\n",
       "      <td>Avengers: Endgame</td>\n",
       "      <td>/title/tt4154796/?ref_=bo_cso_table_2</td>\n",
       "      <td>2</td>\n",
       "      <td>Avengers: Endgame</td>\n",
       "      <td>$858,373,000</td>\n",
       "      <td>2019</td>\n",
       "      <td>357115007</td>\n",
       "      <td>245000000</td>\n",
       "      <td>858373000</td>\n",
       "      <td>1939427564</td>\n",
       "      <td>2797800564</td>\n",
       "      <td>181.0</td>\n",
       "      <td>PG-13</td>\n",
       "      <td>April</td>\n",
       "      <td>['Action', 'Adventure', 'Drama', 'Sci-Fi']</td>\n",
       "    </tr>\n",
       "    <tr>\n",
       "      <th>2</th>\n",
       "      <td>Avatar</td>\n",
       "      <td>/title/tt0499549/?ref_=bo_cso_table_3</td>\n",
       "      <td>3</td>\n",
       "      <td>Avatar</td>\n",
       "      <td>$760,507,625</td>\n",
       "      <td>2009</td>\n",
       "      <td>77025481</td>\n",
       "      <td>245000000</td>\n",
       "      <td>760507625</td>\n",
       "      <td>2029931467</td>\n",
       "      <td>2790439092</td>\n",
       "      <td>162.0</td>\n",
       "      <td>PG-13</td>\n",
       "      <td>December</td>\n",
       "      <td>['Action', 'Adventure', 'Fantasy', 'Sci-Fi']</td>\n",
       "    </tr>\n",
       "    <tr>\n",
       "      <th>3</th>\n",
       "      <td>Black Panther</td>\n",
       "      <td>/title/tt1825683/?ref_=bo_cso_table_4</td>\n",
       "      <td>4</td>\n",
       "      <td>Black Panther</td>\n",
       "      <td>$700,426,566</td>\n",
       "      <td>2018</td>\n",
       "      <td>202003951</td>\n",
       "      <td>245000000</td>\n",
       "      <td>700426566</td>\n",
       "      <td>647171407</td>\n",
       "      <td>1347597973</td>\n",
       "      <td>134.0</td>\n",
       "      <td>PG-13</td>\n",
       "      <td>February</td>\n",
       "      <td>['Action', 'Adventure', 'Sci-Fi']</td>\n",
       "    </tr>\n",
       "    <tr>\n",
       "      <th>4</th>\n",
       "      <td>Avengers: Infinity War</td>\n",
       "      <td>/title/tt4154756/?ref_=bo_cso_table_5</td>\n",
       "      <td>5</td>\n",
       "      <td>Avengers: Infinity War</td>\n",
       "      <td>$678,815,482</td>\n",
       "      <td>2018</td>\n",
       "      <td>257698183</td>\n",
       "      <td>245000000</td>\n",
       "      <td>678815482</td>\n",
       "      <td>1369544272</td>\n",
       "      <td>2048359754</td>\n",
       "      <td>149.0</td>\n",
       "      <td>PG-13</td>\n",
       "      <td>April</td>\n",
       "      <td>['Action', 'Adventure', 'Sci-Fi']</td>\n",
       "    </tr>\n",
       "    <tr>\n",
       "      <th>...</th>\n",
       "      <td>...</td>\n",
       "      <td>...</td>\n",
       "      <td>...</td>\n",
       "      <td>...</td>\n",
       "      <td>...</td>\n",
       "      <td>...</td>\n",
       "      <td>...</td>\n",
       "      <td>...</td>\n",
       "      <td>...</td>\n",
       "      <td>...</td>\n",
       "      <td>...</td>\n",
       "      <td>...</td>\n",
       "      <td>...</td>\n",
       "      <td>...</td>\n",
       "      <td>...</td>\n",
       "    </tr>\n",
       "    <tr>\n",
       "      <th>195</th>\n",
       "      <td>Footloose</td>\n",
       "      <td>/title/tt0087277/?ref_=bo_cso_table_196</td>\n",
       "      <td>996</td>\n",
       "      <td>Footloose</td>\n",
       "      <td>$80,035,402</td>\n",
       "      <td>1984</td>\n",
       "      <td>8556935</td>\n",
       "      <td>245000000</td>\n",
       "      <td>80035402</td>\n",
       "      <td>3662</td>\n",
       "      <td>80039064</td>\n",
       "      <td>107.0</td>\n",
       "      <td>NaN</td>\n",
       "      <td>February</td>\n",
       "      <td>['Drama', 'Music', 'Romance']</td>\n",
       "    </tr>\n",
       "    <tr>\n",
       "      <th>196</th>\n",
       "      <td>Dear John</td>\n",
       "      <td>/title/tt0989757/?ref_=bo_cso_table_197</td>\n",
       "      <td>997</td>\n",
       "      <td>Dear John</td>\n",
       "      <td>$80,014,842</td>\n",
       "      <td>2010</td>\n",
       "      <td>30468614</td>\n",
       "      <td>245000000</td>\n",
       "      <td>80014842</td>\n",
       "      <td>34969824</td>\n",
       "      <td>114984666</td>\n",
       "      <td>108.0</td>\n",
       "      <td>PG-13</td>\n",
       "      <td>February</td>\n",
       "      <td>['Drama', 'Romance', 'War']</td>\n",
       "    </tr>\n",
       "    <tr>\n",
       "      <th>197</th>\n",
       "      <td>Men in Black: International</td>\n",
       "      <td>/title/tt2283336/?ref_=bo_cso_table_198</td>\n",
       "      <td>998</td>\n",
       "      <td>Men in Black: International</td>\n",
       "      <td>$80,001,807</td>\n",
       "      <td>2019</td>\n",
       "      <td>30035838</td>\n",
       "      <td>245000000</td>\n",
       "      <td>80001807</td>\n",
       "      <td>173888894</td>\n",
       "      <td>253890701</td>\n",
       "      <td>114.0</td>\n",
       "      <td>PG-13</td>\n",
       "      <td>June</td>\n",
       "      <td>['Action', 'Adventure', 'Comedy', 'Sci-Fi']</td>\n",
       "    </tr>\n",
       "    <tr>\n",
       "      <th>198</th>\n",
       "      <td>A Star Is Born</td>\n",
       "      <td>/title/tt0075265/?ref_=bo_cso_table_199</td>\n",
       "      <td>999</td>\n",
       "      <td>A Star Is Born</td>\n",
       "      <td>$80,000,000</td>\n",
       "      <td>1976</td>\n",
       "      <td>0</td>\n",
       "      <td>245000000</td>\n",
       "      <td>80000000</td>\n",
       "      <td>80000000</td>\n",
       "      <td>0</td>\n",
       "      <td>139.0</td>\n",
       "      <td>NaN</td>\n",
       "      <td>December</td>\n",
       "      <td>['Drama', 'Music', 'Romance']</td>\n",
       "    </tr>\n",
       "    <tr>\n",
       "      <th>199</th>\n",
       "      <td>Knowing</td>\n",
       "      <td>/title/tt0448011/?ref_=bo_cso_table_200</td>\n",
       "      <td>1,000</td>\n",
       "      <td>Knowing</td>\n",
       "      <td>$79,957,634</td>\n",
       "      <td>2009</td>\n",
       "      <td>24604751</td>\n",
       "      <td>245000000</td>\n",
       "      <td>79957634</td>\n",
       "      <td>103700864</td>\n",
       "      <td>183658498</td>\n",
       "      <td>121.0</td>\n",
       "      <td>PG-13</td>\n",
       "      <td>May</td>\n",
       "      <td>['Action', 'Drama', 'Sci-Fi', 'Thriller']</td>\n",
       "    </tr>\n",
       "  </tbody>\n",
       "</table>\n",
       "<p>996 rows × 15 columns</p>\n",
       "</div>"
      ],
      "text/plain": [
       "                                     Unnamed: 0  \\\n",
       "0    Star Wars: Episode VII - The Force Awakens   \n",
       "1                             Avengers: Endgame   \n",
       "2                                        Avatar   \n",
       "3                                 Black Panther   \n",
       "4                        Avengers: Infinity War   \n",
       "..                                          ...   \n",
       "195                                   Footloose   \n",
       "196                                   Dear John   \n",
       "197                 Men in Black: International   \n",
       "198                              A Star Is Born   \n",
       "199                                     Knowing   \n",
       "\n",
       "                                   link_stub   rank  \\\n",
       "0      /title/tt2488496/?ref_=bo_cso_table_1      1   \n",
       "1      /title/tt4154796/?ref_=bo_cso_table_2      2   \n",
       "2      /title/tt0499549/?ref_=bo_cso_table_3      3   \n",
       "3      /title/tt1825683/?ref_=bo_cso_table_4      4   \n",
       "4      /title/tt4154756/?ref_=bo_cso_table_5      5   \n",
       "..                                       ...    ...   \n",
       "195  /title/tt0087277/?ref_=bo_cso_table_196    996   \n",
       "196  /title/tt0989757/?ref_=bo_cso_table_197    997   \n",
       "197  /title/tt2283336/?ref_=bo_cso_table_198    998   \n",
       "198  /title/tt0075265/?ref_=bo_cso_table_199    999   \n",
       "199  /title/tt0448011/?ref_=bo_cso_table_200  1,000   \n",
       "\n",
       "                                          title domestic_gross_x  \\\n",
       "0    Star Wars: Episode VII - The Force Awakens     $936,662,225   \n",
       "1                             Avengers: Endgame     $858,373,000   \n",
       "2                                        Avatar     $760,507,625   \n",
       "3                                 Black Panther     $700,426,566   \n",
       "4                        Avengers: Infinity War     $678,815,482   \n",
       "..                                          ...              ...   \n",
       "195                                   Footloose      $80,035,402   \n",
       "196                                   Dear John      $80,014,842   \n",
       "197                 Men in Black: International      $80,001,807   \n",
       "198                              A Star Is Born      $80,000,000   \n",
       "199                                     Knowing      $79,957,634   \n",
       "\n",
       "     release_year  domestic_opening_gross     budget  domestic_gross_y  \\\n",
       "0            2015               247966675  245000000         936662225   \n",
       "1            2019               357115007  245000000         858373000   \n",
       "2            2009                77025481  245000000         760507625   \n",
       "3            2018               202003951  245000000         700426566   \n",
       "4            2018               257698183  245000000         678815482   \n",
       "..            ...                     ...        ...               ...   \n",
       "195          1984                 8556935  245000000          80035402   \n",
       "196          2010                30468614  245000000          80014842   \n",
       "197          2019                30035838  245000000          80001807   \n",
       "198          1976                       0  245000000          80000000   \n",
       "199          2009                24604751  245000000          79957634   \n",
       "\n",
       "     international_gross  worldwide_gross  runtime_minutes rating  \\\n",
       "0             1131791908       2068454133            138.0  PG-13   \n",
       "1             1939427564       2797800564            181.0  PG-13   \n",
       "2             2029931467       2790439092            162.0  PG-13   \n",
       "3              647171407       1347597973            134.0  PG-13   \n",
       "4             1369544272       2048359754            149.0  PG-13   \n",
       "..                   ...              ...              ...    ...   \n",
       "195                 3662         80039064            107.0    NaN   \n",
       "196             34969824        114984666            108.0  PG-13   \n",
       "197            173888894        253890701            114.0  PG-13   \n",
       "198             80000000                0            139.0    NaN   \n",
       "199            103700864        183658498            121.0  PG-13   \n",
       "\n",
       "    release_month                                        genres  \n",
       "0        December             ['Action', 'Adventure', 'Sci-Fi']  \n",
       "1           April    ['Action', 'Adventure', 'Drama', 'Sci-Fi']  \n",
       "2        December  ['Action', 'Adventure', 'Fantasy', 'Sci-Fi']  \n",
       "3        February             ['Action', 'Adventure', 'Sci-Fi']  \n",
       "4           April             ['Action', 'Adventure', 'Sci-Fi']  \n",
       "..            ...                                           ...  \n",
       "195      February                 ['Drama', 'Music', 'Romance']  \n",
       "196      February                   ['Drama', 'Romance', 'War']  \n",
       "197          June   ['Action', 'Adventure', 'Comedy', 'Sci-Fi']  \n",
       "198      December                 ['Drama', 'Music', 'Romance']  \n",
       "199           May     ['Action', 'Drama', 'Sci-Fi', 'Thriller']  \n",
       "\n",
       "[996 rows x 15 columns]"
      ]
     },
     "execution_count": 71,
     "metadata": {},
     "output_type": "execute_result"
    }
   ],
   "source": [
    "movie_list"
   ]
  },
  {
   "cell_type": "code",
   "execution_count": 39,
   "metadata": {},
   "outputs": [
    {
     "ename": "AttributeError",
     "evalue": "'NoneType' object has no attribute 'findNext'",
     "output_type": "error",
     "traceback": [
      "\u001b[0;31m---------------------------------------------------------------------------\u001b[0m",
      "\u001b[0;31mAttributeError\u001b[0m                            Traceback (most recent call last)",
      "\u001b[0;32m<ipython-input-39-5f8d77f41752>\u001b[0m in \u001b[0;36m<module>\u001b[0;34m\u001b[0m\n\u001b[0;32m----> 1\u001b[0;31m \u001b[0mdist_string\u001b[0m \u001b[0;34m=\u001b[0m \u001b[0msoup\u001b[0m\u001b[0;34m.\u001b[0m\u001b[0mfind\u001b[0m\u001b[0;34m(\u001b[0m\u001b[0mtext\u001b[0m\u001b[0;34m=\u001b[0m\u001b[0mdistributor_reggex\u001b[0m\u001b[0;34m)\u001b[0m\u001b[0;34m.\u001b[0m\u001b[0mfindNext\u001b[0m\u001b[0;34m(\u001b[0m\u001b[0;34m'span'\u001b[0m\u001b[0;34m)\u001b[0m\u001b[0;34m\u001b[0m\u001b[0;34m\u001b[0m\u001b[0m\n\u001b[0m\u001b[1;32m      2\u001b[0m \u001b[0mdist_string\u001b[0m\u001b[0;34m\u001b[0m\u001b[0;34m\u001b[0m\u001b[0m\n",
      "\u001b[0;31mAttributeError\u001b[0m: 'NoneType' object has no attribute 'findNext'"
     ]
    }
   ],
   "source": [
    "dist_string = soup.find(text=distributor_reggex).findNext('span')\n",
    "dist_string"
   ]
  }
 ],
 "metadata": {
  "kernelspec": {
   "display_name": "Python 3",
   "language": "python",
   "name": "python3"
  },
  "language_info": {
   "codemirror_mode": {
    "name": "ipython",
    "version": 3
   },
   "file_extension": ".py",
   "mimetype": "text/x-python",
   "name": "python",
   "nbconvert_exporter": "python",
   "pygments_lexer": "ipython3",
   "version": "3.8.3"
  }
 },
 "nbformat": 4,
 "nbformat_minor": 4
}
