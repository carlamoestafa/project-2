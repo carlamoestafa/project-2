{
 "cells": [
  {
   "cell_type": "markdown",
   "metadata": {},
   "source": [
    "# PROJECT - 2"
   ]
  },
  {
   "cell_type": "code",
   "execution_count": 1,
   "metadata": {},
   "outputs": [],
   "source": [
    "from bs4 import BeautifulSoup\n",
    "import requests\n",
    "import pandas as pd\n",
    "import re"
   ]
  },
  {
   "cell_type": "code",
   "execution_count": null,
   "metadata": {},
   "outputs": [],
   "source": []
  },
  {
   "cell_type": "markdown",
   "metadata": {},
   "source": [
    "### Getting more information from a movie page"
   ]
  },
  {
   "cell_type": "code",
   "execution_count": 2,
   "metadata": {},
   "outputs": [],
   "source": [
    "url = 'https://www.boxofficemojo.com/title/tt2488496/?ref_=bo_cso_table_1'\n",
    "response = requests.get(url)\n",
    "page = response.text\n",
    "soup = BeautifulSoup(page, 'lxml')\n",
    "# soup.prettify()"
   ]
  },
  {
   "cell_type": "markdown",
   "metadata": {},
   "source": [
    "#### Movie Title"
   ]
  },
  {
   "cell_type": "code",
   "execution_count": 3,
   "metadata": {},
   "outputs": [
    {
     "data": {
      "text/plain": [
       "'Star Wars: Episode VII - The Force Awakens - Box Office Mojo'"
      ]
     },
     "execution_count": 3,
     "metadata": {},
     "output_type": "execute_result"
    }
   ],
   "source": [
    "soup.find('title').text\n",
    "title_string = soup.find('title').text\n",
    "title_string"
   ]
  },
  {
   "cell_type": "code",
   "execution_count": 4,
   "metadata": {},
   "outputs": [
    {
     "data": {
      "text/plain": [
       "'Star Wars: Episode VII - The Force Awakens'"
      ]
     },
     "execution_count": 4,
     "metadata": {},
     "output_type": "execute_result"
    }
   ],
   "source": [
    "title = title_string[:-18]\n",
    "title"
   ]
  },
  {
   "cell_type": "markdown",
   "metadata": {},
   "source": [
    "#### Domestic Gross"
   ]
  },
  {
   "cell_type": "code",
   "execution_count": 5,
   "metadata": {},
   "outputs": [
    {
     "data": {
      "text/plain": [
       "[<span class=\"money\">$936,662,225</span>,\n",
       " <span class=\"money\">$1,131,791,908</span>,\n",
       " <span class=\"money\">$2,068,454,133</span>]"
      ]
     },
     "execution_count": 5,
     "metadata": {},
     "output_type": "execute_result"
    }
   ],
   "source": [
    "soup.find(class_='mojo-performance-summary-table').find_all('span',class_='money')"
   ]
  },
  {
   "cell_type": "code",
   "execution_count": 6,
   "metadata": {},
   "outputs": [
    {
     "data": {
      "text/plain": [
       "'$936,662,225'"
      ]
     },
     "execution_count": 6,
     "metadata": {},
     "output_type": "execute_result"
    }
   ],
   "source": [
    "domestic_gross = soup.find(class_='mojo-performance-summary-table').find_all('span',class_='money')[0].text\n",
    "domestic_gross"
   ]
  },
  {
   "cell_type": "markdown",
   "metadata": {},
   "source": [
    "#### International Gross"
   ]
  },
  {
   "cell_type": "code",
   "execution_count": 7,
   "metadata": {},
   "outputs": [
    {
     "data": {
      "text/plain": [
       "'$1,131,791,908'"
      ]
     },
     "execution_count": 7,
     "metadata": {},
     "output_type": "execute_result"
    }
   ],
   "source": [
    "international_gross = soup.find(class_='mojo-performance-summary-table').find_all('span',class_='money')[1].text\n",
    "international_gross"
   ]
  },
  {
   "cell_type": "markdown",
   "metadata": {},
   "source": [
    "#### Worldwide Gross"
   ]
  },
  {
   "cell_type": "code",
   "execution_count": 8,
   "metadata": {},
   "outputs": [
    {
     "data": {
      "text/plain": [
       "'$2,068,454,133'"
      ]
     },
     "execution_count": 8,
     "metadata": {},
     "output_type": "execute_result"
    }
   ],
   "source": [
    "worldwide_gross = soup.find(class_='mojo-performance-summary-table').find_all('span',class_='money')[2].text\n",
    "worldwide_gross"
   ]
  },
  {
   "cell_type": "markdown",
   "metadata": {},
   "source": [
    "#### Domestic Distributor"
   ]
  },
  {
   "cell_type": "code",
   "execution_count": 9,
   "metadata": {},
   "outputs": [
    {
     "data": {
      "text/plain": [
       "[<span class=\"money\">$247,966,675</span>,\n",
       " <span class=\"money\">$245,000,000</span>]"
      ]
     },
     "execution_count": 9,
     "metadata": {},
     "output_type": "execute_result"
    }
   ],
   "source": [
    "soup.find(class_='mojo-summary-values').find_all('span', class_ = 'money')"
   ]
  },
  {
   "cell_type": "code",
   "execution_count": 10,
   "metadata": {},
   "outputs": [
    {
     "data": {
      "text/plain": [
       "'Domestic Distributor'"
      ]
     },
     "execution_count": 10,
     "metadata": {},
     "output_type": "execute_result"
    }
   ],
   "source": [
    "distributor_reggex = re.compile('Distributor')\n",
    "soup.find(text=distributor_reggex)"
   ]
  },
  {
   "cell_type": "code",
   "execution_count": 11,
   "metadata": {},
   "outputs": [
    {
     "data": {
      "text/plain": [
       "'Walt Disney Studios Motion Pictures'"
      ]
     },
     "execution_count": 11,
     "metadata": {},
     "output_type": "execute_result"
    }
   ],
   "source": [
    "dist_string = soup.find(text=distributor_reggex).findNext('span').text[:35]\n",
    "dom_dist = dist_string\n",
    "dom_dist"
   ]
  },
  {
   "cell_type": "markdown",
   "metadata": {},
   "source": [
    "#### Domestic Opening Gross"
   ]
  },
  {
   "cell_type": "code",
   "execution_count": 12,
   "metadata": {},
   "outputs": [
    {
     "data": {
      "text/plain": [
       "'Domestic Opening'"
      ]
     },
     "execution_count": 12,
     "metadata": {},
     "output_type": "execute_result"
    }
   ],
   "source": [
    "domopening_reggex = re.compile('Domestic Open')\n",
    "soup.find(text=domopening_reggex)"
   ]
  },
  {
   "cell_type": "code",
   "execution_count": 13,
   "metadata": {},
   "outputs": [
    {
     "data": {
      "text/plain": [
       "'$247,966,675'"
      ]
     },
     "execution_count": 13,
     "metadata": {},
     "output_type": "execute_result"
    }
   ],
   "source": [
    "domestic_opening_gross = soup.find(text=domopening_reggex).findNext(class_='money').text\n",
    "domestic_opening_gross"
   ]
  },
  {
   "cell_type": "markdown",
   "metadata": {},
   "source": [
    "#### Budget"
   ]
  },
  {
   "cell_type": "code",
   "execution_count": null,
   "metadata": {},
   "outputs": [],
   "source": []
  },
  {
   "cell_type": "markdown",
   "metadata": {},
   "source": [
    "####  Release Month"
   ]
  },
  {
   "cell_type": "code",
   "execution_count": 14,
   "metadata": {},
   "outputs": [
    {
     "data": {
      "text/plain": [
       "'December'"
      ]
     },
     "execution_count": 14,
     "metadata": {},
     "output_type": "execute_result"
    }
   ],
   "source": [
    "release_reggex = re.compile('Release Date')\n",
    "soup.find(text=release_reggex).findNext().text.split()[0]\n",
    "release_month = soup.find(text=release_reggex).findNext().text.split()[0]\n",
    "release_month"
   ]
  },
  {
   "cell_type": "markdown",
   "metadata": {},
   "source": [
    "#### MPAA Rating"
   ]
  },
  {
   "cell_type": "code",
   "execution_count": 15,
   "metadata": {},
   "outputs": [
    {
     "data": {
      "text/plain": [
       "'PG-13'"
      ]
     },
     "execution_count": 15,
     "metadata": {},
     "output_type": "execute_result"
    }
   ],
   "source": [
    "rating_reggex = re.compile('MPAA')\n",
    "rating = soup.find(text=rating_reggex).findNext('span').text\n",
    "rating"
   ]
  },
  {
   "cell_type": "markdown",
   "metadata": {},
   "source": [
    "#### Running Time"
   ]
  },
  {
   "cell_type": "code",
   "execution_count": 16,
   "metadata": {},
   "outputs": [
    {
     "data": {
      "text/plain": [
       "138"
      ]
     },
     "execution_count": 16,
     "metadata": {},
     "output_type": "execute_result"
    }
   ],
   "source": [
    "runtime_reggex = re.compile('Run')\n",
    "rt = soup.find(text=runtime_reggex).findNext('span').text.split()\n",
    "runtime_minutes = int(rt[0])*60 + int(rt[2])\n",
    "runtime_minutes"
   ]
  },
  {
   "cell_type": "markdown",
   "metadata": {},
   "source": [
    "#### Genres"
   ]
  },
  {
   "cell_type": "code",
   "execution_count": 17,
   "metadata": {},
   "outputs": [
    {
     "data": {
      "text/plain": [
       "['Action', 'Adventure', 'Sci-Fi']"
      ]
     },
     "execution_count": 17,
     "metadata": {},
     "output_type": "execute_result"
    }
   ],
   "source": [
    "genres_reggex = re.compile('Genres')\n",
    "genres = soup.find(text=genres_reggex).findNext('span').text.split()\n",
    "genres"
   ]
  },
  {
   "cell_type": "code",
   "execution_count": 18,
   "metadata": {},
   "outputs": [
    {
     "data": {
      "text/plain": [
       "[{'movie title': 'Star Wars: Episode VII - The Force Awakens',\n",
       "  'domestic total gross': '$936,662,225',\n",
       "  'international total gross': '$1,131,791,908',\n",
       "  'domestic opening gross': '$247,966,675',\n",
       "  'runtime (mins)': 138,\n",
       "  'rating': 'PG-13',\n",
       "  'release date': 'December',\n",
       "  'genre': ['Action', 'Adventure', 'Sci-Fi']}]"
      ]
     },
     "execution_count": 18,
     "metadata": {},
     "output_type": "execute_result"
    }
   ],
   "source": [
    "headers = ['movie title', 'domestic total gross', 'international total gross','domestic opening gross','runtime (mins)',\n",
    "           'rating', 'release date', 'genre']\n",
    "\n",
    "movie_data = []\n",
    "movie_dict = dict(zip(headers,[title,\n",
    "                               domestic_gross,\n",
    "                               international_gross,\n",
    "                               domestic_opening_gross,\n",
    "                               runtime_minutes,\n",
    "                               rating,\n",
    "                               release_month,\n",
    "                               genres]))\n",
    "movie_data.append(movie_dict)\n",
    "movie_data"
   ]
  },
  {
   "cell_type": "markdown",
   "metadata": {},
   "source": [
    "### Getting the lifetime ranking table"
   ]
  },
  {
   "cell_type": "code",
   "execution_count": 19,
   "metadata": {},
   "outputs": [],
   "source": [
    "url = 'https://www.boxofficemojo.com/chart/top_lifetime_gross/'\n",
    "response = requests.get(url)\n",
    "page = response.text\n",
    "soup = BeautifulSoup(page, 'lxml')\n",
    "# print(soup.prettify())"
   ]
  },
  {
   "cell_type": "code",
   "execution_count": 20,
   "metadata": {},
   "outputs": [],
   "source": [
    "# finding the table\n",
    "table = soup.find('table')\n",
    "# table"
   ]
  },
  {
   "cell_type": "code",
   "execution_count": 21,
   "metadata": {},
   "outputs": [
    {
     "data": {
      "text/plain": [
       "[<td class=\"a-text-right mojo-header-column mojo-truncate mojo-field-type-rank\">1</td>,\n",
       " <td class=\"a-text-left mojo-field-type-title\"><a class=\"a-link-normal\" href=\"/title/tt2488496/?ref_=bo_cso_table_1\">Star Wars: Episode VII - The Force Awakens</a></td>,\n",
       " <td class=\"a-text-right mojo-field-type-money\">$936,662,225</td>,\n",
       " <td class=\"a-text-left mojo-field-type-year\"><a class=\"a-link-normal\" href=\"/year/2015/?ref_=bo_cso_table_1\">2015</a></td>]"
      ]
     },
     "execution_count": 21,
     "metadata": {},
     "output_type": "execute_result"
    }
   ],
   "source": [
    "rows = [row for row in table.find_all('tr')]\n",
    "rows[1].find_all('td')"
   ]
  },
  {
   "cell_type": "code",
   "execution_count": 22,
   "metadata": {},
   "outputs": [
    {
     "data": {
      "text/plain": [
       "'/title/tt2488496/?ref_=bo_cso_table_1'"
      ]
     },
     "execution_count": 22,
     "metadata": {},
     "output_type": "execute_result"
    }
   ],
   "source": [
    "rows[1].find_all('td')[1].find('a')['href']"
   ]
  },
  {
   "cell_type": "code",
   "execution_count": 23,
   "metadata": {},
   "outputs": [
    {
     "data": {
      "text/plain": [
       "{'Star Wars: Episode VII - The Force Awakens': ['/title/tt2488496/?ref_=bo_cso_table_1',\n",
       "  '1',\n",
       "  'Star Wars: Episode VII - The Force Awakens',\n",
       "  '$936,662,225',\n",
       "  '2015'],\n",
       " 'Avengers: Endgame': ['/title/tt4154796/?ref_=bo_cso_table_2',\n",
       "  '2',\n",
       "  'Avengers: Endgame',\n",
       "  '$858,373,000',\n",
       "  '2019'],\n",
       " 'Avatar': ['/title/tt0499549/?ref_=bo_cso_table_3',\n",
       "  '3',\n",
       "  'Avatar',\n",
       "  '$760,507,625',\n",
       "  '2009'],\n",
       " 'Black Panther': ['/title/tt1825683/?ref_=bo_cso_table_4',\n",
       "  '4',\n",
       "  'Black Panther',\n",
       "  '$700,426,566',\n",
       "  '2018'],\n",
       " 'Avengers: Infinity War': ['/title/tt4154756/?ref_=bo_cso_table_5',\n",
       "  '5',\n",
       "  'Avengers: Infinity War',\n",
       "  '$678,815,482',\n",
       "  '2018'],\n",
       " 'Titanic': ['/title/tt0120338/?ref_=bo_cso_table_6',\n",
       "  '6',\n",
       "  'Titanic',\n",
       "  '$659,363,944',\n",
       "  '1997'],\n",
       " 'Jurassic World': ['/title/tt0369610/?ref_=bo_cso_table_7',\n",
       "  '7',\n",
       "  'Jurassic World',\n",
       "  '$652,295,625',\n",
       "  '2015'],\n",
       " 'The Avengers': ['/title/tt0848228/?ref_=bo_cso_table_8',\n",
       "  '8',\n",
       "  'The Avengers',\n",
       "  '$623,357,910',\n",
       "  '2012'],\n",
       " 'Star Wars: Episode VIII - The Last Jedi': ['/title/tt2527336/?ref_=bo_cso_table_9',\n",
       "  '9',\n",
       "  'Star Wars: Episode VIII - The Last Jedi',\n",
       "  '$620,181,382',\n",
       "  '2017']}"
      ]
     },
     "execution_count": 23,
     "metadata": {},
     "output_type": "execute_result"
    }
   ],
   "source": [
    "movies = {}\n",
    "\n",
    "for row in rows[1:10]:\n",
    "    items = row.find_all('td')\n",
    "    link = items[1].find('a')\n",
    "    title = link.text\n",
    "    url = link['href']\n",
    "    movies[title] = [url]+ [i.text for i in items]\n",
    "\n",
    "movies"
   ]
  },
  {
   "cell_type": "code",
   "execution_count": 24,
   "metadata": {},
   "outputs": [
    {
     "data": {
      "text/html": [
       "<div>\n",
       "<style scoped>\n",
       "    .dataframe tbody tr th:only-of-type {\n",
       "        vertical-align: middle;\n",
       "    }\n",
       "\n",
       "    .dataframe tbody tr th {\n",
       "        vertical-align: top;\n",
       "    }\n",
       "\n",
       "    .dataframe thead th {\n",
       "        text-align: right;\n",
       "    }\n",
       "</style>\n",
       "<table border=\"1\" class=\"dataframe\">\n",
       "  <thead>\n",
       "    <tr style=\"text-align: right;\">\n",
       "      <th></th>\n",
       "      <th>link_stub</th>\n",
       "      <th>rank</th>\n",
       "      <th>title</th>\n",
       "      <th>lifetime_gross</th>\n",
       "      <th>release_year</th>\n",
       "    </tr>\n",
       "  </thead>\n",
       "  <tbody>\n",
       "    <tr>\n",
       "      <th>Star Wars: Episode VII - The Force Awakens</th>\n",
       "      <td>/title/tt2488496/?ref_=bo_cso_table_1</td>\n",
       "      <td>1</td>\n",
       "      <td>Star Wars: Episode VII - The Force Awakens</td>\n",
       "      <td>$936,662,225</td>\n",
       "      <td>2015</td>\n",
       "    </tr>\n",
       "    <tr>\n",
       "      <th>Avengers: Endgame</th>\n",
       "      <td>/title/tt4154796/?ref_=bo_cso_table_2</td>\n",
       "      <td>2</td>\n",
       "      <td>Avengers: Endgame</td>\n",
       "      <td>$858,373,000</td>\n",
       "      <td>2019</td>\n",
       "    </tr>\n",
       "    <tr>\n",
       "      <th>Avatar</th>\n",
       "      <td>/title/tt0499549/?ref_=bo_cso_table_3</td>\n",
       "      <td>3</td>\n",
       "      <td>Avatar</td>\n",
       "      <td>$760,507,625</td>\n",
       "      <td>2009</td>\n",
       "    </tr>\n",
       "    <tr>\n",
       "      <th>Black Panther</th>\n",
       "      <td>/title/tt1825683/?ref_=bo_cso_table_4</td>\n",
       "      <td>4</td>\n",
       "      <td>Black Panther</td>\n",
       "      <td>$700,426,566</td>\n",
       "      <td>2018</td>\n",
       "    </tr>\n",
       "    <tr>\n",
       "      <th>Avengers: Infinity War</th>\n",
       "      <td>/title/tt4154756/?ref_=bo_cso_table_5</td>\n",
       "      <td>5</td>\n",
       "      <td>Avengers: Infinity War</td>\n",
       "      <td>$678,815,482</td>\n",
       "      <td>2018</td>\n",
       "    </tr>\n",
       "  </tbody>\n",
       "</table>\n",
       "</div>"
      ],
      "text/plain": [
       "                                                                        link_stub  \\\n",
       "Star Wars: Episode VII - The Force Awakens  /title/tt2488496/?ref_=bo_cso_table_1   \n",
       "Avengers: Endgame                           /title/tt4154796/?ref_=bo_cso_table_2   \n",
       "Avatar                                      /title/tt0499549/?ref_=bo_cso_table_3   \n",
       "Black Panther                               /title/tt1825683/?ref_=bo_cso_table_4   \n",
       "Avengers: Infinity War                      /title/tt4154756/?ref_=bo_cso_table_5   \n",
       "\n",
       "                                           rank  \\\n",
       "Star Wars: Episode VII - The Force Awakens    1   \n",
       "Avengers: Endgame                             2   \n",
       "Avatar                                        3   \n",
       "Black Panther                                 4   \n",
       "Avengers: Infinity War                        5   \n",
       "\n",
       "                                                                                 title  \\\n",
       "Star Wars: Episode VII - The Force Awakens  Star Wars: Episode VII - The Force Awakens   \n",
       "Avengers: Endgame                                                    Avengers: Endgame   \n",
       "Avatar                                                                          Avatar   \n",
       "Black Panther                                                            Black Panther   \n",
       "Avengers: Infinity War                                          Avengers: Infinity War   \n",
       "\n",
       "                                           lifetime_gross release_year  \n",
       "Star Wars: Episode VII - The Force Awakens   $936,662,225         2015  \n",
       "Avengers: Endgame                            $858,373,000         2019  \n",
       "Avatar                                       $760,507,625         2009  \n",
       "Black Panther                                $700,426,566         2018  \n",
       "Avengers: Infinity War                       $678,815,482         2018  "
      ]
     },
     "execution_count": 24,
     "metadata": {},
     "output_type": "execute_result"
    }
   ],
   "source": [
    "lifetime_movies = pd.DataFrame(movies).T\n",
    "lifetime_movies.columns = ['link_stub', 'rank', 'title', 'lifetime_gross', 'release_year']\n",
    "lifetime_movies.head()"
   ]
  },
  {
   "cell_type": "code",
   "execution_count": 25,
   "metadata": {},
   "outputs": [],
   "source": [
    "def get_movie_dict(link):\n",
    "    \"\"\"\n",
    "    From BoxOfficeMojo link stub, request movie html, parse with BeautifulSoup, and\n",
    "    collect \n",
    "        - title \n",
    "        - domestic gross\n",
    "        - runtime \n",
    "        - MPAA rating\n",
    "        - full release date\n",
    "    Return information as a dictionary\n",
    "    \n",
    "    \"\"\"\n",
    "    \n",
    "    base_url = 'https://www.boxofficemojo.com'\n",
    "    \n",
    "    #Create full url to scrape\n",
    "    url = base_url + link\n",
    "    \n",
    "    #Request HTML and parse\n",
    "    response = requests.get(url)\n",
    "    page = response.text\n",
    "    soup = BeautifulSoup(page,\"lxml\")\n",
    "    \n",
    "    headers = ['title', 'domestic_gross', 'international_gross','worldwide_gross', 'domestic_opening_gross',\n",
    "               'runtime_minutes', 'rating', 'release_month', 'genres']\n",
    "    \n",
    "    #Get title\n",
    "    title_string = soup.find('title').text\n",
    "    title = title_string[:-18]\n",
    "\n",
    "    #Get domestic gross\n",
    "    domestic_gross = soup.find(class_='mojo-performance-summary-table').find_all('span',class_='money')[0].text\n",
    "    #dom_gross = money_to_int(dom_gross)\n",
    "    \n",
    "    #Get international_gross\n",
    "    international_gross = soup.find(class_='mojo-performance-summary-table').find_all('span',class_='money')[1].text\n",
    "    \n",
    "    #Get worldwide gross\n",
    "    worldwide_gross = soup.find(class_='mojo-performance-summary-table').find_all('span',class_='money')[2].text\n",
    "    \n",
    "    #Get domestic opening gross\n",
    "    domestic_opening_gross = soup.find(text=domopening_reggex).findNext(class_='money').text\n",
    "    \n",
    "    \n",
    "    #Get runtime\n",
    "    runtime_reggex = re.compile('Run')\n",
    "    rt = soup.find(text=runtime_reggex).findNext('span').text.split()\n",
    "    runtime_minutes = int(rt[0])*60 + int(rt[2])\n",
    "    \n",
    "    #Get rating\n",
    "    rating_reggex = re.compile('MPAA')\n",
    "    rating = soup.find(text=rating_reggex).findNext('span').text\n",
    "    \n",
    "    #Get genres\n",
    "    genres_reggex = re.compile('Genres')\n",
    "    genres = soup.find(text=genres_reggex).findNext('span').text.split()\n",
    "    \n",
    "    #Get release month\n",
    "    release_reggex = re.compile('Release Date')\n",
    "    release_month = soup.find(text=release_reggex).findNext().text.split()[0]\n",
    "    \n",
    "    \n",
    "    #Create movie dictionary and return\n",
    "    movie_dict = dict(zip(headers, [title,\n",
    "                                    domestic_gross,\n",
    "                                    international_gross,\n",
    "                                    worldwide_gross,\n",
    "                                    domestic_opening_gross,\n",
    "                                    runtime_minutes,\n",
    "                                    rating,\n",
    "                                    release_month,\n",
    "                                    genres]))\n",
    "\n",
    "    return movie_dict"
   ]
  },
  {
   "cell_type": "code",
   "execution_count": 26,
   "metadata": {},
   "outputs": [],
   "source": [
    "lifetime_page_data = []\n",
    "\n",
    "for link in lifetime_movies.link_stub:\n",
    "    lifetime_page_data.append(get_movie_dict(link))"
   ]
  },
  {
   "cell_type": "code",
   "execution_count": 27,
   "metadata": {},
   "outputs": [
    {
     "data": {
      "text/plain": [
       "[{'title': 'Star Wars: Episode VII - The Force Awakens',\n",
       "  'domestic_gross': '$936,662,225',\n",
       "  'international_gross': '$1,131,791,908',\n",
       "  'worldwide_gross': '$2,068,454,133',\n",
       "  'domestic_opening_gross': '$247,966,675',\n",
       "  'runtime_minutes': 138,\n",
       "  'rating': 'PG-13',\n",
       "  'release_month': 'December',\n",
       "  'genres': ['Action', 'Adventure', 'Sci-Fi']},\n",
       " {'title': 'Avengers: Endgame',\n",
       "  'domestic_gross': '$858,373,000',\n",
       "  'international_gross': '$1,939,427,564',\n",
       "  'worldwide_gross': '$2,797,800,564',\n",
       "  'domestic_opening_gross': '$357,115,007',\n",
       "  'runtime_minutes': 181,\n",
       "  'rating': 'PG-13',\n",
       "  'release_month': 'April',\n",
       "  'genres': ['Action', 'Adventure', 'Drama', 'Sci-Fi']},\n",
       " {'title': 'Avatar',\n",
       "  'domestic_gross': '$760,507,625',\n",
       "  'international_gross': '$2,029,931,467',\n",
       "  'worldwide_gross': '$2,790,439,092',\n",
       "  'domestic_opening_gross': '$77,025,481',\n",
       "  'runtime_minutes': 162,\n",
       "  'rating': 'PG-13',\n",
       "  'release_month': 'December',\n",
       "  'genres': ['Action', 'Adventure', 'Fantasy', 'Sci-Fi']},\n",
       " {'title': 'Black Panther',\n",
       "  'domestic_gross': '$700,426,566',\n",
       "  'international_gross': '$647,171,407',\n",
       "  'worldwide_gross': '$1,347,597,973',\n",
       "  'domestic_opening_gross': '$202,003,951',\n",
       "  'runtime_minutes': 134,\n",
       "  'rating': 'PG-13',\n",
       "  'release_month': 'February',\n",
       "  'genres': ['Action', 'Adventure', 'Sci-Fi']},\n",
       " {'title': 'Avengers: Infinity War',\n",
       "  'domestic_gross': '$678,815,482',\n",
       "  'international_gross': '$1,369,544,272',\n",
       "  'worldwide_gross': '$2,048,359,754',\n",
       "  'domestic_opening_gross': '$257,698,183',\n",
       "  'runtime_minutes': 149,\n",
       "  'rating': 'PG-13',\n",
       "  'release_month': 'April',\n",
       "  'genres': ['Action', 'Adventure', 'Sci-Fi']},\n",
       " {'title': 'Titanic',\n",
       "  'domestic_gross': '$659,363,944',\n",
       "  'international_gross': '$1,812,387,978',\n",
       "  'worldwide_gross': '$2,471,751,922',\n",
       "  'domestic_opening_gross': '$28,638,131',\n",
       "  'runtime_minutes': 194,\n",
       "  'rating': 'PG-13',\n",
       "  'release_month': 'December',\n",
       "  'genres': ['Drama', 'Romance']},\n",
       " {'title': 'Jurassic World',\n",
       "  'domestic_gross': '$652,295,625',\n",
       "  'international_gross': '$1,018,130,819',\n",
       "  'worldwide_gross': '$1,670,426,444',\n",
       "  'domestic_opening_gross': '$208,806,270',\n",
       "  'runtime_minutes': 124,\n",
       "  'rating': 'PG-13',\n",
       "  'release_month': 'June',\n",
       "  'genres': ['Action', 'Adventure', 'Sci-Fi']},\n",
       " {'title': 'The Avengers',\n",
       "  'domestic_gross': '$623,357,910',\n",
       "  'international_gross': '$895,457,605',\n",
       "  'worldwide_gross': '$1,518,815,515',\n",
       "  'domestic_opening_gross': '$207,438,708',\n",
       "  'runtime_minutes': 143,\n",
       "  'rating': 'PG-13',\n",
       "  'release_month': 'April',\n",
       "  'genres': ['Action', 'Adventure', 'Sci-Fi']},\n",
       " {'title': 'Star Wars: Episode VIII - The Last Jedi',\n",
       "  'domestic_gross': '$620,181,382',\n",
       "  'international_gross': '$712,516,117',\n",
       "  'worldwide_gross': '$1,332,697,499',\n",
       "  'domestic_opening_gross': '$220,009,584',\n",
       "  'runtime_minutes': 152,\n",
       "  'rating': 'PG-13',\n",
       "  'release_month': 'December',\n",
       "  'genres': ['Action', 'Adventure', 'Fantasy', 'Sci-Fi']}]"
      ]
     },
     "execution_count": 27,
     "metadata": {},
     "output_type": "execute_result"
    }
   ],
   "source": [
    "lifetime_page_data"
   ]
  },
  {
   "cell_type": "code",
   "execution_count": 28,
   "metadata": {},
   "outputs": [
    {
     "data": {
      "text/html": [
       "<div>\n",
       "<style scoped>\n",
       "    .dataframe tbody tr th:only-of-type {\n",
       "        vertical-align: middle;\n",
       "    }\n",
       "\n",
       "    .dataframe tbody tr th {\n",
       "        vertical-align: top;\n",
       "    }\n",
       "\n",
       "    .dataframe thead th {\n",
       "        text-align: right;\n",
       "    }\n",
       "</style>\n",
       "<table border=\"1\" class=\"dataframe\">\n",
       "  <thead>\n",
       "    <tr style=\"text-align: right;\">\n",
       "      <th></th>\n",
       "      <th>domestic_gross</th>\n",
       "      <th>international_gross</th>\n",
       "      <th>worldwide_gross</th>\n",
       "      <th>domestic_opening_gross</th>\n",
       "      <th>runtime_minutes</th>\n",
       "      <th>rating</th>\n",
       "      <th>release_month</th>\n",
       "      <th>genres</th>\n",
       "    </tr>\n",
       "    <tr>\n",
       "      <th>title</th>\n",
       "      <th></th>\n",
       "      <th></th>\n",
       "      <th></th>\n",
       "      <th></th>\n",
       "      <th></th>\n",
       "      <th></th>\n",
       "      <th></th>\n",
       "      <th></th>\n",
       "    </tr>\n",
       "  </thead>\n",
       "  <tbody>\n",
       "    <tr>\n",
       "      <th>Star Wars: Episode VII - The Force Awakens</th>\n",
       "      <td>$936,662,225</td>\n",
       "      <td>$1,131,791,908</td>\n",
       "      <td>$2,068,454,133</td>\n",
       "      <td>$247,966,675</td>\n",
       "      <td>138</td>\n",
       "      <td>PG-13</td>\n",
       "      <td>December</td>\n",
       "      <td>[Action, Adventure, Sci-Fi]</td>\n",
       "    </tr>\n",
       "    <tr>\n",
       "      <th>Avengers: Endgame</th>\n",
       "      <td>$858,373,000</td>\n",
       "      <td>$1,939,427,564</td>\n",
       "      <td>$2,797,800,564</td>\n",
       "      <td>$357,115,007</td>\n",
       "      <td>181</td>\n",
       "      <td>PG-13</td>\n",
       "      <td>April</td>\n",
       "      <td>[Action, Adventure, Drama, Sci-Fi]</td>\n",
       "    </tr>\n",
       "    <tr>\n",
       "      <th>Avatar</th>\n",
       "      <td>$760,507,625</td>\n",
       "      <td>$2,029,931,467</td>\n",
       "      <td>$2,790,439,092</td>\n",
       "      <td>$77,025,481</td>\n",
       "      <td>162</td>\n",
       "      <td>PG-13</td>\n",
       "      <td>December</td>\n",
       "      <td>[Action, Adventure, Fantasy, Sci-Fi]</td>\n",
       "    </tr>\n",
       "    <tr>\n",
       "      <th>Black Panther</th>\n",
       "      <td>$700,426,566</td>\n",
       "      <td>$647,171,407</td>\n",
       "      <td>$1,347,597,973</td>\n",
       "      <td>$202,003,951</td>\n",
       "      <td>134</td>\n",
       "      <td>PG-13</td>\n",
       "      <td>February</td>\n",
       "      <td>[Action, Adventure, Sci-Fi]</td>\n",
       "    </tr>\n",
       "    <tr>\n",
       "      <th>Avengers: Infinity War</th>\n",
       "      <td>$678,815,482</td>\n",
       "      <td>$1,369,544,272</td>\n",
       "      <td>$2,048,359,754</td>\n",
       "      <td>$257,698,183</td>\n",
       "      <td>149</td>\n",
       "      <td>PG-13</td>\n",
       "      <td>April</td>\n",
       "      <td>[Action, Adventure, Sci-Fi]</td>\n",
       "    </tr>\n",
       "    <tr>\n",
       "      <th>Titanic</th>\n",
       "      <td>$659,363,944</td>\n",
       "      <td>$1,812,387,978</td>\n",
       "      <td>$2,471,751,922</td>\n",
       "      <td>$28,638,131</td>\n",
       "      <td>194</td>\n",
       "      <td>PG-13</td>\n",
       "      <td>December</td>\n",
       "      <td>[Drama, Romance]</td>\n",
       "    </tr>\n",
       "    <tr>\n",
       "      <th>Jurassic World</th>\n",
       "      <td>$652,295,625</td>\n",
       "      <td>$1,018,130,819</td>\n",
       "      <td>$1,670,426,444</td>\n",
       "      <td>$208,806,270</td>\n",
       "      <td>124</td>\n",
       "      <td>PG-13</td>\n",
       "      <td>June</td>\n",
       "      <td>[Action, Adventure, Sci-Fi]</td>\n",
       "    </tr>\n",
       "    <tr>\n",
       "      <th>The Avengers</th>\n",
       "      <td>$623,357,910</td>\n",
       "      <td>$895,457,605</td>\n",
       "      <td>$1,518,815,515</td>\n",
       "      <td>$207,438,708</td>\n",
       "      <td>143</td>\n",
       "      <td>PG-13</td>\n",
       "      <td>April</td>\n",
       "      <td>[Action, Adventure, Sci-Fi]</td>\n",
       "    </tr>\n",
       "    <tr>\n",
       "      <th>Star Wars: Episode VIII - The Last Jedi</th>\n",
       "      <td>$620,181,382</td>\n",
       "      <td>$712,516,117</td>\n",
       "      <td>$1,332,697,499</td>\n",
       "      <td>$220,009,584</td>\n",
       "      <td>152</td>\n",
       "      <td>PG-13</td>\n",
       "      <td>December</td>\n",
       "      <td>[Action, Adventure, Fantasy, Sci-Fi]</td>\n",
       "    </tr>\n",
       "  </tbody>\n",
       "</table>\n",
       "</div>"
      ],
      "text/plain": [
       "                                           domestic_gross international_gross  \\\n",
       "title                                                                           \n",
       "Star Wars: Episode VII - The Force Awakens   $936,662,225      $1,131,791,908   \n",
       "Avengers: Endgame                            $858,373,000      $1,939,427,564   \n",
       "Avatar                                       $760,507,625      $2,029,931,467   \n",
       "Black Panther                                $700,426,566        $647,171,407   \n",
       "Avengers: Infinity War                       $678,815,482      $1,369,544,272   \n",
       "Titanic                                      $659,363,944      $1,812,387,978   \n",
       "Jurassic World                               $652,295,625      $1,018,130,819   \n",
       "The Avengers                                 $623,357,910        $895,457,605   \n",
       "Star Wars: Episode VIII - The Last Jedi      $620,181,382        $712,516,117   \n",
       "\n",
       "                                           worldwide_gross  \\\n",
       "title                                                        \n",
       "Star Wars: Episode VII - The Force Awakens  $2,068,454,133   \n",
       "Avengers: Endgame                           $2,797,800,564   \n",
       "Avatar                                      $2,790,439,092   \n",
       "Black Panther                               $1,347,597,973   \n",
       "Avengers: Infinity War                      $2,048,359,754   \n",
       "Titanic                                     $2,471,751,922   \n",
       "Jurassic World                              $1,670,426,444   \n",
       "The Avengers                                $1,518,815,515   \n",
       "Star Wars: Episode VIII - The Last Jedi     $1,332,697,499   \n",
       "\n",
       "                                           domestic_opening_gross  \\\n",
       "title                                                               \n",
       "Star Wars: Episode VII - The Force Awakens           $247,966,675   \n",
       "Avengers: Endgame                                    $357,115,007   \n",
       "Avatar                                                $77,025,481   \n",
       "Black Panther                                        $202,003,951   \n",
       "Avengers: Infinity War                               $257,698,183   \n",
       "Titanic                                               $28,638,131   \n",
       "Jurassic World                                       $208,806,270   \n",
       "The Avengers                                         $207,438,708   \n",
       "Star Wars: Episode VIII - The Last Jedi              $220,009,584   \n",
       "\n",
       "                                            runtime_minutes rating  \\\n",
       "title                                                                \n",
       "Star Wars: Episode VII - The Force Awakens              138  PG-13   \n",
       "Avengers: Endgame                                       181  PG-13   \n",
       "Avatar                                                  162  PG-13   \n",
       "Black Panther                                           134  PG-13   \n",
       "Avengers: Infinity War                                  149  PG-13   \n",
       "Titanic                                                 194  PG-13   \n",
       "Jurassic World                                          124  PG-13   \n",
       "The Avengers                                            143  PG-13   \n",
       "Star Wars: Episode VIII - The Last Jedi                 152  PG-13   \n",
       "\n",
       "                                           release_month  \\\n",
       "title                                                      \n",
       "Star Wars: Episode VII - The Force Awakens      December   \n",
       "Avengers: Endgame                                  April   \n",
       "Avatar                                          December   \n",
       "Black Panther                                   February   \n",
       "Avengers: Infinity War                             April   \n",
       "Titanic                                         December   \n",
       "Jurassic World                                      June   \n",
       "The Avengers                                       April   \n",
       "Star Wars: Episode VIII - The Last Jedi         December   \n",
       "\n",
       "                                                                          genres  \n",
       "title                                                                             \n",
       "Star Wars: Episode VII - The Force Awakens           [Action, Adventure, Sci-Fi]  \n",
       "Avengers: Endgame                             [Action, Adventure, Drama, Sci-Fi]  \n",
       "Avatar                                      [Action, Adventure, Fantasy, Sci-Fi]  \n",
       "Black Panther                                        [Action, Adventure, Sci-Fi]  \n",
       "Avengers: Infinity War                               [Action, Adventure, Sci-Fi]  \n",
       "Titanic                                                         [Drama, Romance]  \n",
       "Jurassic World                                       [Action, Adventure, Sci-Fi]  \n",
       "The Avengers                                         [Action, Adventure, Sci-Fi]  \n",
       "Star Wars: Episode VIII - The Last Jedi     [Action, Adventure, Fantasy, Sci-Fi]  "
      ]
     },
     "execution_count": 28,
     "metadata": {},
     "output_type": "execute_result"
    }
   ],
   "source": [
    "lifetime_page_data = pd.DataFrame(lifetime_page_data)  \n",
    "lifetime_page_data.set_index('title', inplace=True)\n",
    "\n",
    "lifetime_page_data"
   ]
  },
  {
   "cell_type": "code",
   "execution_count": 33,
   "metadata": {},
   "outputs": [
    {
     "data": {
      "text/html": [
       "<div>\n",
       "<style scoped>\n",
       "    .dataframe tbody tr th:only-of-type {\n",
       "        vertical-align: middle;\n",
       "    }\n",
       "\n",
       "    .dataframe tbody tr th {\n",
       "        vertical-align: top;\n",
       "    }\n",
       "\n",
       "    .dataframe thead th {\n",
       "        text-align: right;\n",
       "    }\n",
       "</style>\n",
       "<table border=\"1\" class=\"dataframe\">\n",
       "  <thead>\n",
       "    <tr style=\"text-align: right;\">\n",
       "      <th></th>\n",
       "      <th>link_stub</th>\n",
       "      <th>rank</th>\n",
       "      <th>title</th>\n",
       "      <th>lifetime_gross</th>\n",
       "      <th>release_year</th>\n",
       "      <th>domestic_gross</th>\n",
       "      <th>international_gross</th>\n",
       "      <th>worldwide_gross</th>\n",
       "      <th>domestic_opening_gross</th>\n",
       "      <th>runtime_minutes</th>\n",
       "      <th>rating</th>\n",
       "      <th>release_month</th>\n",
       "      <th>genres</th>\n",
       "    </tr>\n",
       "  </thead>\n",
       "  <tbody>\n",
       "    <tr>\n",
       "      <th>Star Wars: Episode VII - The Force Awakens</th>\n",
       "      <td>/title/tt2488496/?ref_=bo_cso_table_1</td>\n",
       "      <td>1</td>\n",
       "      <td>Star Wars: Episode VII - The Force Awakens</td>\n",
       "      <td>$936,662,225</td>\n",
       "      <td>2015</td>\n",
       "      <td>$936,662,225</td>\n",
       "      <td>$1,131,791,908</td>\n",
       "      <td>$2,068,454,133</td>\n",
       "      <td>$247,966,675</td>\n",
       "      <td>138</td>\n",
       "      <td>PG-13</td>\n",
       "      <td>December</td>\n",
       "      <td>[Action, Adventure, Sci-Fi]</td>\n",
       "    </tr>\n",
       "    <tr>\n",
       "      <th>Avengers: Endgame</th>\n",
       "      <td>/title/tt4154796/?ref_=bo_cso_table_2</td>\n",
       "      <td>2</td>\n",
       "      <td>Avengers: Endgame</td>\n",
       "      <td>$858,373,000</td>\n",
       "      <td>2019</td>\n",
       "      <td>$858,373,000</td>\n",
       "      <td>$1,939,427,564</td>\n",
       "      <td>$2,797,800,564</td>\n",
       "      <td>$357,115,007</td>\n",
       "      <td>181</td>\n",
       "      <td>PG-13</td>\n",
       "      <td>April</td>\n",
       "      <td>[Action, Adventure, Drama, Sci-Fi]</td>\n",
       "    </tr>\n",
       "    <tr>\n",
       "      <th>Avatar</th>\n",
       "      <td>/title/tt0499549/?ref_=bo_cso_table_3</td>\n",
       "      <td>3</td>\n",
       "      <td>Avatar</td>\n",
       "      <td>$760,507,625</td>\n",
       "      <td>2009</td>\n",
       "      <td>$760,507,625</td>\n",
       "      <td>$2,029,931,467</td>\n",
       "      <td>$2,790,439,092</td>\n",
       "      <td>$77,025,481</td>\n",
       "      <td>162</td>\n",
       "      <td>PG-13</td>\n",
       "      <td>December</td>\n",
       "      <td>[Action, Adventure, Fantasy, Sci-Fi]</td>\n",
       "    </tr>\n",
       "    <tr>\n",
       "      <th>Black Panther</th>\n",
       "      <td>/title/tt1825683/?ref_=bo_cso_table_4</td>\n",
       "      <td>4</td>\n",
       "      <td>Black Panther</td>\n",
       "      <td>$700,426,566</td>\n",
       "      <td>2018</td>\n",
       "      <td>$700,426,566</td>\n",
       "      <td>$647,171,407</td>\n",
       "      <td>$1,347,597,973</td>\n",
       "      <td>$202,003,951</td>\n",
       "      <td>134</td>\n",
       "      <td>PG-13</td>\n",
       "      <td>February</td>\n",
       "      <td>[Action, Adventure, Sci-Fi]</td>\n",
       "    </tr>\n",
       "    <tr>\n",
       "      <th>Avengers: Infinity War</th>\n",
       "      <td>/title/tt4154756/?ref_=bo_cso_table_5</td>\n",
       "      <td>5</td>\n",
       "      <td>Avengers: Infinity War</td>\n",
       "      <td>$678,815,482</td>\n",
       "      <td>2018</td>\n",
       "      <td>$678,815,482</td>\n",
       "      <td>$1,369,544,272</td>\n",
       "      <td>$2,048,359,754</td>\n",
       "      <td>$257,698,183</td>\n",
       "      <td>149</td>\n",
       "      <td>PG-13</td>\n",
       "      <td>April</td>\n",
       "      <td>[Action, Adventure, Sci-Fi]</td>\n",
       "    </tr>\n",
       "    <tr>\n",
       "      <th>Titanic</th>\n",
       "      <td>/title/tt0120338/?ref_=bo_cso_table_6</td>\n",
       "      <td>6</td>\n",
       "      <td>Titanic</td>\n",
       "      <td>$659,363,944</td>\n",
       "      <td>1997</td>\n",
       "      <td>$659,363,944</td>\n",
       "      <td>$1,812,387,978</td>\n",
       "      <td>$2,471,751,922</td>\n",
       "      <td>$28,638,131</td>\n",
       "      <td>194</td>\n",
       "      <td>PG-13</td>\n",
       "      <td>December</td>\n",
       "      <td>[Drama, Romance]</td>\n",
       "    </tr>\n",
       "    <tr>\n",
       "      <th>Jurassic World</th>\n",
       "      <td>/title/tt0369610/?ref_=bo_cso_table_7</td>\n",
       "      <td>7</td>\n",
       "      <td>Jurassic World</td>\n",
       "      <td>$652,295,625</td>\n",
       "      <td>2015</td>\n",
       "      <td>$652,295,625</td>\n",
       "      <td>$1,018,130,819</td>\n",
       "      <td>$1,670,426,444</td>\n",
       "      <td>$208,806,270</td>\n",
       "      <td>124</td>\n",
       "      <td>PG-13</td>\n",
       "      <td>June</td>\n",
       "      <td>[Action, Adventure, Sci-Fi]</td>\n",
       "    </tr>\n",
       "    <tr>\n",
       "      <th>The Avengers</th>\n",
       "      <td>/title/tt0848228/?ref_=bo_cso_table_8</td>\n",
       "      <td>8</td>\n",
       "      <td>The Avengers</td>\n",
       "      <td>$623,357,910</td>\n",
       "      <td>2012</td>\n",
       "      <td>$623,357,910</td>\n",
       "      <td>$895,457,605</td>\n",
       "      <td>$1,518,815,515</td>\n",
       "      <td>$207,438,708</td>\n",
       "      <td>143</td>\n",
       "      <td>PG-13</td>\n",
       "      <td>April</td>\n",
       "      <td>[Action, Adventure, Sci-Fi]</td>\n",
       "    </tr>\n",
       "    <tr>\n",
       "      <th>Star Wars: Episode VIII - The Last Jedi</th>\n",
       "      <td>/title/tt2527336/?ref_=bo_cso_table_9</td>\n",
       "      <td>9</td>\n",
       "      <td>Star Wars: Episode VIII - The Last Jedi</td>\n",
       "      <td>$620,181,382</td>\n",
       "      <td>2017</td>\n",
       "      <td>$620,181,382</td>\n",
       "      <td>$712,516,117</td>\n",
       "      <td>$1,332,697,499</td>\n",
       "      <td>$220,009,584</td>\n",
       "      <td>152</td>\n",
       "      <td>PG-13</td>\n",
       "      <td>December</td>\n",
       "      <td>[Action, Adventure, Fantasy, Sci-Fi]</td>\n",
       "    </tr>\n",
       "  </tbody>\n",
       "</table>\n",
       "</div>"
      ],
      "text/plain": [
       "                                                                        link_stub  \\\n",
       "Star Wars: Episode VII - The Force Awakens  /title/tt2488496/?ref_=bo_cso_table_1   \n",
       "Avengers: Endgame                           /title/tt4154796/?ref_=bo_cso_table_2   \n",
       "Avatar                                      /title/tt0499549/?ref_=bo_cso_table_3   \n",
       "Black Panther                               /title/tt1825683/?ref_=bo_cso_table_4   \n",
       "Avengers: Infinity War                      /title/tt4154756/?ref_=bo_cso_table_5   \n",
       "Titanic                                     /title/tt0120338/?ref_=bo_cso_table_6   \n",
       "Jurassic World                              /title/tt0369610/?ref_=bo_cso_table_7   \n",
       "The Avengers                                /title/tt0848228/?ref_=bo_cso_table_8   \n",
       "Star Wars: Episode VIII - The Last Jedi     /title/tt2527336/?ref_=bo_cso_table_9   \n",
       "\n",
       "                                           rank  \\\n",
       "Star Wars: Episode VII - The Force Awakens    1   \n",
       "Avengers: Endgame                             2   \n",
       "Avatar                                        3   \n",
       "Black Panther                                 4   \n",
       "Avengers: Infinity War                        5   \n",
       "Titanic                                       6   \n",
       "Jurassic World                                7   \n",
       "The Avengers                                  8   \n",
       "Star Wars: Episode VIII - The Last Jedi       9   \n",
       "\n",
       "                                                                                 title  \\\n",
       "Star Wars: Episode VII - The Force Awakens  Star Wars: Episode VII - The Force Awakens   \n",
       "Avengers: Endgame                                                    Avengers: Endgame   \n",
       "Avatar                                                                          Avatar   \n",
       "Black Panther                                                            Black Panther   \n",
       "Avengers: Infinity War                                          Avengers: Infinity War   \n",
       "Titanic                                                                        Titanic   \n",
       "Jurassic World                                                          Jurassic World   \n",
       "The Avengers                                                              The Avengers   \n",
       "Star Wars: Episode VIII - The Last Jedi        Star Wars: Episode VIII - The Last Jedi   \n",
       "\n",
       "                                           lifetime_gross release_year  \\\n",
       "Star Wars: Episode VII - The Force Awakens   $936,662,225         2015   \n",
       "Avengers: Endgame                            $858,373,000         2019   \n",
       "Avatar                                       $760,507,625         2009   \n",
       "Black Panther                                $700,426,566         2018   \n",
       "Avengers: Infinity War                       $678,815,482         2018   \n",
       "Titanic                                      $659,363,944         1997   \n",
       "Jurassic World                               $652,295,625         2015   \n",
       "The Avengers                                 $623,357,910         2012   \n",
       "Star Wars: Episode VIII - The Last Jedi      $620,181,382         2017   \n",
       "\n",
       "                                           domestic_gross international_gross  \\\n",
       "Star Wars: Episode VII - The Force Awakens   $936,662,225      $1,131,791,908   \n",
       "Avengers: Endgame                            $858,373,000      $1,939,427,564   \n",
       "Avatar                                       $760,507,625      $2,029,931,467   \n",
       "Black Panther                                $700,426,566        $647,171,407   \n",
       "Avengers: Infinity War                       $678,815,482      $1,369,544,272   \n",
       "Titanic                                      $659,363,944      $1,812,387,978   \n",
       "Jurassic World                               $652,295,625      $1,018,130,819   \n",
       "The Avengers                                 $623,357,910        $895,457,605   \n",
       "Star Wars: Episode VIII - The Last Jedi      $620,181,382        $712,516,117   \n",
       "\n",
       "                                           worldwide_gross  \\\n",
       "Star Wars: Episode VII - The Force Awakens  $2,068,454,133   \n",
       "Avengers: Endgame                           $2,797,800,564   \n",
       "Avatar                                      $2,790,439,092   \n",
       "Black Panther                               $1,347,597,973   \n",
       "Avengers: Infinity War                      $2,048,359,754   \n",
       "Titanic                                     $2,471,751,922   \n",
       "Jurassic World                              $1,670,426,444   \n",
       "The Avengers                                $1,518,815,515   \n",
       "Star Wars: Episode VIII - The Last Jedi     $1,332,697,499   \n",
       "\n",
       "                                           domestic_opening_gross  \\\n",
       "Star Wars: Episode VII - The Force Awakens           $247,966,675   \n",
       "Avengers: Endgame                                    $357,115,007   \n",
       "Avatar                                                $77,025,481   \n",
       "Black Panther                                        $202,003,951   \n",
       "Avengers: Infinity War                               $257,698,183   \n",
       "Titanic                                               $28,638,131   \n",
       "Jurassic World                                       $208,806,270   \n",
       "The Avengers                                         $207,438,708   \n",
       "Star Wars: Episode VIII - The Last Jedi              $220,009,584   \n",
       "\n",
       "                                            runtime_minutes rating  \\\n",
       "Star Wars: Episode VII - The Force Awakens              138  PG-13   \n",
       "Avengers: Endgame                                       181  PG-13   \n",
       "Avatar                                                  162  PG-13   \n",
       "Black Panther                                           134  PG-13   \n",
       "Avengers: Infinity War                                  149  PG-13   \n",
       "Titanic                                                 194  PG-13   \n",
       "Jurassic World                                          124  PG-13   \n",
       "The Avengers                                            143  PG-13   \n",
       "Star Wars: Episode VIII - The Last Jedi                 152  PG-13   \n",
       "\n",
       "                                           release_month  \\\n",
       "Star Wars: Episode VII - The Force Awakens      December   \n",
       "Avengers: Endgame                                  April   \n",
       "Avatar                                          December   \n",
       "Black Panther                                   February   \n",
       "Avengers: Infinity War                             April   \n",
       "Titanic                                         December   \n",
       "Jurassic World                                      June   \n",
       "The Avengers                                       April   \n",
       "Star Wars: Episode VIII - The Last Jedi         December   \n",
       "\n",
       "                                                                          genres  \n",
       "Star Wars: Episode VII - The Force Awakens           [Action, Adventure, Sci-Fi]  \n",
       "Avengers: Endgame                             [Action, Adventure, Drama, Sci-Fi]  \n",
       "Avatar                                      [Action, Adventure, Fantasy, Sci-Fi]  \n",
       "Black Panther                                        [Action, Adventure, Sci-Fi]  \n",
       "Avengers: Infinity War                               [Action, Adventure, Sci-Fi]  \n",
       "Titanic                                                         [Drama, Romance]  \n",
       "Jurassic World                                       [Action, Adventure, Sci-Fi]  \n",
       "The Avengers                                         [Action, Adventure, Sci-Fi]  \n",
       "Star Wars: Episode VIII - The Last Jedi     [Action, Adventure, Fantasy, Sci-Fi]  "
      ]
     },
     "execution_count": 33,
     "metadata": {},
     "output_type": "execute_result"
    }
   ],
   "source": [
    "lifetime_movies = lifetime_movies.merge(lifetime_page_data, left_index=True, right_index=True)\n",
    "\n",
    "lifetime_movies"
   ]
  },
  {
   "cell_type": "markdown",
   "metadata": {},
   "source": [
    "#### Director & Actors"
   ]
  },
  {
   "cell_type": "code",
   "execution_count": 30,
   "metadata": {},
   "outputs": [],
   "source": [
    "url = 'https://www.boxofficemojo.com/title/tt2488496/credits/?ref_=bo_tt_tab'\n",
    "response = requests.get(url)\n",
    "page = response.text\n",
    "soup = BeautifulSoup(page, 'lxml')"
   ]
  },
  {
   "cell_type": "code",
   "execution_count": 31,
   "metadata": {},
   "outputs": [
    {
     "data": {
      "text/plain": [
       "['Daisy Ridley', 'John Boyega', 'Oscar Isaac', 'Domhnall Gleeson']"
      ]
     },
     "execution_count": 31,
     "metadata": {},
     "output_type": "execute_result"
    }
   ],
   "source": [
    "casts = soup.find('table', id = 'principalCast').find_all('a', attrs={'class':'a-link-normal'})\n",
    "actors = []\n",
    "for cast in casts:\n",
    "    cast = cast.text.split('\\n')[0]\n",
    "    actors += [cast]\n",
    "actors"
   ]
  },
  {
   "cell_type": "code",
   "execution_count": 32,
   "metadata": {},
   "outputs": [
    {
     "ename": "ValueError",
     "evalue": "Length mismatch: Expected axis has 5 elements, new values have 6 elements",
     "output_type": "error",
     "traceback": [
      "\u001b[0;31m---------------------------------------------------------------------------\u001b[0m",
      "\u001b[0;31mValueError\u001b[0m                                Traceback (most recent call last)",
      "\u001b[0;32m<ipython-input-32-8aff85f81117>\u001b[0m in \u001b[0;36m<module>\u001b[0;34m\u001b[0m\n\u001b[1;32m      1\u001b[0m \u001b[0mmovies\u001b[0m \u001b[0;34m=\u001b[0m \u001b[0mpd\u001b[0m\u001b[0;34m.\u001b[0m\u001b[0mDataFrame\u001b[0m\u001b[0;34m(\u001b[0m\u001b[0mmovies\u001b[0m\u001b[0;34m)\u001b[0m\u001b[0;34m.\u001b[0m\u001b[0mT\u001b[0m  \u001b[0;31m#transpose\u001b[0m\u001b[0;34m\u001b[0m\u001b[0;34m\u001b[0m\u001b[0m\n\u001b[0;32m----> 2\u001b[0;31m movies.columns = ['link_stub', 'title', 'rank_g_movies', \n\u001b[0m\u001b[1;32m      3\u001b[0m                     'lifetime_gross', 'rank_overall', 'year']\n\u001b[1;32m      4\u001b[0m \u001b[0;34m\u001b[0m\u001b[0m\n\u001b[1;32m      5\u001b[0m \u001b[0mg_movies\u001b[0m\u001b[0;34m.\u001b[0m\u001b[0mhead\u001b[0m\u001b[0;34m(\u001b[0m\u001b[0;34m)\u001b[0m\u001b[0;34m\u001b[0m\u001b[0;34m\u001b[0m\u001b[0m\n",
      "\u001b[0;32m~/opt/anaconda3/lib/python3.8/site-packages/pandas/core/generic.py\u001b[0m in \u001b[0;36m__setattr__\u001b[0;34m(self, name, value)\u001b[0m\n\u001b[1;32m   5285\u001b[0m         \u001b[0;32mtry\u001b[0m\u001b[0;34m:\u001b[0m\u001b[0;34m\u001b[0m\u001b[0;34m\u001b[0m\u001b[0m\n\u001b[1;32m   5286\u001b[0m             \u001b[0mobject\u001b[0m\u001b[0;34m.\u001b[0m\u001b[0m__getattribute__\u001b[0m\u001b[0;34m(\u001b[0m\u001b[0mself\u001b[0m\u001b[0;34m,\u001b[0m \u001b[0mname\u001b[0m\u001b[0;34m)\u001b[0m\u001b[0;34m\u001b[0m\u001b[0;34m\u001b[0m\u001b[0m\n\u001b[0;32m-> 5287\u001b[0;31m             \u001b[0;32mreturn\u001b[0m \u001b[0mobject\u001b[0m\u001b[0;34m.\u001b[0m\u001b[0m__setattr__\u001b[0m\u001b[0;34m(\u001b[0m\u001b[0mself\u001b[0m\u001b[0;34m,\u001b[0m \u001b[0mname\u001b[0m\u001b[0;34m,\u001b[0m \u001b[0mvalue\u001b[0m\u001b[0;34m)\u001b[0m\u001b[0;34m\u001b[0m\u001b[0;34m\u001b[0m\u001b[0m\n\u001b[0m\u001b[1;32m   5288\u001b[0m         \u001b[0;32mexcept\u001b[0m \u001b[0mAttributeError\u001b[0m\u001b[0;34m:\u001b[0m\u001b[0;34m\u001b[0m\u001b[0;34m\u001b[0m\u001b[0m\n\u001b[1;32m   5289\u001b[0m             \u001b[0;32mpass\u001b[0m\u001b[0;34m\u001b[0m\u001b[0;34m\u001b[0m\u001b[0m\n",
      "\u001b[0;32mpandas/_libs/properties.pyx\u001b[0m in \u001b[0;36mpandas._libs.properties.AxisProperty.__set__\u001b[0;34m()\u001b[0m\n",
      "\u001b[0;32m~/opt/anaconda3/lib/python3.8/site-packages/pandas/core/generic.py\u001b[0m in \u001b[0;36m_set_axis\u001b[0;34m(self, axis, labels)\u001b[0m\n\u001b[1;32m    659\u001b[0m \u001b[0;34m\u001b[0m\u001b[0m\n\u001b[1;32m    660\u001b[0m     \u001b[0;32mdef\u001b[0m \u001b[0m_set_axis\u001b[0m\u001b[0;34m(\u001b[0m\u001b[0mself\u001b[0m\u001b[0;34m,\u001b[0m \u001b[0maxis\u001b[0m\u001b[0;34m,\u001b[0m \u001b[0mlabels\u001b[0m\u001b[0;34m)\u001b[0m \u001b[0;34m->\u001b[0m \u001b[0;32mNone\u001b[0m\u001b[0;34m:\u001b[0m\u001b[0;34m\u001b[0m\u001b[0;34m\u001b[0m\u001b[0m\n\u001b[0;32m--> 661\u001b[0;31m         \u001b[0mself\u001b[0m\u001b[0;34m.\u001b[0m\u001b[0m_data\u001b[0m\u001b[0;34m.\u001b[0m\u001b[0mset_axis\u001b[0m\u001b[0;34m(\u001b[0m\u001b[0maxis\u001b[0m\u001b[0;34m,\u001b[0m \u001b[0mlabels\u001b[0m\u001b[0;34m)\u001b[0m\u001b[0;34m\u001b[0m\u001b[0;34m\u001b[0m\u001b[0m\n\u001b[0m\u001b[1;32m    662\u001b[0m         \u001b[0mself\u001b[0m\u001b[0;34m.\u001b[0m\u001b[0m_clear_item_cache\u001b[0m\u001b[0;34m(\u001b[0m\u001b[0;34m)\u001b[0m\u001b[0;34m\u001b[0m\u001b[0;34m\u001b[0m\u001b[0m\n\u001b[1;32m    663\u001b[0m \u001b[0;34m\u001b[0m\u001b[0m\n",
      "\u001b[0;32m~/opt/anaconda3/lib/python3.8/site-packages/pandas/core/internals/managers.py\u001b[0m in \u001b[0;36mset_axis\u001b[0;34m(self, axis, new_labels)\u001b[0m\n\u001b[1;32m    175\u001b[0m \u001b[0;34m\u001b[0m\u001b[0m\n\u001b[1;32m    176\u001b[0m         \u001b[0;32mif\u001b[0m \u001b[0mnew_len\u001b[0m \u001b[0;34m!=\u001b[0m \u001b[0mold_len\u001b[0m\u001b[0;34m:\u001b[0m\u001b[0;34m\u001b[0m\u001b[0;34m\u001b[0m\u001b[0m\n\u001b[0;32m--> 177\u001b[0;31m             raise ValueError(\n\u001b[0m\u001b[1;32m    178\u001b[0m                 \u001b[0;34mf\"Length mismatch: Expected axis has {old_len} elements, new \"\u001b[0m\u001b[0;34m\u001b[0m\u001b[0;34m\u001b[0m\u001b[0m\n\u001b[1;32m    179\u001b[0m                 \u001b[0;34mf\"values have {new_len} elements\"\u001b[0m\u001b[0;34m\u001b[0m\u001b[0;34m\u001b[0m\u001b[0m\n",
      "\u001b[0;31mValueError\u001b[0m: Length mismatch: Expected axis has 5 elements, new values have 6 elements"
     ]
    }
   ],
   "source": [
    "movies = pd.DataFrame(movies).T  #transpose\n",
    "movies.columns = ['link_stub', 'title', 'rank_g_movies', \n",
    "                    'lifetime_gross', 'rank_overall', 'year']\n",
    "\n",
    "g_movies.head()"
   ]
  },
  {
   "cell_type": "code",
   "execution_count": null,
   "metadata": {},
   "outputs": [],
   "source": [
    "g_movies_page_info_list = []\n",
    "\n",
    "for link in g_movies.link_stub:\n",
    "    g_movies_page_info_list.append(get_movie_dict(link))"
   ]
  },
  {
   "cell_type": "markdown",
   "metadata": {},
   "source": [
    "### IMDB Top 100 Actors 2018"
   ]
  },
  {
   "cell_type": "code",
   "execution_count": null,
   "metadata": {},
   "outputs": [],
   "source": [
    "url = 'https://www.imdb.com/list/ls023242359/'\n",
    "response = requests.get(url)\n",
    "page = response.text\n",
    "soup = BeautifulSoup(page, 'lxml')"
   ]
  },
  {
   "cell_type": "code",
   "execution_count": null,
   "metadata": {},
   "outputs": [],
   "source": [
    "soup.find_all('span', class_='lister-item-index')[0].text"
   ]
  },
  {
   "cell_type": "code",
   "execution_count": null,
   "metadata": {},
   "outputs": [],
   "source": [
    "soup.find('div', class_='lister-item-content').find_all('a')"
   ]
  },
  {
   "cell_type": "code",
   "execution_count": null,
   "metadata": {
    "scrolled": false
   },
   "outputs": [],
   "source": [
    "soup.find('div', class_='lister-item-content').find('a').text.split('\\n')[0]"
   ]
  },
  {
   "cell_type": "code",
   "execution_count": null,
   "metadata": {},
   "outputs": [],
   "source": [
    "top_list = soup.find('div', class_='lister-list').find_all('a')\n",
    "top_list"
   ]
  },
  {
   "cell_type": "code",
   "execution_count": null,
   "metadata": {},
   "outputs": [],
   "source": [
    "soup.find('div', class_='lister-list').find_all('a')[1].text.split('\\n')[0]"
   ]
  },
  {
   "cell_type": "code",
   "execution_count": null,
   "metadata": {},
   "outputs": [],
   "source": [
    "\n",
    "top_actor = []\n",
    "for top in top_list:\n",
    "    top = top.text.split('\\n')[0]\n",
    "    top_actor += [top]\n",
    "  \n",
    "top_actor"
   ]
  },
  {
   "cell_type": "code",
   "execution_count": null,
   "metadata": {},
   "outputs": [],
   "source": [
    "from selenium import webdriver\n",
    "from selenium.webdriver.common.keys import Keys\n",
    "\n",
    "# chromedriver = \"/Applications/chromedriver\" # path to the chromedriver executable\n",
    "os.environ[\"webdriver.chrome.driver\"] = chromedriver\n",
    "driver = webdriver.Chrome(chromedriver)\n",
    "driver.get('https://www.imdb.com/list/ls023242359/')\n",
    "\n",
    "assert \"imdb\" in driver.title\n",
    "\n",
    "continue_link = driver.find_element_by_tag_name('a')\n",
    "elem = driver.find_elements_by_xpath(\"//*[@href]/name*\")\n",
    "#x = str(continue_link)\n",
    "#print(continue_link)\n",
    "print(elem)"
   ]
  },
  {
   "cell_type": "code",
   "execution_count": null,
   "metadata": {},
   "outputs": [],
   "source": [
    "soup.find('div', class_='lister-list').find_all('a').get('href', ref_='nmls_hd')"
   ]
  },
  {
   "cell_type": "code",
   "execution_count": null,
   "metadata": {},
   "outputs": [],
   "source": []
  }
 ],
 "metadata": {
  "kernelspec": {
   "display_name": "Python 3",
   "language": "python",
   "name": "python3"
  },
  "language_info": {
   "codemirror_mode": {
    "name": "ipython",
    "version": 3
   },
   "file_extension": ".py",
   "mimetype": "text/x-python",
   "name": "python",
   "nbconvert_exporter": "python",
   "pygments_lexer": "ipython3",
   "version": "3.8.3"
  }
 },
 "nbformat": 4,
 "nbformat_minor": 4
}
